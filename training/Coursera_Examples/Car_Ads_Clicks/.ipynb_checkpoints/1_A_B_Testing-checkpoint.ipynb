{
 "cells": [
  {
   "cell_type": "code",
   "execution_count": 1,
   "metadata": {
    "collapsed": true
   },
   "outputs": [],
   "source": [
    "import pandas as pd\n",
    "from pandas import read_csv\n",
    "import numpy as np\n",
    "import random as rnd\n",
    "\n",
    "# visualization\n",
    "import seaborn as sns\n",
    "import matplotlib.pyplot as plt\n",
    "%matplotlib inline\n",
    "\n",
    "import warnings\n",
    "warnings.filterwarnings('ignore')"
   ]
  },
  {
   "cell_type": "markdown",
   "metadata": {},
   "source": [
    "# 1. Import Data and do data quality inspection"
   ]
  },
  {
   "cell_type": "code",
   "execution_count": 2,
   "metadata": {
    "collapsed": false
   },
   "outputs": [
    {
     "data": {
      "text/html": [
       "<div>\n",
       "<style scoped>\n",
       "    .dataframe tbody tr th:only-of-type {\n",
       "        vertical-align: middle;\n",
       "    }\n",
       "\n",
       "    .dataframe tbody tr th {\n",
       "        vertical-align: top;\n",
       "    }\n",
       "\n",
       "    .dataframe thead th {\n",
       "        text-align: right;\n",
       "    }\n",
       "</style>\n",
       "<table border=\"1\" class=\"dataframe\">\n",
       "  <thead>\n",
       "    <tr style=\"text-align: right;\">\n",
       "      <th></th>\n",
       "      <th>0</th>\n",
       "      <th>1</th>\n",
       "      <th>2</th>\n",
       "      <th>3</th>\n",
       "      <th>4</th>\n",
       "    </tr>\n",
       "  </thead>\n",
       "  <tbody>\n",
       "    <tr>\n",
       "      <th>src_ad_id</th>\n",
       "      <td>1.12301e+09</td>\n",
       "      <td>1.01832e+09</td>\n",
       "      <td>1.09285e+09</td>\n",
       "      <td>1.15116e+09</td>\n",
       "      <td>1.06162e+09</td>\n",
       "    </tr>\n",
       "    <tr>\n",
       "      <th>telclicks</th>\n",
       "      <td>1</td>\n",
       "      <td>0</td>\n",
       "      <td>0</td>\n",
       "      <td>3</td>\n",
       "      <td>0</td>\n",
       "    </tr>\n",
       "    <tr>\n",
       "      <th>bids</th>\n",
       "      <td>0</td>\n",
       "      <td>0</td>\n",
       "      <td>0</td>\n",
       "      <td>0</td>\n",
       "      <td>0</td>\n",
       "    </tr>\n",
       "    <tr>\n",
       "      <th>kleur</th>\n",
       "      <td>Zilver of Grijs</td>\n",
       "      <td>Zilver of Grijs</td>\n",
       "      <td>Zilver of Grijs</td>\n",
       "      <td>Zwart</td>\n",
       "      <td>Zilver of Grijs</td>\n",
       "    </tr>\n",
       "    <tr>\n",
       "      <th>carrosserie</th>\n",
       "      <td>Hatchback (3/5-deurs)</td>\n",
       "      <td>Hatchback (3/5-deurs)</td>\n",
       "      <td>Stationwagon</td>\n",
       "      <td>Sedan (2/4-deurs)</td>\n",
       "      <td>MPV</td>\n",
       "    </tr>\n",
       "    <tr>\n",
       "      <th>kmstand</th>\n",
       "      <td>44958</td>\n",
       "      <td>25072</td>\n",
       "      <td>301409</td>\n",
       "      <td>194481</td>\n",
       "      <td>238101</td>\n",
       "    </tr>\n",
       "    <tr>\n",
       "      <th>days_live</th>\n",
       "      <td>31</td>\n",
       "      <td>31</td>\n",
       "      <td>31</td>\n",
       "      <td>31</td>\n",
       "      <td>9</td>\n",
       "    </tr>\n",
       "    <tr>\n",
       "      <th>photo_cnt</th>\n",
       "      <td>16</td>\n",
       "      <td>22</td>\n",
       "      <td>12</td>\n",
       "      <td>21</td>\n",
       "      <td>8</td>\n",
       "    </tr>\n",
       "    <tr>\n",
       "      <th>aantaldeuren</th>\n",
       "      <td>3</td>\n",
       "      <td>5</td>\n",
       "      <td>5</td>\n",
       "      <td>4</td>\n",
       "      <td>4</td>\n",
       "    </tr>\n",
       "    <tr>\n",
       "      <th>n_asq</th>\n",
       "      <td>0</td>\n",
       "      <td>1</td>\n",
       "      <td>0</td>\n",
       "      <td>1</td>\n",
       "      <td>0</td>\n",
       "    </tr>\n",
       "    <tr>\n",
       "      <th>bouwjaar</th>\n",
       "      <td>2013</td>\n",
       "      <td>2015</td>\n",
       "      <td>2004</td>\n",
       "      <td>2007</td>\n",
       "      <td>2002</td>\n",
       "    </tr>\n",
       "    <tr>\n",
       "      <th>emissie</th>\n",
       "      <td>105</td>\n",
       "      <td>122</td>\n",
       "      <td>132</td>\n",
       "      <td>314</td>\n",
       "      <td>178</td>\n",
       "    </tr>\n",
       "    <tr>\n",
       "      <th>energielabel</th>\n",
       "      <td>A</td>\n",
       "      <td>C</td>\n",
       "      <td>B</td>\n",
       "      <td>G</td>\n",
       "      <td>D</td>\n",
       "    </tr>\n",
       "    <tr>\n",
       "      <th>brand</th>\n",
       "      <td>VOLKSWAGEN</td>\n",
       "      <td>VOLKSWAGEN</td>\n",
       "      <td>OPEL</td>\n",
       "      <td>AUDI</td>\n",
       "      <td>RENAULT</td>\n",
       "    </tr>\n",
       "    <tr>\n",
       "      <th>l2</th>\n",
       "      <td>None</td>\n",
       "      <td>157</td>\n",
       "      <td>None</td>\n",
       "      <td>93</td>\n",
       "      <td>None</td>\n",
       "    </tr>\n",
       "    <tr>\n",
       "      <th>ad_start_dt</th>\n",
       "      <td>11/26/2016</td>\n",
       "      <td>11/11/2016</td>\n",
       "      <td>11/02/2016</td>\n",
       "      <td>11/11/2016</td>\n",
       "      <td>11/08/2016</td>\n",
       "    </tr>\n",
       "    <tr>\n",
       "      <th>vermogen</th>\n",
       "      <td>44</td>\n",
       "      <td>92</td>\n",
       "      <td>59</td>\n",
       "      <td>331</td>\n",
       "      <td>79</td>\n",
       "    </tr>\n",
       "    <tr>\n",
       "      <th>webclicks</th>\n",
       "      <td>2</td>\n",
       "      <td>4</td>\n",
       "      <td>3</td>\n",
       "      <td>13</td>\n",
       "      <td>0</td>\n",
       "    </tr>\n",
       "    <tr>\n",
       "      <th>model</th>\n",
       "      <td>UP</td>\n",
       "      <td>Golf</td>\n",
       "      <td>Astra</td>\n",
       "      <td>S8</td>\n",
       "      <td>Scenic</td>\n",
       "    </tr>\n",
       "    <tr>\n",
       "      <th>aantalstoelen</th>\n",
       "      <td>4</td>\n",
       "      <td>5</td>\n",
       "      <td>5</td>\n",
       "      <td>5</td>\n",
       "      <td>5</td>\n",
       "    </tr>\n",
       "    <tr>\n",
       "      <th>price</th>\n",
       "      <td>79500</td>\n",
       "      <td>189500</td>\n",
       "      <td>27500</td>\n",
       "      <td>199000</td>\n",
       "      <td>12500</td>\n",
       "    </tr>\n",
       "    <tr>\n",
       "      <th>group</th>\n",
       "      <td>A</td>\n",
       "      <td>A</td>\n",
       "      <td>B</td>\n",
       "      <td>A</td>\n",
       "      <td>A</td>\n",
       "    </tr>\n",
       "  </tbody>\n",
       "</table>\n",
       "</div>"
      ],
      "text/plain": [
       "                                   0                      1                2  \\\n",
       "src_ad_id                1.12301e+09            1.01832e+09      1.09285e+09   \n",
       "telclicks                          1                      0                0   \n",
       "bids                               0                      0                0   \n",
       "kleur                Zilver of Grijs        Zilver of Grijs  Zilver of Grijs   \n",
       "carrosserie    Hatchback (3/5-deurs)  Hatchback (3/5-deurs)     Stationwagon   \n",
       "kmstand                        44958                  25072           301409   \n",
       "days_live                         31                     31               31   \n",
       "photo_cnt                         16                     22               12   \n",
       "aantaldeuren                       3                      5                5   \n",
       "n_asq                              0                      1                0   \n",
       "bouwjaar                        2013                   2015             2004   \n",
       "emissie                          105                    122              132   \n",
       "energielabel                       A                      C                B   \n",
       "brand                     VOLKSWAGEN             VOLKSWAGEN             OPEL   \n",
       "l2                              None                    157             None   \n",
       "ad_start_dt               11/26/2016             11/11/2016       11/02/2016   \n",
       "vermogen                          44                     92               59   \n",
       "webclicks                          2                      4                3   \n",
       "model                             UP                   Golf            Astra   \n",
       "aantalstoelen                      4                      5                5   \n",
       "price                          79500                 189500            27500   \n",
       "group                              A                      A                B   \n",
       "\n",
       "                               3                4  \n",
       "src_ad_id            1.15116e+09      1.06162e+09  \n",
       "telclicks                      3                0  \n",
       "bids                           0                0  \n",
       "kleur                      Zwart  Zilver of Grijs  \n",
       "carrosserie    Sedan (2/4-deurs)              MPV  \n",
       "kmstand                   194481           238101  \n",
       "days_live                     31                9  \n",
       "photo_cnt                     21                8  \n",
       "aantaldeuren                   4                4  \n",
       "n_asq                          1                0  \n",
       "bouwjaar                    2007             2002  \n",
       "emissie                      314              178  \n",
       "energielabel                   G                D  \n",
       "brand                       AUDI          RENAULT  \n",
       "l2                            93             None  \n",
       "ad_start_dt           11/11/2016       11/08/2016  \n",
       "vermogen                     331               79  \n",
       "webclicks                     13                0  \n",
       "model                         S8           Scenic  \n",
       "aantalstoelen                  5                5  \n",
       "price                     199000            12500  \n",
       "group                          A                A  "
      ]
     },
     "execution_count": 2,
     "metadata": {},
     "output_type": "execute_result"
    }
   ],
   "source": [
    "data = pd.read_csv(\"Car_dataset.csv\") \n",
    "data['emissie']= pd.to_numeric(data['emissie'], errors='coerce')\n",
    "data.head(5).T"
   ]
  },
  {
   "cell_type": "code",
   "execution_count": 3,
   "metadata": {
    "collapsed": false
   },
   "outputs": [
    {
     "data": {
      "text/html": [
       "<div>\n",
       "<style scoped>\n",
       "    .dataframe tbody tr th:only-of-type {\n",
       "        vertical-align: middle;\n",
       "    }\n",
       "\n",
       "    .dataframe tbody tr th {\n",
       "        vertical-align: top;\n",
       "    }\n",
       "\n",
       "    .dataframe thead th {\n",
       "        text-align: right;\n",
       "    }\n",
       "</style>\n",
       "<table border=\"1\" class=\"dataframe\">\n",
       "  <thead>\n",
       "    <tr style=\"text-align: right;\">\n",
       "      <th></th>\n",
       "      <th>src_ad_id</th>\n",
       "      <th>telclicks</th>\n",
       "      <th>bids</th>\n",
       "      <th>kmstand</th>\n",
       "      <th>days_live</th>\n",
       "      <th>photo_cnt</th>\n",
       "      <th>n_asq</th>\n",
       "      <th>bouwjaar</th>\n",
       "      <th>emissie</th>\n",
       "      <th>vermogen</th>\n",
       "      <th>webclicks</th>\n",
       "      <th>price</th>\n",
       "    </tr>\n",
       "  </thead>\n",
       "  <tbody>\n",
       "    <tr>\n",
       "      <th>count</th>\n",
       "      <td>1.830620e+05</td>\n",
       "      <td>183053.000000</td>\n",
       "      <td>183053.000000</td>\n",
       "      <td>1.816580e+05</td>\n",
       "      <td>183062.000000</td>\n",
       "      <td>183062.000000</td>\n",
       "      <td>183062.000000</td>\n",
       "      <td>183062.000000</td>\n",
       "      <td>182871.000000</td>\n",
       "      <td>183062.000000</td>\n",
       "      <td>183053.000000</td>\n",
       "      <td>1.830550e+05</td>\n",
       "    </tr>\n",
       "    <tr>\n",
       "      <th>mean</th>\n",
       "      <td>1.108543e+09</td>\n",
       "      <td>0.916882</td>\n",
       "      <td>0.678175</td>\n",
       "      <td>1.448657e+05</td>\n",
       "      <td>27.645623</td>\n",
       "      <td>15.560794</td>\n",
       "      <td>0.990522</td>\n",
       "      <td>2007.173160</td>\n",
       "      <td>129.460576</td>\n",
       "      <td>85.587256</td>\n",
       "      <td>2.739442</td>\n",
       "      <td>1.009348e+05</td>\n",
       "    </tr>\n",
       "    <tr>\n",
       "      <th>std</th>\n",
       "      <td>6.720553e+07</td>\n",
       "      <td>2.417552</td>\n",
       "      <td>2.200800</td>\n",
       "      <td>9.322810e+04</td>\n",
       "      <td>20.929081</td>\n",
       "      <td>6.429427</td>\n",
       "      <td>2.706513</td>\n",
       "      <td>5.437412</td>\n",
       "      <td>69.360066</td>\n",
       "      <td>41.243691</td>\n",
       "      <td>6.229385</td>\n",
       "      <td>9.211753e+05</td>\n",
       "    </tr>\n",
       "    <tr>\n",
       "      <th>min</th>\n",
       "      <td>9.929264e+08</td>\n",
       "      <td>0.000000</td>\n",
       "      <td>0.000000</td>\n",
       "      <td>0.000000e+00</td>\n",
       "      <td>0.000000</td>\n",
       "      <td>0.000000</td>\n",
       "      <td>0.000000</td>\n",
       "      <td>1991.000000</td>\n",
       "      <td>0.000000</td>\n",
       "      <td>0.000000</td>\n",
       "      <td>0.000000</td>\n",
       "      <td>0.000000e+00</td>\n",
       "    </tr>\n",
       "    <tr>\n",
       "      <th>25%</th>\n",
       "      <td>1.050803e+09</td>\n",
       "      <td>0.000000</td>\n",
       "      <td>0.000000</td>\n",
       "      <td>7.708925e+04</td>\n",
       "      <td>14.000000</td>\n",
       "      <td>10.000000</td>\n",
       "      <td>0.000000</td>\n",
       "      <td>2003.000000</td>\n",
       "      <td>100.000000</td>\n",
       "      <td>57.000000</td>\n",
       "      <td>0.000000</td>\n",
       "      <td>2.150000e+04</td>\n",
       "    </tr>\n",
       "    <tr>\n",
       "      <th>50%</th>\n",
       "      <td>1.108627e+09</td>\n",
       "      <td>0.000000</td>\n",
       "      <td>0.000000</td>\n",
       "      <td>1.384100e+05</td>\n",
       "      <td>31.000000</td>\n",
       "      <td>15.000000</td>\n",
       "      <td>0.000000</td>\n",
       "      <td>2007.000000</td>\n",
       "      <td>139.000000</td>\n",
       "      <td>77.000000</td>\n",
       "      <td>1.000000</td>\n",
       "      <td>5.950000e+04</td>\n",
       "    </tr>\n",
       "    <tr>\n",
       "      <th>75%</th>\n",
       "      <td>1.166813e+09</td>\n",
       "      <td>1.000000</td>\n",
       "      <td>0.000000</td>\n",
       "      <td>1.999738e+05</td>\n",
       "      <td>31.000000</td>\n",
       "      <td>22.000000</td>\n",
       "      <td>1.000000</td>\n",
       "      <td>2012.000000</td>\n",
       "      <td>173.000000</td>\n",
       "      <td>100.000000</td>\n",
       "      <td>3.000000</td>\n",
       "      <td>1.195000e+05</td>\n",
       "    </tr>\n",
       "    <tr>\n",
       "      <th>max</th>\n",
       "      <td>1.224743e+09</td>\n",
       "      <td>162.000000</td>\n",
       "      <td>124.000000</td>\n",
       "      <td>1.500000e+06</td>\n",
       "      <td>134.000000</td>\n",
       "      <td>24.000000</td>\n",
       "      <td>282.000000</td>\n",
       "      <td>2016.000000</td>\n",
       "      <td>575.000000</td>\n",
       "      <td>594.000000</td>\n",
       "      <td>410.000000</td>\n",
       "      <td>1.000000e+08</td>\n",
       "    </tr>\n",
       "  </tbody>\n",
       "</table>\n",
       "</div>"
      ],
      "text/plain": [
       "          src_ad_id      telclicks           bids       kmstand  \\\n",
       "count  1.830620e+05  183053.000000  183053.000000  1.816580e+05   \n",
       "mean   1.108543e+09       0.916882       0.678175  1.448657e+05   \n",
       "std    6.720553e+07       2.417552       2.200800  9.322810e+04   \n",
       "min    9.929264e+08       0.000000       0.000000  0.000000e+00   \n",
       "25%    1.050803e+09       0.000000       0.000000  7.708925e+04   \n",
       "50%    1.108627e+09       0.000000       0.000000  1.384100e+05   \n",
       "75%    1.166813e+09       1.000000       0.000000  1.999738e+05   \n",
       "max    1.224743e+09     162.000000     124.000000  1.500000e+06   \n",
       "\n",
       "           days_live      photo_cnt          n_asq       bouwjaar  \\\n",
       "count  183062.000000  183062.000000  183062.000000  183062.000000   \n",
       "mean       27.645623      15.560794       0.990522    2007.173160   \n",
       "std        20.929081       6.429427       2.706513       5.437412   \n",
       "min         0.000000       0.000000       0.000000    1991.000000   \n",
       "25%        14.000000      10.000000       0.000000    2003.000000   \n",
       "50%        31.000000      15.000000       0.000000    2007.000000   \n",
       "75%        31.000000      22.000000       1.000000    2012.000000   \n",
       "max       134.000000      24.000000     282.000000    2016.000000   \n",
       "\n",
       "             emissie       vermogen      webclicks         price  \n",
       "count  182871.000000  183062.000000  183053.000000  1.830550e+05  \n",
       "mean      129.460576      85.587256       2.739442  1.009348e+05  \n",
       "std        69.360066      41.243691       6.229385  9.211753e+05  \n",
       "min         0.000000       0.000000       0.000000  0.000000e+00  \n",
       "25%       100.000000      57.000000       0.000000  2.150000e+04  \n",
       "50%       139.000000      77.000000       1.000000  5.950000e+04  \n",
       "75%       173.000000     100.000000       3.000000  1.195000e+05  \n",
       "max       575.000000     594.000000     410.000000  1.000000e+08  "
      ]
     },
     "execution_count": 3,
     "metadata": {},
     "output_type": "execute_result"
    }
   ],
   "source": [
    "data.describe()"
   ]
  },
  {
   "cell_type": "code",
   "execution_count": 14,
   "metadata": {
    "collapsed": false
   },
   "outputs": [
    {
     "data": {
      "text/plain": [
       "<matplotlib.axes._subplots.AxesSubplot at 0x7f02e624a668>"
      ]
     },
     "execution_count": 14,
     "metadata": {},
     "output_type": "execute_result"
    },
    {
     "data": {
      "image/png": "[encoded data removed]",
      "text/plain": [
       "<matplotlib.figure.Figure at 0x7f02e62504e0>"
      ]
     },
     "metadata": {},
     "output_type": "display_data"
    }
   ],
   "source": [
    "data[data['telclicks']>20]['telclicks'].hist()"
   ]
  },
  {
   "cell_type": "code",
   "execution_count": 15,
   "metadata": {
    "collapsed": false
   },
   "outputs": [
    {
     "data": {
      "text/plain": [
       "<matplotlib.axes._subplots.AxesSubplot at 0x7f02e6250400>"
      ]
     },
     "execution_count": 15,
     "metadata": {},
     "output_type": "execute_result"
    },
    {
     "data": {
      "image/png": "[encoded data removed]",
      "text/plain": [
       "<matplotlib.figure.Figure at 0x7f02e6119b00>"
      ]
     },
     "metadata": {},
     "output_type": "display_data"
    }
   ],
   "source": [
    "data[data['n_asq']>20]['n_asq'].hist()"
   ]
  },
  {
   "cell_type": "code",
   "execution_count": 4,
   "metadata": {
    "collapsed": false
   },
   "outputs": [
    {
     "data": {
      "text/plain": [
       "src_ad_id           0\n",
       "telclicks           9\n",
       "bids                9\n",
       "kleur               0\n",
       "carrosserie         0\n",
       "kmstand          1404\n",
       "days_live           0\n",
       "photo_cnt           0\n",
       "aantaldeuren        0\n",
       "n_asq               0\n",
       "bouwjaar            0\n",
       "emissie           191\n",
       "energielabel        0\n",
       "brand               0\n",
       "l2                  0\n",
       "ad_start_dt         0\n",
       "vermogen            0\n",
       "webclicks           9\n",
       "model               1\n",
       "aantalstoelen       1\n",
       "price               7\n",
       "group            8613\n",
       "dtype: int64"
      ]
     },
     "execution_count": 4,
     "metadata": {},
     "output_type": "execute_result"
    }
   ],
   "source": [
    "data.isnull().sum()"
   ]
  },
  {
   "cell_type": "code",
   "execution_count": 5,
   "metadata": {
    "collapsed": false
   },
   "outputs": [
    {
     "data": {
      "text/plain": [
       "A    94281\n",
       "B    80168\n",
       "Name: group, dtype: int64"
      ]
     },
     "execution_count": 5,
     "metadata": {},
     "output_type": "execute_result"
    }
   ],
   "source": [
    "# there seems to be three groups in the data, group A, B and NaN\n",
    "# so encode the NaN group in to group 'missing'\n",
    "data['group'].value_counts()"
   ]
  },
  {
   "cell_type": "code",
   "execution_count": 6,
   "metadata": {
    "collapsed": false
   },
   "outputs": [
    {
     "data": {
      "text/plain": [
       "A          94281\n",
       "B          80168\n",
       "no_test     8613\n",
       "Name: group, dtype: int64"
      ]
     },
     "execution_count": 6,
     "metadata": {},
     "output_type": "execute_result"
    }
   ],
   "source": [
    "data['group'].fillna('no_test', inplace=True)\n",
    "data['group'].value_counts()"
   ]
  },
  {
   "cell_type": "code",
   "execution_count": 7,
   "metadata": {
    "collapsed": false
   },
   "outputs": [
    {
     "data": {
      "text/html": [
       "<div>\n",
       "<style scoped>\n",
       "    .dataframe tbody tr th:only-of-type {\n",
       "        vertical-align: middle;\n",
       "    }\n",
       "\n",
       "    .dataframe tbody tr th {\n",
       "        vertical-align: top;\n",
       "    }\n",
       "\n",
       "    .dataframe thead th {\n",
       "        text-align: right;\n",
       "    }\n",
       "</style>\n",
       "<table border=\"1\" class=\"dataframe\">\n",
       "  <thead>\n",
       "    <tr style=\"text-align: right;\">\n",
       "      <th></th>\n",
       "      <th>telclicks</th>\n",
       "      <th>bids</th>\n",
       "      <th>n_asq</th>\n",
       "      <th>webclicks</th>\n",
       "      <th>model</th>\n",
       "      <th>aantalstoelen</th>\n",
       "      <th>price</th>\n",
       "      <th>group</th>\n",
       "      <th>ad_start_dt</th>\n",
       "    </tr>\n",
       "  </thead>\n",
       "  <tbody>\n",
       "    <tr>\n",
       "      <th>4383</th>\n",
       "      <td>NaN</td>\n",
       "      <td>NaN</td>\n",
       "      <td>0</td>\n",
       "      <td>NaN</td>\n",
       "      <td>5</td>\n",
       "      <td>7</td>\n",
       "      <td>59500.0</td>\n",
       "      <td>B</td>\n",
       "      <td>11/15/2016</td>\n",
       "    </tr>\n",
       "    <tr>\n",
       "      <th>37102</th>\n",
       "      <td>NaN</td>\n",
       "      <td>NaN</td>\n",
       "      <td>0</td>\n",
       "      <td>NaN</td>\n",
       "      <td>323</td>\n",
       "      <td>5</td>\n",
       "      <td>11990.0</td>\n",
       "      <td>B</td>\n",
       "      <td>11/15/2016</td>\n",
       "    </tr>\n",
       "    <tr>\n",
       "      <th>43492</th>\n",
       "      <td>NaN</td>\n",
       "      <td>NaN</td>\n",
       "      <td>0</td>\n",
       "      <td>NaN</td>\n",
       "      <td>Grand Scenic</td>\n",
       "      <td>5</td>\n",
       "      <td>104500.0</td>\n",
       "      <td>A</td>\n",
       "      <td>11/15/2016</td>\n",
       "    </tr>\n",
       "    <tr>\n",
       "      <th>66991</th>\n",
       "      <td>NaN</td>\n",
       "      <td>NaN</td>\n",
       "      <td>0</td>\n",
       "      <td>NaN</td>\n",
       "      <td>Laguna</td>\n",
       "      <td>5</td>\n",
       "      <td>103950.0</td>\n",
       "      <td>B</td>\n",
       "      <td>11/15/2016</td>\n",
       "    </tr>\n",
       "    <tr>\n",
       "      <th>77086</th>\n",
       "      <td>NaN</td>\n",
       "      <td>NaN</td>\n",
       "      <td>0</td>\n",
       "      <td>NaN</td>\n",
       "      <td>LEON</td>\n",
       "      <td>None</td>\n",
       "      <td>154500.0</td>\n",
       "      <td>B</td>\n",
       "      <td>11/16/2016</td>\n",
       "    </tr>\n",
       "    <tr>\n",
       "      <th>95840</th>\n",
       "      <td>NaN</td>\n",
       "      <td>NaN</td>\n",
       "      <td>0</td>\n",
       "      <td>NaN</td>\n",
       "      <td>X1</td>\n",
       "      <td>5</td>\n",
       "      <td>169500.0</td>\n",
       "      <td>B</td>\n",
       "      <td>11/12/2016</td>\n",
       "    </tr>\n",
       "    <tr>\n",
       "      <th>111230</th>\n",
       "      <td>NaN</td>\n",
       "      <td>NaN</td>\n",
       "      <td>0</td>\n",
       "      <td>NaN</td>\n",
       "      <td>?</td>\n",
       "      <td>3</td>\n",
       "      <td>0.0</td>\n",
       "      <td>B</td>\n",
       "      <td>11/15/2016</td>\n",
       "    </tr>\n",
       "    <tr>\n",
       "      <th>162093</th>\n",
       "      <td>NaN</td>\n",
       "      <td>NaN</td>\n",
       "      <td>0</td>\n",
       "      <td>NaN</td>\n",
       "      <td>Polo</td>\n",
       "      <td>5</td>\n",
       "      <td>129000.0</td>\n",
       "      <td>B</td>\n",
       "      <td>11/21/2016</td>\n",
       "    </tr>\n",
       "    <tr>\n",
       "      <th>168050</th>\n",
       "      <td>NaN</td>\n",
       "      <td>NaN</td>\n",
       "      <td>0</td>\n",
       "      <td>NaN</td>\n",
       "      <td>Golf</td>\n",
       "      <td>5</td>\n",
       "      <td>139000.0</td>\n",
       "      <td>B</td>\n",
       "      <td>11/12/2016</td>\n",
       "    </tr>\n",
       "  </tbody>\n",
       "</table>\n",
       "</div>"
      ],
      "text/plain": [
       "        telclicks  bids  n_asq  webclicks         model aantalstoelen  \\\n",
       "4383          NaN   NaN      0        NaN             5             7   \n",
       "37102         NaN   NaN      0        NaN           323             5   \n",
       "43492         NaN   NaN      0        NaN  Grand Scenic             5   \n",
       "66991         NaN   NaN      0        NaN        Laguna             5   \n",
       "77086         NaN   NaN      0        NaN          LEON          None   \n",
       "95840         NaN   NaN      0        NaN            X1             5   \n",
       "111230        NaN   NaN      0        NaN             ?             3   \n",
       "162093        NaN   NaN      0        NaN          Polo             5   \n",
       "168050        NaN   NaN      0        NaN          Golf             5   \n",
       "\n",
       "           price group ad_start_dt  \n",
       "4383     59500.0     B  11/15/2016  \n",
       "37102    11990.0     B  11/15/2016  \n",
       "43492   104500.0     A  11/15/2016  \n",
       "66991   103950.0     B  11/15/2016  \n",
       "77086   154500.0     B  11/16/2016  \n",
       "95840   169500.0     B  11/12/2016  \n",
       "111230       0.0     B  11/15/2016  \n",
       "162093  129000.0     B  11/21/2016  \n",
       "168050  139000.0     B  11/12/2016  "
      ]
     },
     "execution_count": 7,
     "metadata": {},
     "output_type": "execute_result"
    }
   ],
   "source": [
    "# for the rows with null value in telclicks, they also have null value in 'bids', 'webclicks'\n",
    "# so we can fill those columns with zero or remove them \n",
    "data[data['telclicks'].isnull()== True][['telclicks','bids','n_asq','webclicks'\n",
    "                                         ,'model','aantalstoelen','price','group','ad_start_dt']]"
   ]
  },
  {
   "cell_type": "code",
   "execution_count": 8,
   "metadata": {
    "collapsed": false
   },
   "outputs": [
    {
     "data": {
      "text/plain": [
       "src_ad_id           0\n",
       "telclicks           0\n",
       "bids                0\n",
       "kleur               0\n",
       "carrosserie         0\n",
       "kmstand          1404\n",
       "days_live           0\n",
       "photo_cnt           0\n",
       "aantaldeuren        0\n",
       "n_asq               0\n",
       "bouwjaar            0\n",
       "emissie           191\n",
       "energielabel        0\n",
       "brand               0\n",
       "l2                  0\n",
       "ad_start_dt         0\n",
       "vermogen            0\n",
       "webclicks           0\n",
       "model               0\n",
       "aantalstoelen       0\n",
       "price               0\n",
       "group               0\n",
       "dtype: int64"
      ]
     },
     "execution_count": 8,
     "metadata": {},
     "output_type": "execute_result"
    }
   ],
   "source": [
    "df = data[(data['telclicks'].isnull()== False) & (data['price'].isnull()== False)\\\n",
    "          &(data['model'].isnull()== False) & (data['aantalstoelen'].isnull()== False)]\n",
    "df.isnull().sum()"
   ]
  },
  {
   "cell_type": "code",
   "execution_count": 9,
   "metadata": {
    "collapsed": false
   },
   "outputs": [
    {
     "data": {
      "text/html": [
       "<div>\n",
       "<style scoped>\n",
       "    .dataframe tbody tr th:only-of-type {\n",
       "        vertical-align: middle;\n",
       "    }\n",
       "\n",
       "    .dataframe tbody tr th {\n",
       "        vertical-align: top;\n",
       "    }\n",
       "\n",
       "    .dataframe thead th {\n",
       "        text-align: right;\n",
       "    }\n",
       "</style>\n",
       "<table border=\"1\" class=\"dataframe\">\n",
       "  <thead>\n",
       "    <tr style=\"text-align: right;\">\n",
       "      <th></th>\n",
       "      <th>src_ad_id</th>\n",
       "      <th>telclicks</th>\n",
       "      <th>bids</th>\n",
       "      <th>kmstand</th>\n",
       "      <th>days_live</th>\n",
       "      <th>photo_cnt</th>\n",
       "      <th>n_asq</th>\n",
       "      <th>bouwjaar</th>\n",
       "      <th>emissie</th>\n",
       "      <th>vermogen</th>\n",
       "      <th>webclicks</th>\n",
       "      <th>price</th>\n",
       "    </tr>\n",
       "  </thead>\n",
       "  <tbody>\n",
       "    <tr>\n",
       "      <th>count</th>\n",
       "      <td>1.910000e+02</td>\n",
       "      <td>191.000000</td>\n",
       "      <td>191.000000</td>\n",
       "      <td>190.000000</td>\n",
       "      <td>191.000000</td>\n",
       "      <td>191.000000</td>\n",
       "      <td>191.000000</td>\n",
       "      <td>191.000000</td>\n",
       "      <td>0.0</td>\n",
       "      <td>191.000000</td>\n",
       "      <td>191.000000</td>\n",
       "      <td>1.910000e+02</td>\n",
       "    </tr>\n",
       "    <tr>\n",
       "      <th>mean</th>\n",
       "      <td>1.106458e+09</td>\n",
       "      <td>0.439791</td>\n",
       "      <td>0.240838</td>\n",
       "      <td>29889.915789</td>\n",
       "      <td>28.958115</td>\n",
       "      <td>18.701571</td>\n",
       "      <td>0.434555</td>\n",
       "      <td>2013.785340</td>\n",
       "      <td>NaN</td>\n",
       "      <td>31.005236</td>\n",
       "      <td>4.863874</td>\n",
       "      <td>3.404458e+05</td>\n",
       "    </tr>\n",
       "    <tr>\n",
       "      <th>std</th>\n",
       "      <td>6.532798e+07</td>\n",
       "      <td>1.154072</td>\n",
       "      <td>1.427035</td>\n",
       "      <td>41466.210885</td>\n",
       "      <td>14.185550</td>\n",
       "      <td>6.554223</td>\n",
       "      <td>1.873544</td>\n",
       "      <td>2.305827</td>\n",
       "      <td>NaN</td>\n",
       "      <td>45.128763</td>\n",
       "      <td>6.825826</td>\n",
       "      <td>3.088321e+05</td>\n",
       "    </tr>\n",
       "    <tr>\n",
       "      <th>min</th>\n",
       "      <td>9.938282e+08</td>\n",
       "      <td>0.000000</td>\n",
       "      <td>0.000000</td>\n",
       "      <td>1.000000</td>\n",
       "      <td>1.000000</td>\n",
       "      <td>1.000000</td>\n",
       "      <td>0.000000</td>\n",
       "      <td>1994.000000</td>\n",
       "      <td>NaN</td>\n",
       "      <td>0.000000</td>\n",
       "      <td>0.000000</td>\n",
       "      <td>0.000000e+00</td>\n",
       "    </tr>\n",
       "    <tr>\n",
       "      <th>25%</th>\n",
       "      <td>1.053416e+09</td>\n",
       "      <td>0.000000</td>\n",
       "      <td>0.000000</td>\n",
       "      <td>2777.250000</td>\n",
       "      <td>31.000000</td>\n",
       "      <td>13.000000</td>\n",
       "      <td>0.000000</td>\n",
       "      <td>2013.000000</td>\n",
       "      <td>NaN</td>\n",
       "      <td>0.000000</td>\n",
       "      <td>0.000000</td>\n",
       "      <td>1.297000e+05</td>\n",
       "    </tr>\n",
       "    <tr>\n",
       "      <th>50%</th>\n",
       "      <td>1.105888e+09</td>\n",
       "      <td>0.000000</td>\n",
       "      <td>0.000000</td>\n",
       "      <td>14225.500000</td>\n",
       "      <td>31.000000</td>\n",
       "      <td>22.000000</td>\n",
       "      <td>0.000000</td>\n",
       "      <td>2014.000000</td>\n",
       "      <td>NaN</td>\n",
       "      <td>0.000000</td>\n",
       "      <td>2.000000</td>\n",
       "      <td>2.375000e+05</td>\n",
       "    </tr>\n",
       "    <tr>\n",
       "      <th>75%</th>\n",
       "      <td>1.163314e+09</td>\n",
       "      <td>0.000000</td>\n",
       "      <td>0.000000</td>\n",
       "      <td>39640.000000</td>\n",
       "      <td>31.000000</td>\n",
       "      <td>24.000000</td>\n",
       "      <td>0.000000</td>\n",
       "      <td>2016.000000</td>\n",
       "      <td>NaN</td>\n",
       "      <td>60.000000</td>\n",
       "      <td>7.000000</td>\n",
       "      <td>4.364500e+05</td>\n",
       "    </tr>\n",
       "    <tr>\n",
       "      <th>max</th>\n",
       "      <td>1.219107e+09</td>\n",
       "      <td>10.000000</td>\n",
       "      <td>17.000000</td>\n",
       "      <td>319988.000000</td>\n",
       "      <td>100.000000</td>\n",
       "      <td>24.000000</td>\n",
       "      <td>23.000000</td>\n",
       "      <td>2016.000000</td>\n",
       "      <td>NaN</td>\n",
       "      <td>235.000000</td>\n",
       "      <td>37.000000</td>\n",
       "      <td>1.790000e+06</td>\n",
       "    </tr>\n",
       "  </tbody>\n",
       "</table>\n",
       "</div>"
      ],
      "text/plain": [
       "          src_ad_id   telclicks        bids        kmstand   days_live  \\\n",
       "count  1.910000e+02  191.000000  191.000000     190.000000  191.000000   \n",
       "mean   1.106458e+09    0.439791    0.240838   29889.915789   28.958115   \n",
       "std    6.532798e+07    1.154072    1.427035   41466.210885   14.185550   \n",
       "min    9.938282e+08    0.000000    0.000000       1.000000    1.000000   \n",
       "25%    1.053416e+09    0.000000    0.000000    2777.250000   31.000000   \n",
       "50%    1.105888e+09    0.000000    0.000000   14225.500000   31.000000   \n",
       "75%    1.163314e+09    0.000000    0.000000   39640.000000   31.000000   \n",
       "max    1.219107e+09   10.000000   17.000000  319988.000000  100.000000   \n",
       "\n",
       "        photo_cnt       n_asq     bouwjaar  emissie    vermogen   webclicks  \\\n",
       "count  191.000000  191.000000   191.000000      0.0  191.000000  191.000000   \n",
       "mean    18.701571    0.434555  2013.785340      NaN   31.005236    4.863874   \n",
       "std      6.554223    1.873544     2.305827      NaN   45.128763    6.825826   \n",
       "min      1.000000    0.000000  1994.000000      NaN    0.000000    0.000000   \n",
       "25%     13.000000    0.000000  2013.000000      NaN    0.000000    0.000000   \n",
       "50%     22.000000    0.000000  2014.000000      NaN    0.000000    2.000000   \n",
       "75%     24.000000    0.000000  2016.000000      NaN   60.000000    7.000000   \n",
       "max     24.000000   23.000000  2016.000000      NaN  235.000000   37.000000   \n",
       "\n",
       "              price  \n",
       "count  1.910000e+02  \n",
       "mean   3.404458e+05  \n",
       "std    3.088321e+05  \n",
       "min    0.000000e+00  \n",
       "25%    1.297000e+05  \n",
       "50%    2.375000e+05  \n",
       "75%    4.364500e+05  \n",
       "max    1.790000e+06  "
      ]
     },
     "execution_count": 9,
     "metadata": {},
     "output_type": "execute_result"
    }
   ],
   "source": [
    "df[df['emissie'].isnull()].describe()"
   ]
  },
  {
   "cell_type": "code",
   "execution_count": 10,
   "metadata": {
    "collapsed": false
   },
   "outputs": [
    {
     "data": {
      "text/html": [
       "<div>\n",
       "<style scoped>\n",
       "    .dataframe tbody tr th:only-of-type {\n",
       "        vertical-align: middle;\n",
       "    }\n",
       "\n",
       "    .dataframe tbody tr th {\n",
       "        vertical-align: top;\n",
       "    }\n",
       "\n",
       "    .dataframe thead th {\n",
       "        text-align: right;\n",
       "    }\n",
       "</style>\n",
       "<table border=\"1\" class=\"dataframe\">\n",
       "  <thead>\n",
       "    <tr style=\"text-align: right;\">\n",
       "      <th></th>\n",
       "      <th>kleur</th>\n",
       "      <th>carrosserie</th>\n",
       "      <th>aantaldeuren</th>\n",
       "      <th>energielabel</th>\n",
       "      <th>brand</th>\n",
       "      <th>l2</th>\n",
       "      <th>ad_start_dt</th>\n",
       "      <th>model</th>\n",
       "      <th>aantalstoelen</th>\n",
       "      <th>group</th>\n",
       "    </tr>\n",
       "  </thead>\n",
       "  <tbody>\n",
       "    <tr>\n",
       "      <th>count</th>\n",
       "      <td>191</td>\n",
       "      <td>191</td>\n",
       "      <td>191</td>\n",
       "      <td>191</td>\n",
       "      <td>191</td>\n",
       "      <td>191</td>\n",
       "      <td>191</td>\n",
       "      <td>191</td>\n",
       "      <td>191</td>\n",
       "      <td>191</td>\n",
       "    </tr>\n",
       "    <tr>\n",
       "      <th>unique</th>\n",
       "      <td>8</td>\n",
       "      <td>8</td>\n",
       "      <td>6</td>\n",
       "      <td>2</td>\n",
       "      <td>23</td>\n",
       "      <td>8</td>\n",
       "      <td>29</td>\n",
       "      <td>54</td>\n",
       "      <td>8</td>\n",
       "      <td>3</td>\n",
       "    </tr>\n",
       "    <tr>\n",
       "      <th>top</th>\n",
       "      <td>Wit</td>\n",
       "      <td>Hatchback (3/5-deurs)</td>\n",
       "      <td>5</td>\n",
       "      <td>?</td>\n",
       "      <td>TESLA</td>\n",
       "      <td>None</td>\n",
       "      <td>11/28/2016</td>\n",
       "      <td>Model S</td>\n",
       "      <td>5</td>\n",
       "      <td>A</td>\n",
       "    </tr>\n",
       "    <tr>\n",
       "      <th>freq</th>\n",
       "      <td>72</td>\n",
       "      <td>121</td>\n",
       "      <td>134</td>\n",
       "      <td>135</td>\n",
       "      <td>49</td>\n",
       "      <td>154</td>\n",
       "      <td>15</td>\n",
       "      <td>41</td>\n",
       "      <td>106</td>\n",
       "      <td>97</td>\n",
       "    </tr>\n",
       "  </tbody>\n",
       "</table>\n",
       "</div>"
      ],
      "text/plain": [
       "       kleur            carrosserie aantaldeuren energielabel  brand    l2  \\\n",
       "count    191                    191          191          191    191   191   \n",
       "unique     8                      8            6            2     23     8   \n",
       "top      Wit  Hatchback (3/5-deurs)            5            ?  TESLA  None   \n",
       "freq      72                    121          134          135     49   154   \n",
       "\n",
       "       ad_start_dt    model aantalstoelen group  \n",
       "count          191      191           191   191  \n",
       "unique          29       54             8     3  \n",
       "top     11/28/2016  Model S             5     A  \n",
       "freq            15       41           106    97  "
      ]
     },
     "execution_count": 10,
     "metadata": {},
     "output_type": "execute_result"
    }
   ],
   "source": [
    "df[df['emissie'].isnull()].describe(include=['O'])"
   ]
  },
  {
   "cell_type": "code",
   "execution_count": 11,
   "metadata": {
    "collapsed": false
   },
   "outputs": [
    {
     "data": {
      "text/plain": [
       "?    135\n",
       "A     56\n",
       "Name: energielabel, dtype: int64"
      ]
     },
     "execution_count": 11,
     "metadata": {},
     "output_type": "execute_result"
    }
   ],
   "source": [
    "df[df['emissie'].isnull()]['energielabel'].value_counts()"
   ]
  },
  {
   "cell_type": "code",
   "execution_count": 12,
   "metadata": {
    "collapsed": false
   },
   "outputs": [
    {
     "data": {
      "text/plain": [
       "TESLA             49\n",
       "NISSAN            40\n",
       "RENAULT           33\n",
       "BMW               15\n",
       "PEUGEOT           10\n",
       "HYUNDAI            7\n",
       "FORD               7\n",
       "KIA                6\n",
       "VOLKSWAGEN         4\n",
       "MERCEDES           4\n",
       "PIAGGIO            2\n",
       "CITROEN            2\n",
       "MITSUBISHI         2\n",
       "FULU               1\n",
       "ELVA               1\n",
       "JHC                1\n",
       "MELEX              1\n",
       "MERCEDES-BENZ      1\n",
       "MICRO-VETT         1\n",
       "EAGLE              1\n",
       "AWEFELX TUKTUK     1\n",
       "AIXAM              1\n",
       "TAZZARI            1\n",
       "Name: brand, dtype: int64"
      ]
     },
     "execution_count": 12,
     "metadata": {},
     "output_type": "execute_result"
    }
   ],
   "source": [
    "df[df['emissie'].isnull()]['brand'].value_counts()"
   ]
  },
  {
   "cell_type": "code",
   "execution_count": 13,
   "metadata": {
    "collapsed": false
   },
   "outputs": [
    {
     "data": {
      "text/plain": [
       "Leaf                                                                        21\n",
       "NV200                                                                        4\n",
       "E-NV200                                                                      4\n",
       "e-NV200 Evalia                                                               4\n",
       "LEAF                                                                         3\n",
       "e- NV200                                                                     2\n",
       "e-NV200 AUTM. ECC CRUISE INCL LADER EN ACCU                                  1\n",
       "e-NV200 AUTM. VOLLEDIG ELECTRISCH INCL. 2X LADER EN ACCU NAVI CRUISE ECC     1\n",
       "Name: model, dtype: int64"
      ]
     },
     "execution_count": 13,
     "metadata": {},
     "output_type": "execute_result"
    }
   ],
   "source": [
    "df[(df['emissie'].isnull()) & (df['brand']=='NISSAN')]['model'].value_counts()"
   ]
  },
  {
   "cell_type": "code",
   "execution_count": 14,
   "metadata": {
    "collapsed": false
   },
   "outputs": [
    {
     "data": {
      "text/plain": [
       "ZOE                  11\n",
       "Twizy                 8\n",
       "Fluence Z.E.          4\n",
       "Kangoo                4\n",
       "TWIZY                 2\n",
       "Quad                  2\n",
       "Fluence               1\n",
       "Technic (ex Accu)     1\n",
       "Name: model, dtype: int64"
      ]
     },
     "execution_count": 14,
     "metadata": {},
     "output_type": "execute_result"
    }
   ],
   "source": [
    "df[(df['emissie'].isnull()) & (df['brand']=='RENAULT')]['model'].value_counts()"
   ]
  },
  {
   "cell_type": "code",
   "execution_count": 15,
   "metadata": {
    "collapsed": false
   },
   "outputs": [
    {
     "data": {
      "text/plain": [
       "count    29270.000000\n",
       "mean       100.911513\n",
       "std         27.707471\n",
       "min          0.000000\n",
       "25%         92.000000\n",
       "50%        103.000000\n",
       "75%        114.000000\n",
       "max        261.000000\n",
       "Name: emissie, dtype: float64"
      ]
     },
     "execution_count": 15,
     "metadata": {},
     "output_type": "execute_result"
    }
   ],
   "source": [
    "df[df['energielabel']=='A']['emissie'].describe()"
   ]
  },
  {
   "cell_type": "code",
   "execution_count": 16,
   "metadata": {
    "collapsed": false
   },
   "outputs": [
    {
     "data": {
      "text/plain": [
       "A    31\n",
       "?    18\n",
       "Name: energielabel, dtype: int64"
      ]
     },
     "execution_count": 16,
     "metadata": {},
     "output_type": "execute_result"
    }
   ],
   "source": [
    "df[df['brand']=='TESLA']['energielabel'].value_counts()"
   ]
  },
  {
   "cell_type": "code",
   "execution_count": 17,
   "metadata": {
    "collapsed": false
   },
   "outputs": [
    {
     "data": {
      "text/plain": [
       "count    0.0\n",
       "mean     NaN\n",
       "std      NaN\n",
       "min      NaN\n",
       "25%      NaN\n",
       "50%      NaN\n",
       "75%      NaN\n",
       "max      NaN\n",
       "Name: emissie, dtype: float64"
      ]
     },
     "execution_count": 17,
     "metadata": {},
     "output_type": "execute_result"
    }
   ],
   "source": [
    "df[df['brand']=='TESLA']['emissie'].describe()"
   ]
  },
  {
   "cell_type": "code",
   "execution_count": 18,
   "metadata": {
    "collapsed": false
   },
   "outputs": [
    {
     "data": {
      "text/html": [
       "<div>\n",
       "<style scoped>\n",
       "    .dataframe tbody tr th:only-of-type {\n",
       "        vertical-align: middle;\n",
       "    }\n",
       "\n",
       "    .dataframe tbody tr th {\n",
       "        vertical-align: top;\n",
       "    }\n",
       "\n",
       "    .dataframe thead th {\n",
       "        text-align: right;\n",
       "    }\n",
       "</style>\n",
       "<table border=\"1\" class=\"dataframe\">\n",
       "  <thead>\n",
       "    <tr style=\"text-align: right;\">\n",
       "      <th></th>\n",
       "      <th>kleur</th>\n",
       "      <th>carrosserie</th>\n",
       "      <th>aantaldeuren</th>\n",
       "      <th>energielabel</th>\n",
       "      <th>brand</th>\n",
       "      <th>l2</th>\n",
       "      <th>ad_start_dt</th>\n",
       "      <th>model</th>\n",
       "      <th>aantalstoelen</th>\n",
       "      <th>group</th>\n",
       "    </tr>\n",
       "  </thead>\n",
       "  <tbody>\n",
       "    <tr>\n",
       "      <th>count</th>\n",
       "      <td>182853</td>\n",
       "      <td>182853</td>\n",
       "      <td>182853</td>\n",
       "      <td>182853</td>\n",
       "      <td>182853</td>\n",
       "      <td>182853</td>\n",
       "      <td>182853</td>\n",
       "      <td>182853</td>\n",
       "      <td>182853</td>\n",
       "      <td>182853</td>\n",
       "    </tr>\n",
       "    <tr>\n",
       "      <th>unique</th>\n",
       "      <td>10</td>\n",
       "      <td>9</td>\n",
       "      <td>10</td>\n",
       "      <td>8</td>\n",
       "      <td>182</td>\n",
       "      <td>64</td>\n",
       "      <td>30</td>\n",
       "      <td>2408</td>\n",
       "      <td>26</td>\n",
       "      <td>3</td>\n",
       "    </tr>\n",
       "    <tr>\n",
       "      <th>top</th>\n",
       "      <td>Zilver of Grijs</td>\n",
       "      <td>Hatchback (3/5-deurs)</td>\n",
       "      <td>5</td>\n",
       "      <td>?</td>\n",
       "      <td>VOLKSWAGEN</td>\n",
       "      <td>None</td>\n",
       "      <td>11/28/2016</td>\n",
       "      <td>Golf</td>\n",
       "      <td>5</td>\n",
       "      <td>A</td>\n",
       "    </tr>\n",
       "    <tr>\n",
       "      <th>freq</th>\n",
       "      <td>60918</td>\n",
       "      <td>79817</td>\n",
       "      <td>98220</td>\n",
       "      <td>49245</td>\n",
       "      <td>22142</td>\n",
       "      <td>122406</td>\n",
       "      <td>8445</td>\n",
       "      <td>4693</td>\n",
       "      <td>124059</td>\n",
       "      <td>94177</td>\n",
       "    </tr>\n",
       "  </tbody>\n",
       "</table>\n",
       "</div>"
      ],
      "text/plain": [
       "                  kleur            carrosserie aantaldeuren energielabel  \\\n",
       "count            182853                 182853       182853       182853   \n",
       "unique               10                      9           10            8   \n",
       "top     Zilver of Grijs  Hatchback (3/5-deurs)            5            ?   \n",
       "freq              60918                  79817        98220        49245   \n",
       "\n",
       "             brand      l2 ad_start_dt   model aantalstoelen   group  \n",
       "count       182853  182853      182853  182853        182853  182853  \n",
       "unique         182      64          30    2408            26       3  \n",
       "top     VOLKSWAGEN    None  11/28/2016    Golf             5       A  \n",
       "freq         22142  122406        8445    4693        124059   94177  "
      ]
     },
     "execution_count": 18,
     "metadata": {},
     "output_type": "execute_result"
    }
   ],
   "source": [
    "df[~df['emissie'].isnull()].describe(include=['O'])"
   ]
  },
  {
   "cell_type": "code",
   "execution_count": 19,
   "metadata": {
    "collapsed": true
   },
   "outputs": [],
   "source": [
    "# for emissie is null, it is mostly electrical cars, so we fill in emissie as ) and energy label as A\n",
    "data['emissie'].fillna(0, inplace=True)\n",
    "data['energielabel'] = np.where(data['emissie']== 0, 'A', data['energielabel'])"
   ]
  },
  {
   "cell_type": "code",
   "execution_count": 20,
   "metadata": {
    "collapsed": false
   },
   "outputs": [
    {
     "data": {
      "text/html": [
       "<div>\n",
       "<style scoped>\n",
       "    .dataframe tbody tr th:only-of-type {\n",
       "        vertical-align: middle;\n",
       "    }\n",
       "\n",
       "    .dataframe tbody tr th {\n",
       "        vertical-align: top;\n",
       "    }\n",
       "\n",
       "    .dataframe thead th {\n",
       "        text-align: right;\n",
       "    }\n",
       "</style>\n",
       "<table border=\"1\" class=\"dataframe\">\n",
       "  <thead>\n",
       "    <tr style=\"text-align: right;\">\n",
       "      <th></th>\n",
       "      <th>src_ad_id</th>\n",
       "      <th>telclicks</th>\n",
       "      <th>bids</th>\n",
       "      <th>kmstand</th>\n",
       "      <th>days_live</th>\n",
       "      <th>photo_cnt</th>\n",
       "      <th>n_asq</th>\n",
       "      <th>bouwjaar</th>\n",
       "      <th>emissie</th>\n",
       "      <th>vermogen</th>\n",
       "      <th>webclicks</th>\n",
       "      <th>price</th>\n",
       "    </tr>\n",
       "  </thead>\n",
       "  <tbody>\n",
       "    <tr>\n",
       "      <th>count</th>\n",
       "      <td>1.816400e+05</td>\n",
       "      <td>181640.000000</td>\n",
       "      <td>181640.000000</td>\n",
       "      <td>1.816400e+05</td>\n",
       "      <td>181640.000000</td>\n",
       "      <td>181640.000000</td>\n",
       "      <td>181640.000000</td>\n",
       "      <td>181640.000000</td>\n",
       "      <td>181450.000000</td>\n",
       "      <td>181640.000000</td>\n",
       "      <td>181640.000000</td>\n",
       "      <td>1.816400e+05</td>\n",
       "    </tr>\n",
       "    <tr>\n",
       "      <th>mean</th>\n",
       "      <td>1.108508e+09</td>\n",
       "      <td>0.903903</td>\n",
       "      <td>0.662134</td>\n",
       "      <td>1.448701e+05</td>\n",
       "      <td>27.538808</td>\n",
       "      <td>15.605181</td>\n",
       "      <td>0.974840</td>\n",
       "      <td>2007.203331</td>\n",
       "      <td>129.561736</td>\n",
       "      <td>85.622898</td>\n",
       "      <td>2.746884</td>\n",
       "      <td>1.006549e+05</td>\n",
       "    </tr>\n",
       "    <tr>\n",
       "      <th>std</th>\n",
       "      <td>6.719573e+07</td>\n",
       "      <td>2.388631</td>\n",
       "      <td>2.172091</td>\n",
       "      <td>9.323006e+04</td>\n",
       "      <td>20.644075</td>\n",
       "      <td>6.415889</td>\n",
       "      <td>2.680621</td>\n",
       "      <td>5.427052</td>\n",
       "      <td>69.214985</td>\n",
       "      <td>41.202959</td>\n",
       "      <td>6.211316</td>\n",
       "      <td>8.936028e+05</td>\n",
       "    </tr>\n",
       "    <tr>\n",
       "      <th>min</th>\n",
       "      <td>9.929264e+08</td>\n",
       "      <td>0.000000</td>\n",
       "      <td>0.000000</td>\n",
       "      <td>0.000000e+00</td>\n",
       "      <td>0.000000</td>\n",
       "      <td>0.000000</td>\n",
       "      <td>0.000000</td>\n",
       "      <td>1991.000000</td>\n",
       "      <td>0.000000</td>\n",
       "      <td>0.000000</td>\n",
       "      <td>0.000000</td>\n",
       "      <td>0.000000e+00</td>\n",
       "    </tr>\n",
       "    <tr>\n",
       "      <th>25%</th>\n",
       "      <td>1.050783e+09</td>\n",
       "      <td>0.000000</td>\n",
       "      <td>0.000000</td>\n",
       "      <td>7.708825e+04</td>\n",
       "      <td>14.000000</td>\n",
       "      <td>10.000000</td>\n",
       "      <td>0.000000</td>\n",
       "      <td>2003.000000</td>\n",
       "      <td>100.000000</td>\n",
       "      <td>57.000000</td>\n",
       "      <td>0.000000</td>\n",
       "      <td>2.200000e+04</td>\n",
       "    </tr>\n",
       "    <tr>\n",
       "      <th>50%</th>\n",
       "      <td>1.108565e+09</td>\n",
       "      <td>0.000000</td>\n",
       "      <td>0.000000</td>\n",
       "      <td>1.384150e+05</td>\n",
       "      <td>31.000000</td>\n",
       "      <td>15.000000</td>\n",
       "      <td>0.000000</td>\n",
       "      <td>2007.000000</td>\n",
       "      <td>139.000000</td>\n",
       "      <td>77.000000</td>\n",
       "      <td>1.000000</td>\n",
       "      <td>5.950000e+04</td>\n",
       "    </tr>\n",
       "    <tr>\n",
       "      <th>75%</th>\n",
       "      <td>1.166788e+09</td>\n",
       "      <td>1.000000</td>\n",
       "      <td>0.000000</td>\n",
       "      <td>1.999780e+05</td>\n",
       "      <td>31.000000</td>\n",
       "      <td>22.000000</td>\n",
       "      <td>1.000000</td>\n",
       "      <td>2012.000000</td>\n",
       "      <td>173.000000</td>\n",
       "      <td>100.000000</td>\n",
       "      <td>3.000000</td>\n",
       "      <td>1.199000e+05</td>\n",
       "    </tr>\n",
       "    <tr>\n",
       "      <th>max</th>\n",
       "      <td>1.224743e+09</td>\n",
       "      <td>162.000000</td>\n",
       "      <td>124.000000</td>\n",
       "      <td>1.500000e+06</td>\n",
       "      <td>134.000000</td>\n",
       "      <td>24.000000</td>\n",
       "      <td>282.000000</td>\n",
       "      <td>2016.000000</td>\n",
       "      <td>575.000000</td>\n",
       "      <td>594.000000</td>\n",
       "      <td>410.000000</td>\n",
       "      <td>1.000000e+08</td>\n",
       "    </tr>\n",
       "  </tbody>\n",
       "</table>\n",
       "</div>"
      ],
      "text/plain": [
       "          src_ad_id      telclicks           bids       kmstand  \\\n",
       "count  1.816400e+05  181640.000000  181640.000000  1.816400e+05   \n",
       "mean   1.108508e+09       0.903903       0.662134  1.448701e+05   \n",
       "std    6.719573e+07       2.388631       2.172091  9.323006e+04   \n",
       "min    9.929264e+08       0.000000       0.000000  0.000000e+00   \n",
       "25%    1.050783e+09       0.000000       0.000000  7.708825e+04   \n",
       "50%    1.108565e+09       0.000000       0.000000  1.384150e+05   \n",
       "75%    1.166788e+09       1.000000       0.000000  1.999780e+05   \n",
       "max    1.224743e+09     162.000000     124.000000  1.500000e+06   \n",
       "\n",
       "           days_live      photo_cnt          n_asq       bouwjaar  \\\n",
       "count  181640.000000  181640.000000  181640.000000  181640.000000   \n",
       "mean       27.538808      15.605181       0.974840    2007.203331   \n",
       "std        20.644075       6.415889       2.680621       5.427052   \n",
       "min         0.000000       0.000000       0.000000    1991.000000   \n",
       "25%        14.000000      10.000000       0.000000    2003.000000   \n",
       "50%        31.000000      15.000000       0.000000    2007.000000   \n",
       "75%        31.000000      22.000000       1.000000    2012.000000   \n",
       "max       134.000000      24.000000     282.000000    2016.000000   \n",
       "\n",
       "             emissie       vermogen      webclicks         price  \n",
       "count  181450.000000  181640.000000  181640.000000  1.816400e+05  \n",
       "mean      129.561736      85.622898       2.746884  1.006549e+05  \n",
       "std        69.214985      41.202959       6.211316  8.936028e+05  \n",
       "min         0.000000       0.000000       0.000000  0.000000e+00  \n",
       "25%       100.000000      57.000000       0.000000  2.200000e+04  \n",
       "50%       139.000000      77.000000       1.000000  5.950000e+04  \n",
       "75%       173.000000     100.000000       3.000000  1.199000e+05  \n",
       "max       575.000000     594.000000     410.000000  1.000000e+08  "
      ]
     },
     "execution_count": 20,
     "metadata": {},
     "output_type": "execute_result"
    }
   ],
   "source": [
    "df[~df['kmstand'].isnull()].describe()"
   ]
  },
  {
   "cell_type": "code",
   "execution_count": 21,
   "metadata": {
    "collapsed": false
   },
   "outputs": [
    {
     "data": {
      "text/html": [
       "<div>\n",
       "<style scoped>\n",
       "    .dataframe tbody tr th:only-of-type {\n",
       "        vertical-align: middle;\n",
       "    }\n",
       "\n",
       "    .dataframe tbody tr th {\n",
       "        vertical-align: top;\n",
       "    }\n",
       "\n",
       "    .dataframe thead th {\n",
       "        text-align: right;\n",
       "    }\n",
       "</style>\n",
       "<table border=\"1\" class=\"dataframe\">\n",
       "  <thead>\n",
       "    <tr style=\"text-align: right;\">\n",
       "      <th></th>\n",
       "      <th>src_ad_id</th>\n",
       "      <th>telclicks</th>\n",
       "      <th>bids</th>\n",
       "      <th>kmstand</th>\n",
       "      <th>days_live</th>\n",
       "      <th>photo_cnt</th>\n",
       "      <th>n_asq</th>\n",
       "      <th>bouwjaar</th>\n",
       "      <th>emissie</th>\n",
       "      <th>vermogen</th>\n",
       "      <th>webclicks</th>\n",
       "      <th>price</th>\n",
       "    </tr>\n",
       "  </thead>\n",
       "  <tbody>\n",
       "    <tr>\n",
       "      <th>count</th>\n",
       "      <td>1.404000e+03</td>\n",
       "      <td>1404.000000</td>\n",
       "      <td>1404.000000</td>\n",
       "      <td>0.0</td>\n",
       "      <td>1404.000000</td>\n",
       "      <td>1404.000000</td>\n",
       "      <td>1404.000000</td>\n",
       "      <td>1404.000000</td>\n",
       "      <td>1403.000000</td>\n",
       "      <td>1404.000000</td>\n",
       "      <td>1404.000000</td>\n",
       "      <td>1.404000e+03</td>\n",
       "    </tr>\n",
       "    <tr>\n",
       "      <th>mean</th>\n",
       "      <td>1.112829e+09</td>\n",
       "      <td>2.599715</td>\n",
       "      <td>2.752849</td>\n",
       "      <td>NaN</td>\n",
       "      <td>41.650997</td>\n",
       "      <td>9.795584</td>\n",
       "      <td>3.029915</td>\n",
       "      <td>2003.239316</td>\n",
       "      <td>116.248040</td>\n",
       "      <td>80.810541</td>\n",
       "      <td>1.780627</td>\n",
       "      <td>1.372707e+05</td>\n",
       "    </tr>\n",
       "    <tr>\n",
       "      <th>std</th>\n",
       "      <td>6.849360e+07</td>\n",
       "      <td>4.584600</td>\n",
       "      <td>4.095722</td>\n",
       "      <td>NaN</td>\n",
       "      <td>42.126891</td>\n",
       "      <td>5.508002</td>\n",
       "      <td>4.612322</td>\n",
       "      <td>5.353211</td>\n",
       "      <td>85.159771</td>\n",
       "      <td>45.537431</td>\n",
       "      <td>8.197423</td>\n",
       "      <td>2.707881e+06</td>\n",
       "    </tr>\n",
       "    <tr>\n",
       "      <th>min</th>\n",
       "      <td>9.929473e+08</td>\n",
       "      <td>0.000000</td>\n",
       "      <td>0.000000</td>\n",
       "      <td>NaN</td>\n",
       "      <td>0.000000</td>\n",
       "      <td>0.000000</td>\n",
       "      <td>0.000000</td>\n",
       "      <td>1991.000000</td>\n",
       "      <td>0.000000</td>\n",
       "      <td>0.000000</td>\n",
       "      <td>0.000000</td>\n",
       "      <td>0.000000e+00</td>\n",
       "    </tr>\n",
       "    <tr>\n",
       "      <th>25%</th>\n",
       "      <td>1.053525e+09</td>\n",
       "      <td>0.000000</td>\n",
       "      <td>0.000000</td>\n",
       "      <td>NaN</td>\n",
       "      <td>6.000000</td>\n",
       "      <td>6.000000</td>\n",
       "      <td>0.000000</td>\n",
       "      <td>1999.000000</td>\n",
       "      <td>0.000000</td>\n",
       "      <td>55.000000</td>\n",
       "      <td>0.000000</td>\n",
       "      <td>5.500000e+03</td>\n",
       "    </tr>\n",
       "    <tr>\n",
       "      <th>50%</th>\n",
       "      <td>1.117326e+09</td>\n",
       "      <td>1.000000</td>\n",
       "      <td>1.000000</td>\n",
       "      <td>NaN</td>\n",
       "      <td>28.000000</td>\n",
       "      <td>9.000000</td>\n",
       "      <td>2.000000</td>\n",
       "      <td>2003.000000</td>\n",
       "      <td>142.000000</td>\n",
       "      <td>75.000000</td>\n",
       "      <td>0.000000</td>\n",
       "      <td>1.750000e+04</td>\n",
       "    </tr>\n",
       "    <tr>\n",
       "      <th>75%</th>\n",
       "      <td>1.172635e+09</td>\n",
       "      <td>4.000000</td>\n",
       "      <td>4.000000</td>\n",
       "      <td>NaN</td>\n",
       "      <td>100.000000</td>\n",
       "      <td>13.000000</td>\n",
       "      <td>4.000000</td>\n",
       "      <td>2007.000000</td>\n",
       "      <td>176.500000</td>\n",
       "      <td>96.000000</td>\n",
       "      <td>0.000000</td>\n",
       "      <td>4.700000e+04</td>\n",
       "    </tr>\n",
       "    <tr>\n",
       "      <th>max</th>\n",
       "      <td>1.224734e+09</td>\n",
       "      <td>63.000000</td>\n",
       "      <td>38.000000</td>\n",
       "      <td>NaN</td>\n",
       "      <td>134.000000</td>\n",
       "      <td>24.000000</td>\n",
       "      <td>72.000000</td>\n",
       "      <td>2016.000000</td>\n",
       "      <td>361.000000</td>\n",
       "      <td>373.000000</td>\n",
       "      <td>171.000000</td>\n",
       "      <td>1.000000e+08</td>\n",
       "    </tr>\n",
       "  </tbody>\n",
       "</table>\n",
       "</div>"
      ],
      "text/plain": [
       "          src_ad_id    telclicks         bids  kmstand    days_live  \\\n",
       "count  1.404000e+03  1404.000000  1404.000000      0.0  1404.000000   \n",
       "mean   1.112829e+09     2.599715     2.752849      NaN    41.650997   \n",
       "std    6.849360e+07     4.584600     4.095722      NaN    42.126891   \n",
       "min    9.929473e+08     0.000000     0.000000      NaN     0.000000   \n",
       "25%    1.053525e+09     0.000000     0.000000      NaN     6.000000   \n",
       "50%    1.117326e+09     1.000000     1.000000      NaN    28.000000   \n",
       "75%    1.172635e+09     4.000000     4.000000      NaN   100.000000   \n",
       "max    1.224734e+09    63.000000    38.000000      NaN   134.000000   \n",
       "\n",
       "         photo_cnt        n_asq     bouwjaar      emissie     vermogen  \\\n",
       "count  1404.000000  1404.000000  1404.000000  1403.000000  1404.000000   \n",
       "mean      9.795584     3.029915  2003.239316   116.248040    80.810541   \n",
       "std       5.508002     4.612322     5.353211    85.159771    45.537431   \n",
       "min       0.000000     0.000000  1991.000000     0.000000     0.000000   \n",
       "25%       6.000000     0.000000  1999.000000     0.000000    55.000000   \n",
       "50%       9.000000     2.000000  2003.000000   142.000000    75.000000   \n",
       "75%      13.000000     4.000000  2007.000000   176.500000    96.000000   \n",
       "max      24.000000    72.000000  2016.000000   361.000000   373.000000   \n",
       "\n",
       "         webclicks         price  \n",
       "count  1404.000000  1.404000e+03  \n",
       "mean      1.780627  1.372707e+05  \n",
       "std       8.197423  2.707881e+06  \n",
       "min       0.000000  0.000000e+00  \n",
       "25%       0.000000  5.500000e+03  \n",
       "50%       0.000000  1.750000e+04  \n",
       "75%       0.000000  4.700000e+04  \n",
       "max     171.000000  1.000000e+08  "
      ]
     },
     "execution_count": 21,
     "metadata": {},
     "output_type": "execute_result"
    }
   ],
   "source": [
    "# seems like old car with bouwjaar <= 2007 have more chance of null data in kmstand\n",
    "df[df['kmstand'].isnull()].describe()"
   ]
  },
  {
   "cell_type": "code",
   "execution_count": 22,
   "metadata": {
    "collapsed": false
   },
   "outputs": [
    {
     "data": {
      "text/html": [
       "<div>\n",
       "<style scoped>\n",
       "    .dataframe tbody tr th:only-of-type {\n",
       "        vertical-align: middle;\n",
       "    }\n",
       "\n",
       "    .dataframe tbody tr th {\n",
       "        vertical-align: top;\n",
       "    }\n",
       "\n",
       "    .dataframe thead th {\n",
       "        text-align: right;\n",
       "    }\n",
       "</style>\n",
       "<table border=\"1\" class=\"dataframe\">\n",
       "  <thead>\n",
       "    <tr style=\"text-align: right;\">\n",
       "      <th></th>\n",
       "      <th>kleur</th>\n",
       "      <th>carrosserie</th>\n",
       "      <th>aantaldeuren</th>\n",
       "      <th>energielabel</th>\n",
       "      <th>brand</th>\n",
       "      <th>l2</th>\n",
       "      <th>ad_start_dt</th>\n",
       "      <th>model</th>\n",
       "      <th>aantalstoelen</th>\n",
       "      <th>group</th>\n",
       "    </tr>\n",
       "  </thead>\n",
       "  <tbody>\n",
       "    <tr>\n",
       "      <th>count</th>\n",
       "      <td>1404</td>\n",
       "      <td>1404</td>\n",
       "      <td>1404</td>\n",
       "      <td>1404</td>\n",
       "      <td>1404</td>\n",
       "      <td>1404</td>\n",
       "      <td>1404</td>\n",
       "      <td>1404</td>\n",
       "      <td>1404</td>\n",
       "      <td>1404</td>\n",
       "    </tr>\n",
       "    <tr>\n",
       "      <th>unique</th>\n",
       "      <td>10</td>\n",
       "      <td>9</td>\n",
       "      <td>7</td>\n",
       "      <td>8</td>\n",
       "      <td>86</td>\n",
       "      <td>47</td>\n",
       "      <td>30</td>\n",
       "      <td>436</td>\n",
       "      <td>9</td>\n",
       "      <td>3</td>\n",
       "    </tr>\n",
       "    <tr>\n",
       "      <th>top</th>\n",
       "      <td>Zilver of Grijs</td>\n",
       "      <td>Hatchback (3/5-deurs)</td>\n",
       "      <td>5</td>\n",
       "      <td>?</td>\n",
       "      <td>VOLKSWAGEN</td>\n",
       "      <td>None</td>\n",
       "      <td>11/21/2016</td>\n",
       "      <td>?</td>\n",
       "      <td>5</td>\n",
       "      <td>A</td>\n",
       "    </tr>\n",
       "    <tr>\n",
       "      <th>freq</th>\n",
       "      <td>376</td>\n",
       "      <td>539</td>\n",
       "      <td>551</td>\n",
       "      <td>674</td>\n",
       "      <td>195</td>\n",
       "      <td>395</td>\n",
       "      <td>73</td>\n",
       "      <td>63</td>\n",
       "      <td>780</td>\n",
       "      <td>688</td>\n",
       "    </tr>\n",
       "  </tbody>\n",
       "</table>\n",
       "</div>"
      ],
      "text/plain": [
       "                  kleur            carrosserie aantaldeuren energielabel  \\\n",
       "count              1404                   1404         1404         1404   \n",
       "unique               10                      9            7            8   \n",
       "top     Zilver of Grijs  Hatchback (3/5-deurs)            5            ?   \n",
       "freq                376                    539          551          674   \n",
       "\n",
       "             brand    l2 ad_start_dt model aantalstoelen group  \n",
       "count         1404  1404        1404  1404          1404  1404  \n",
       "unique          86    47          30   436             9     3  \n",
       "top     VOLKSWAGEN  None  11/21/2016     ?             5     A  \n",
       "freq           195   395          73    63           780   688  "
      ]
     },
     "execution_count": 22,
     "metadata": {},
     "output_type": "execute_result"
    }
   ],
   "source": [
    "df[df['kmstand'].isnull()].describe(include=['O'])"
   ]
  },
  {
   "cell_type": "markdown",
   "metadata": {},
   "source": [
    "Cars without input kmstand has older bouwjaar than the cars with input kmstand. <br>\n",
    "<font color='blue'>Cars without input kmstand has more user activity. </font><br>\n",
    "\n",
    "Possible reason is the old timer cars are without kmstand. However, from the top 5 brand, we could not see that directly. <br>\n",
    "Suggestion: <br>\n",
    "<br>\n",
    "<font color='blue'>\n",
    "Create a feature called 'is_old_timer_car' might help us with the user activity prediction.</font>"
   ]
  },
  {
   "cell_type": "code",
   "execution_count": 23,
   "metadata": {
    "collapsed": false
   },
   "outputs": [
    {
     "data": {
      "text/plain": [
       "<seaborn.axisgrid.FacetGrid at 0x7f5537eee518>"
      ]
     },
     "execution_count": 23,
     "metadata": {},
     "output_type": "execute_result"
    },
    {
     "data": {
      "image/png": "[encoded data removed]",
      "text/plain": [
       "<matplotlib.figure.Figure at 0x7f553790dd30>"
      ]
     },
     "metadata": {},
     "output_type": "display_data"
    }
   ],
   "source": [
    "df['has_kmstand'] = np.where(df['kmstand']>0, 1, 0)\n",
    "#sns.catplot(x=\"bouwjaar\", hue=\"has_kmstand\", kind = \"count\", data = df)\n",
    "x, y, hue = \"bouwjaar\", \"proportion\", \"has_kmstand\"\n",
    "#hue_order = [0, 1]\n",
    "\n",
    "(df[x]\n",
    " .groupby(df[hue])\n",
    " .value_counts(normalize=True)\n",
    " .rename(y)\n",
    " .reset_index()\n",
    "# .pipe((sns.barplot, \"data\"), x=x, y=y, hue=hue))\n",
    " .pipe((sns.catplot, \"data\"), x=x, y=y, hue=hue, kind = 'bar', height = 4, aspect = 3))"
   ]
  },
  {
   "cell_type": "code",
   "execution_count": 24,
   "metadata": {
    "collapsed": false
   },
   "outputs": [
    {
     "data": {
      "text/plain": [
       "<seaborn.axisgrid.FacetGrid at 0x7f5535fd0240>"
      ]
     },
     "execution_count": 24,
     "metadata": {},
     "output_type": "execute_result"
    },
    {
     "data": {
      "image/png": "[encoded data removed]",
      "text/plain": [
       "<matplotlib.figure.Figure at 0x7f5536019dd8>"
      ]
     },
     "metadata": {},
     "output_type": "display_data"
    }
   ],
   "source": [
    "# Top 5 brands \n",
    "x, y, hue = \"brand\", \"proportion\", \"has_kmstand\"\n",
    "#hue_order = [0, 1]\n",
    "\n",
    "(df[x]\n",
    " .groupby(df[hue])\n",
    " .value_counts(normalize=True)\n",
    " .nlargest(10)\n",
    " .rename(y)\n",
    " .reset_index()\n",
    "# .pipe((sns.barplot, \"data\"), x=x, y=y, hue=hue))\n",
    " .pipe((sns.catplot, \"data\"), x=y, y=x, hue=hue, \n",
    "       kind = 'bar', height =4, aspect = 2))"
   ]
  },
  {
   "cell_type": "markdown",
   "metadata": {},
   "source": [
    "# 2. Statistical Test Between A / B Group"
   ]
  },
  {
   "cell_type": "code",
   "execution_count": 25,
   "metadata": {
    "collapsed": false
   },
   "outputs": [
    {
     "data": {
      "text/plain": [
       "count                  183044\n",
       "unique                     30\n",
       "top       2016-11-28 00:00:00\n",
       "freq                     8460\n",
       "first     2016-11-01 00:00:00\n",
       "last      2016-11-30 00:00:00\n",
       "Name: date, dtype: object"
      ]
     },
     "execution_count": 25,
     "metadata": {},
     "output_type": "execute_result"
    }
   ],
   "source": [
    "df['date'] = pd.to_datetime(df['ad_start_dt'])\n",
    "df['day_of_week'] = df['date'].dt.day_name()\n",
    "df['date'].describe()"
   ]
  },
  {
   "cell_type": "code",
   "execution_count": 26,
   "metadata": {
    "collapsed": false
   },
   "outputs": [
    {
     "data": {
      "text/plain": [
       "<matplotlib.axes._subplots.AxesSubplot at 0x7f5535472518>"
      ]
     },
     "execution_count": 26,
     "metadata": {},
     "output_type": "execute_result"
    },
    {
     "data": {
      "image/png": "[encoded data removed]",
      "text/plain": [
       "<matplotlib.figure.Figure at 0x7f5535468898>"
      ]
     },
     "metadata": {},
     "output_type": "display_data"
    }
   ],
   "source": [
    "x, y, hue = \"date\", \"proportion\", \"group\"\n",
    "(df[x]\n",
    " .groupby(df[hue])\n",
    " .value_counts(normalize=True)\n",
    "# .nlargest(40)\n",
    " .rename(y)\n",
    " .reset_index()\n",
    "# .pipe((sns.catplot, \"data\"), x=x, y=y, hue=hue, kind = 'bar', height = 4, aspect = 4))\n",
    " .pipe((sns.lineplot, \"data\"), x= x, y = y, hue = hue, alpha = 0.7))"
   ]
  },
  {
   "cell_type": "markdown",
   "metadata": {},
   "source": [
    "## 2.1. Welch's t test for single metric statistical test"
   ]
  },
  {
   "cell_type": "code",
   "execution_count": 27,
   "metadata": {
    "collapsed": true
   },
   "outputs": [],
   "source": [
    "from scipy import stats\n",
    "from scipy.stats import t\n",
    "def welch_ttest(variable, x1, x2):\n",
    "    \n",
    "    n1 = x1.size\n",
    "    n2 = x2.size\n",
    "    m1 = np.mean(x1)\n",
    "    m2 = np.mean(x2)\n",
    "    \n",
    "    v1 = np.var(x1, ddof=1)\n",
    "    v2 = np.var(x2, ddof=1)\n",
    "    \n",
    "    pooled_se = np.sqrt(v1 / n1 + v2 / n2)\n",
    "    delta = m1-m2\n",
    "    effect = -delta/m1\n",
    "    \n",
    "    tstat = delta /  pooled_se\n",
    "    df = (v1 / n1 + v2 / n2)**2 / (v1**2 / (n1**2 * (n1 - 1)) + v2**2 / (n2**2 * (n2 - 1)))\n",
    "    \n",
    "    # two side t-test\n",
    "    p = 2 * t.cdf(-abs(tstat), df)\n",
    "    \n",
    "    # upper and lower bounds\n",
    "    lb = round(delta - t.ppf(0.975,df)*pooled_se, 4) # change to 0.975 for 5% false positive rate\n",
    "    ub = round(delta + t.ppf(0.975,df)*pooled_se, 4)\n",
    "  \n",
    "    return pd.DataFrame(np.array([variable ,round(tstat,4), round(df,4), p\n",
    "                                  ,round(delta, 4),round(effect,4),lb,ub]).reshape(1,-1),\n",
    "                         columns=['col', 'T statistic','df','pvalue 2 sided'\n",
    "                                  ,'Difference in mean','effect','lb','ub'])"
   ]
  },
  {
   "cell_type": "code",
   "execution_count": 28,
   "metadata": {
    "collapsed": true
   },
   "outputs": [],
   "source": [
    "import scipy.stats\n",
    "def mean_confidence_interval(col, group ,data, confidence=0.95):\n",
    "    a = 1.0 * np.array(data)\n",
    "    n = len(a)\n",
    "    m, se = np.mean(a), scipy.stats.sem(a)\n",
    "    h = se * scipy.stats.t.ppf((1 + confidence) / 2., n-1)\n",
    "    return pd.DataFrame(np.array([col, group \n",
    "                                  ,round(m, 4), round(m-h, 4), round(m+h, 4)]).reshape(1,-1),\n",
    "                         columns=['col','group','estimate','lb','ub'])"
   ]
  },
  {
   "cell_type": "code",
   "execution_count": 29,
   "metadata": {
    "collapsed": false
   },
   "outputs": [
    {
     "data": {
      "text/plain": [
       "count    183044.000000\n",
       "mean          0.737773\n",
       "std           0.439846\n",
       "min           0.000000\n",
       "25%           0.000000\n",
       "50%           1.000000\n",
       "75%           1.000000\n",
       "max           1.000000\n",
       "Name: has_view, dtype: float64"
      ]
     },
     "execution_count": 29,
     "metadata": {},
     "output_type": "execute_result"
    }
   ],
   "source": [
    "# Create column has_view \n",
    "# has_view = 1 if any of the view actions has happened\n",
    "# 73% has_view rate (similar as click-through rate)\n",
    "df['has_view'] = np.where(((df['telclicks']==0) & (df['bids']==0) & (df['n_asq']==0 ) & (df['webclicks']==0)), 0, 1)\n",
    "df['has_view'].describe()"
   ]
  },
  {
   "cell_type": "code",
   "execution_count": 30,
   "metadata": {
    "collapsed": false
   },
   "outputs": [
    {
     "data": {
      "text/plain": [
       "count    183044.000000\n",
       "mean          5.325157\n",
       "std           9.246810\n",
       "min           0.000000\n",
       "25%           0.000000\n",
       "50%           2.000000\n",
       "75%           7.000000\n",
       "max         483.000000\n",
       "Name: nr_view, dtype: float64"
      ]
     },
     "execution_count": 30,
     "metadata": {},
     "output_type": "execute_result"
    }
   ],
   "source": [
    "df['nr_view']= df['telclicks'] + df['bids'] + df['n_asq'] + df['webclicks']\n",
    "df['nr_view'].describe()"
   ]
  },
  {
   "cell_type": "code",
   "execution_count": 31,
   "metadata": {
    "collapsed": true
   },
   "outputs": [],
   "source": [
    "def compare_group_mean(varaible, group1, group2, data):\n",
    "    x1 = df[df['group'] == group1][variable]\n",
    "    x2 = df[df['group'] == group2][variable]\n",
    "    x1_est = mean_confidence_interval(variable,group1,x1)\n",
    "    x2_est = mean_confidence_interval(variable,group2,x2)\n",
    "    x_est = x1_est.append(x2_est)\n",
    "    w_test = welch_ttest(variable, x1, x2)\n",
    "    \n",
    "    return x_est, w_test"
   ]
  },
  {
   "cell_type": "code",
   "execution_count": 32,
   "metadata": {
    "collapsed": false
   },
   "outputs": [],
   "source": [
    "#important columns\n",
    "# Group A & B are significantly different for all variable\n",
    "# here 5% false positive rate is used as threshold\n",
    "variable_list = ['has_view', 'nr_view', 'telclicks','bids','n_asq','webclicks']\n",
    "group1 = 'A'\n",
    "group2 = 'B'\n",
    "x_est = pd.DataFrame()\n",
    "w_test = pd.DataFrame()\n",
    "for variable in variable_list: \n",
    "    x_est_temp, w_test_temp = compare_group_mean(variable, group1, group2, df)\n",
    "    x_est = x_est.append(x_est_temp)\n",
    "    w_test = w_test.append(w_test_temp)"
   ]
  },
  {
   "cell_type": "markdown",
   "metadata": {},
   "source": [
    "We are interested in testing this hypothesis:\n",
    "<font color='blue'>** H0: User activity in Group B is not significantlly different than Group A. </font> <br>\n",
    "*Individual Metrics include has_view, telclicks, bids, n_asq & webclicks. *<br>\n",
    "<br>\n",
    "When comparing the mean between Group A & B <br>\n",
    "The overall metric has_view and the individual metrics all have shown significant difference, so we can reject H0. <br>\n",
    "- p value < 0.05 <br>\n",
    "- confidence interval does not across zero <br>\n",
    "<br>\n",
    "It means <br>\n",
    "<font color='blue'>User activity in Group B are all significantly different than in Group A.</font>\n",
    "<br>\n",
    "More specifically, <br>\n",
    "- items% with VIP view has increased 3% Group B\n",
    "- number of VIP views has increased 7% in Group B\n",
    "- The effect of intervention B on telclicks, bids & n_asq are similar (around 10% ~ 11%), while the effect on webclicks is 4%. "
   ]
  },
  {
   "cell_type": "code",
   "execution_count": 33,
   "metadata": {
    "collapsed": false
   },
   "outputs": [
    {
     "data": {
      "text/html": [
       "<div>\n",
       "<style scoped>\n",
       "    .dataframe tbody tr th:only-of-type {\n",
       "        vertical-align: middle;\n",
       "    }\n",
       "\n",
       "    .dataframe tbody tr th {\n",
       "        vertical-align: top;\n",
       "    }\n",
       "\n",
       "    .dataframe thead th {\n",
       "        text-align: right;\n",
       "    }\n",
       "</style>\n",
       "<table border=\"1\" class=\"dataframe\">\n",
       "  <thead>\n",
       "    <tr style=\"text-align: right;\">\n",
       "      <th></th>\n",
       "      <th>col</th>\n",
       "      <th>T statistic</th>\n",
       "      <th>df</th>\n",
       "      <th>pvalue 2 sided</th>\n",
       "      <th>Difference in mean</th>\n",
       "      <th>effect</th>\n",
       "      <th>lb</th>\n",
       "      <th>ub</th>\n",
       "    </tr>\n",
       "  </thead>\n",
       "  <tbody>\n",
       "    <tr>\n",
       "      <th>0</th>\n",
       "      <td>has_view</td>\n",
       "      <td>-9.6353</td>\n",
       "      <td>171201.0391</td>\n",
       "      <td>5.745372922886499e-22</td>\n",
       "      <td>-0.0203</td>\n",
       "      <td>0.0279</td>\n",
       "      <td>-0.0245</td>\n",
       "      <td>-0.0162</td>\n",
       "    </tr>\n",
       "    <tr>\n",
       "      <th>0</th>\n",
       "      <td>nr_view</td>\n",
       "      <td>-8.091</td>\n",
       "      <td>167587.6616</td>\n",
       "      <td>5.955312269577274e-16</td>\n",
       "      <td>-0.3598</td>\n",
       "      <td>0.0699</td>\n",
       "      <td>-0.447</td>\n",
       "      <td>-0.2727</td>\n",
       "    </tr>\n",
       "    <tr>\n",
       "      <th>0</th>\n",
       "      <td>telclicks</td>\n",
       "      <td>-8.0312</td>\n",
       "      <td>163286.5128</td>\n",
       "      <td>9.71263164772215e-16</td>\n",
       "      <td>-0.0939</td>\n",
       "      <td>0.1076</td>\n",
       "      <td>-0.1168</td>\n",
       "      <td>-0.071</td>\n",
       "    </tr>\n",
       "    <tr>\n",
       "      <th>0</th>\n",
       "      <td>bids</td>\n",
       "      <td>-6.1346</td>\n",
       "      <td>166176.3734</td>\n",
       "      <td>8.557003359149235e-10</td>\n",
       "      <td>-0.0651</td>\n",
       "      <td>0.1006</td>\n",
       "      <td>-0.0859</td>\n",
       "      <td>-0.0443</td>\n",
       "    </tr>\n",
       "    <tr>\n",
       "      <th>0</th>\n",
       "      <td>n_asq</td>\n",
       "      <td>-7.5582</td>\n",
       "      <td>162673.3601</td>\n",
       "      <td>4.1079401299920815e-14</td>\n",
       "      <td>-0.0985</td>\n",
       "      <td>0.1045</td>\n",
       "      <td>-0.124</td>\n",
       "      <td>-0.0729</td>\n",
       "    </tr>\n",
       "    <tr>\n",
       "      <th>0</th>\n",
       "      <td>webclicks</td>\n",
       "      <td>-3.4315</td>\n",
       "      <td>170515.5072</td>\n",
       "      <td>0.0006003494158487587</td>\n",
       "      <td>-0.1023</td>\n",
       "      <td>0.0381</td>\n",
       "      <td>-0.1607</td>\n",
       "      <td>-0.0439</td>\n",
       "    </tr>\n",
       "  </tbody>\n",
       "</table>\n",
       "</div>"
      ],
      "text/plain": [
       "         col T statistic           df          pvalue 2 sided  \\\n",
       "0   has_view     -9.6353  171201.0391   5.745372922886499e-22   \n",
       "0    nr_view      -8.091  167587.6616   5.955312269577274e-16   \n",
       "0  telclicks     -8.0312  163286.5128    9.71263164772215e-16   \n",
       "0       bids     -6.1346  166176.3734   8.557003359149235e-10   \n",
       "0      n_asq     -7.5582  162673.3601  4.1079401299920815e-14   \n",
       "0  webclicks     -3.4315  170515.5072   0.0006003494158487587   \n",
       "\n",
       "  Difference in mean  effect       lb       ub  \n",
       "0            -0.0203  0.0279  -0.0245  -0.0162  \n",
       "0            -0.3598  0.0699   -0.447  -0.2727  \n",
       "0            -0.0939  0.1076  -0.1168   -0.071  \n",
       "0            -0.0651  0.1006  -0.0859  -0.0443  \n",
       "0            -0.0985  0.1045   -0.124  -0.0729  \n",
       "0            -0.1023  0.0381  -0.1607  -0.0439  "
      ]
     },
     "execution_count": 33,
     "metadata": {},
     "output_type": "execute_result"
    }
   ],
   "source": [
    "w_test"
   ]
  },
  {
   "cell_type": "code",
   "execution_count": 34,
   "metadata": {
    "collapsed": false
   },
   "outputs": [
    {
     "data": {
      "text/plain": [
       "<matplotlib.axes._subplots.AxesSubplot at 0x7f55351d3160>"
      ]
     },
     "execution_count": 34,
     "metadata": {},
     "output_type": "execute_result"
    },
    {
     "data": {
      "image/png": "[encoded data removed]",
      "text/plain": [
       "<matplotlib.figure.Figure at 0x7f5535119da0>"
      ]
     },
     "metadata": {},
     "output_type": "display_data"
    }
   ],
   "source": [
    "df_plot = df[df['group']!= 'no_test']\n",
    "fig, ax =plt.subplots(1,6)\n",
    "fig.set_figwidth(20)\n",
    "sns.barplot(x=\"group\", y=\"has_view\",data = df_plot, ax=ax[0])\n",
    "sns.barplot(x=\"group\", y=\"nr_view\",data = df_plot, ax=ax[1])\n",
    "sns.barplot(x=\"group\", y=\"telclicks\",data = df_plot, ax=ax[2])\n",
    "sns.barplot(x=\"group\", y=\"bids\",data = df_plot, ax=ax[3])\n",
    "sns.barplot(x=\"group\", y=\"n_asq\",data = df_plot, ax=ax[4])\n",
    "sns.barplot(x=\"group\", y=\"webclicks\",data = df_plot, ax=ax[5])"
   ]
  },
  {
   "cell_type": "raw",
   "metadata": {},
   "source": [
    "def group_df(col, df):\n",
    "    a = df[df['group'] == 'A'][col]\n",
    "    b = df[df['group'] == 'B'][col]\n",
    "    return a, b\n",
    "#sns.displot(hue=\"group\", x=\"telclicks\",data = df_plot)\n",
    "#df_plot['telclicks'].hist(by=df_plot['group'])\n",
    "plt.hist(group_df('telclicks', df_plot)[0], alpha = 0.5, label = 'Group A', color = 'b', normed = True )\n",
    "plt.hist(group_df('telclicks', df_plot)[1], alpha = 0.5, label = 'Group B', color = 'orange', normed = True)\n",
    "#df_plot['telclicks'].plot.kde()"
   ]
  },
  {
   "cell_type": "code",
   "execution_count": 35,
   "metadata": {
    "collapsed": false
   },
   "outputs": [
    {
     "data": {
      "text/html": [
       "<div>\n",
       "<style scoped>\n",
       "    .dataframe tbody tr th:only-of-type {\n",
       "        vertical-align: middle;\n",
       "    }\n",
       "\n",
       "    .dataframe tbody tr th {\n",
       "        vertical-align: top;\n",
       "    }\n",
       "\n",
       "    .dataframe thead th {\n",
       "        text-align: right;\n",
       "    }\n",
       "</style>\n",
       "<table border=\"1\" class=\"dataframe\">\n",
       "  <thead>\n",
       "    <tr style=\"text-align: right;\">\n",
       "      <th></th>\n",
       "      <th>col</th>\n",
       "      <th>group</th>\n",
       "      <th>estimate</th>\n",
       "      <th>lb</th>\n",
       "      <th>ub</th>\n",
       "    </tr>\n",
       "  </thead>\n",
       "  <tbody>\n",
       "    <tr>\n",
       "      <th>0</th>\n",
       "      <td>has_view</td>\n",
       "      <td>A</td>\n",
       "      <td>0.7282</td>\n",
       "      <td>0.7253</td>\n",
       "      <td>0.731</td>\n",
       "    </tr>\n",
       "    <tr>\n",
       "      <th>0</th>\n",
       "      <td>has_view</td>\n",
       "      <td>B</td>\n",
       "      <td>0.7485</td>\n",
       "      <td>0.7455</td>\n",
       "      <td>0.7515</td>\n",
       "    </tr>\n",
       "    <tr>\n",
       "      <th>0</th>\n",
       "      <td>nr_view</td>\n",
       "      <td>A</td>\n",
       "      <td>5.1506</td>\n",
       "      <td>5.0928</td>\n",
       "      <td>5.2084</td>\n",
       "    </tr>\n",
       "    <tr>\n",
       "      <th>0</th>\n",
       "      <td>nr_view</td>\n",
       "      <td>B</td>\n",
       "      <td>5.5104</td>\n",
       "      <td>5.4452</td>\n",
       "      <td>5.5757</td>\n",
       "    </tr>\n",
       "    <tr>\n",
       "      <th>0</th>\n",
       "      <td>telclicks</td>\n",
       "      <td>A</td>\n",
       "      <td>0.8731</td>\n",
       "      <td>0.8584</td>\n",
       "      <td>0.8877</td>\n",
       "    </tr>\n",
       "    <tr>\n",
       "      <th>0</th>\n",
       "      <td>telclicks</td>\n",
       "      <td>B</td>\n",
       "      <td>0.967</td>\n",
       "      <td>0.9494</td>\n",
       "      <td>0.9846</td>\n",
       "    </tr>\n",
       "    <tr>\n",
       "      <th>0</th>\n",
       "      <td>bids</td>\n",
       "      <td>A</td>\n",
       "      <td>0.6473</td>\n",
       "      <td>0.6337</td>\n",
       "      <td>0.661</td>\n",
       "    </tr>\n",
       "    <tr>\n",
       "      <th>0</th>\n",
       "      <td>bids</td>\n",
       "      <td>B</td>\n",
       "      <td>0.7124</td>\n",
       "      <td>0.6967</td>\n",
       "      <td>0.7282</td>\n",
       "    </tr>\n",
       "    <tr>\n",
       "      <th>0</th>\n",
       "      <td>n_asq</td>\n",
       "      <td>A</td>\n",
       "      <td>0.9424</td>\n",
       "      <td>0.9262</td>\n",
       "      <td>0.9587</td>\n",
       "    </tr>\n",
       "    <tr>\n",
       "      <th>0</th>\n",
       "      <td>n_asq</td>\n",
       "      <td>B</td>\n",
       "      <td>1.0409</td>\n",
       "      <td>1.0212</td>\n",
       "      <td>1.0606</td>\n",
       "    </tr>\n",
       "    <tr>\n",
       "      <th>0</th>\n",
       "      <td>webclicks</td>\n",
       "      <td>A</td>\n",
       "      <td>2.6878</td>\n",
       "      <td>2.648</td>\n",
       "      <td>2.7276</td>\n",
       "    </tr>\n",
       "    <tr>\n",
       "      <th>0</th>\n",
       "      <td>webclicks</td>\n",
       "      <td>B</td>\n",
       "      <td>2.7901</td>\n",
       "      <td>2.7474</td>\n",
       "      <td>2.8328</td>\n",
       "    </tr>\n",
       "  </tbody>\n",
       "</table>\n",
       "</div>"
      ],
      "text/plain": [
       "         col group estimate      lb      ub\n",
       "0   has_view     A   0.7282  0.7253   0.731\n",
       "0   has_view     B   0.7485  0.7455  0.7515\n",
       "0    nr_view     A   5.1506  5.0928  5.2084\n",
       "0    nr_view     B   5.5104  5.4452  5.5757\n",
       "0  telclicks     A   0.8731  0.8584  0.8877\n",
       "0  telclicks     B    0.967  0.9494  0.9846\n",
       "0       bids     A   0.6473  0.6337   0.661\n",
       "0       bids     B   0.7124  0.6967  0.7282\n",
       "0      n_asq     A   0.9424  0.9262  0.9587\n",
       "0      n_asq     B   1.0409  1.0212  1.0606\n",
       "0  webclicks     A   2.6878   2.648  2.7276\n",
       "0  webclicks     B   2.7901  2.7474  2.8328"
      ]
     },
     "execution_count": 35,
     "metadata": {},
     "output_type": "execute_result"
    }
   ],
   "source": [
    "# get the confidence interval of all metrics in each group\n",
    "x_est"
   ]
  },
  {
   "cell_type": "markdown",
   "metadata": {},
   "source": [
    "## 2.2. MANOVA for correlated dependent variable test"
   ]
  },
  {
   "cell_type": "markdown",
   "metadata": {},
   "source": [
    "Has_view is mostly related to webclicks, so business seller is very important, then telclicks and n_asq are also more related than the n_asq.  <br>\n",
    "* bids is medium correlated with telephone clicks <br\\>\n",
    "* email is highly correlated with telephone clicks and bids <br\\>\n",
    "* webclicks is slightly correlated with telephone clicks and barely with bids<br\\>\n",
    "  Clearly webclicks are mostly with a fixed price and link to a business seller (instead of individual seller)<br>\n",
    "* webclicks is most correlated to has_view than other view choices, so business seller have higher chance of being viewd."
   ]
  },
  {
   "cell_type": "code",
   "execution_count": 36,
   "metadata": {
    "collapsed": false
   },
   "outputs": [
    {
     "data": {
      "text/plain": [
       "<matplotlib.axes._subplots.AxesSubplot at 0x7f5535123470>"
      ]
     },
     "execution_count": 36,
     "metadata": {},
     "output_type": "execute_result"
    },
    {
     "data": {
      "image/png": "[encoded data removed]",
      "text/plain": [
       "<matplotlib.figure.Figure at 0x7f5535121d30>"
      ]
     },
     "metadata": {},
     "output_type": "display_data"
    }
   ],
   "source": [
    "df_cor= df[['has_view','nr_view','telclicks','bids','n_asq','webclicks']]\n",
    "corr = df_cor.corr()\n",
    "sns.heatmap(corr, annot=True)"
   ]
  },
  {
   "cell_type": "markdown",
   "metadata": {},
   "source": [
    "If we are interested in the hypothesis: <br\\>\n",
    "<font color='blue'>**H0: \"telclicks, bids, n_asq, webclicks in Group B are not all significantly different than in Group A at the same time\"** </font><br\\>\n",
    "we neeed to adjust the **family wise error** to avoid high false positive rate. <br\\>\n",
    "\n",
    "Since the metrics are highly correlated, <br\\>\n",
    "we can use **MANOVA** to adjust the correlation and get the adjusted significancy result. <br\\>\n",
    "\n",
    "From the result, we see that we can reject the null Hypothesis H0. <br\\>\n",
    "It means <br>\n",
    "<font color='blue'>**\"all metrics (telclicks, bids, n_asq, webclicks) in Group B are all significantly different than in Group A at the same time\".**</font>"
   ]
  },
  {
   "cell_type": "code",
   "execution_count": 37,
   "metadata": {
    "collapsed": false
   },
   "outputs": [
    {
     "name": "stdout",
     "output_type": "stream",
     "text": [
      "                     Multivariate linear model\n",
      "===================================================================\n",
      "                                                                   \n",
      "-------------------------------------------------------------------\n",
      "            group          Value  Num DF    Den DF   F Value Pr > F\n",
      "-------------------------------------------------------------------\n",
      "             Wilks' lambda 0.9992 5.0000 174426.0000 28.3140 0.0000\n",
      "            Pillai's trace 0.0008 5.0000 174426.0000 28.3140 0.0000\n",
      "    Hotelling-Lawley trace 0.0008 5.0000 174426.0000 28.3140 0.0000\n",
      "       Roy's greatest root 0.0008 5.0000 174426.0000 28.3140 0.0000\n",
      "-------------------------------------------------------------------\n",
      "                                                                   \n",
      "-------------------------------------------------------------------\n",
      "       Intercept        Value  Num DF    Den DF    F Value   Pr > F\n",
      "-------------------------------------------------------------------\n",
      "          Wilks' lambda 0.4030 5.0000 174426.0000 51673.4205 0.0000\n",
      "         Pillai's trace 0.5970 5.0000 174426.0000 51673.4205 0.0000\n",
      " Hotelling-Lawley trace 1.4812 5.0000 174426.0000 51673.4205 0.0000\n",
      "    Roy's greatest root 1.4812 5.0000 174426.0000 51673.4205 0.0000\n",
      "===================================================================\n",
      "\n"
     ]
    }
   ],
   "source": [
    "from statsmodels.multivariate.manova import MANOVA\n",
    "maov = MANOVA.from_formula('has_view + nr_view + telclicks + \\\n",
    "                            bids + n_asq + webclicks  ~group', data=df[df['group']!= 'no_test'])\n",
    "print(maov.mv_test())"
   ]
  },
  {
   "cell_type": "markdown",
   "metadata": {},
   "source": [
    "## 2.3 Conclusion\n",
    "If has_view used as the primary metric, we conclude that : <br>\n",
    "<font color='blue'>    User Activity Level in Group B is significantly different than Group A  </font><br>\n",
    "That statement is also true when we require all user activity related metrics to be significantly different at the same time <br>\n",
    ", including telephone clicks, bids, emails & web url clicks.  <br> \n",
    "<br>\n",
    "If there is no other secondary metric to look at, for example, loading time of the page, cost of implementing changes in Group B<br>\n",
    "<font color='blue'> we recommend that the experiment can go full-on because the effect of intervention in Group B has 3% positive of effect . </font>"
   ]
  }
 ],
 "metadata": {
  "kernelspec": {
   "display_name": "Python 3",
   "language": "python",
   "name": "python3"
  },
  "language_info": {
   "codemirror_mode": {
    "name": "ipython",
    "version": 3
   },
   "file_extension": ".py",
   "mimetype": "text/x-python",
   "name": "python",
   "nbconvert_exporter": "python",
   "pygments_lexer": "ipython3",
   "version": "3.5.3"
  }
 },
 "nbformat": 4,
 "nbformat_minor": 2
}
