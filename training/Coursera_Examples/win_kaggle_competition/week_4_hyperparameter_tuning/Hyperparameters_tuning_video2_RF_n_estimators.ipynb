{
 "cells": [
  {
   "cell_type": "markdown",
   "metadata": {},
   "source": [
    "This notebook shows, how to compute RandomForest's accuracy scores for each value of `n_estimators` without retraining the model. No rocket science involved, but still useful."
   ]
  },
  {
   "cell_type": "markdown",
   "metadata": {},
   "source": [
    "# Load some data"
   ]
  },
  {
   "cell_type": "code",
   "execution_count": 1,
   "metadata": {
    "collapsed": true
   },
   "outputs": [],
   "source": [
    "import sklearn.datasets\n",
    "from sklearn.model_selection import train_test_split\n",
    "\n",
    "X, y = sklearn.datasets.load_digits(10,True)\n",
    "X_train, X_val, y_train, y_val = train_test_split(X, y)"
   ]
  },
  {
   "cell_type": "code",
   "execution_count": 2,
   "metadata": {},
   "outputs": [
    {
     "data": {
      "text/plain": [
       "(array([[  0.,   0.,   0., ...,  12.,   0.,   0.],\n",
       "        [  0.,   0.,   3., ...,   1.,   0.,   0.],\n",
       "        [  0.,   0.,   3., ...,   0.,   0.,   0.],\n",
       "        ..., \n",
       "        [  0.,   1.,  12., ...,   1.,   0.,   0.],\n",
       "        [  0.,   0.,   8., ...,   7.,   1.,   0.],\n",
       "        [  0.,   0.,   4., ...,   2.,   0.,   0.]]),\n",
       " array([9, 5, 5, ..., 5, 2, 0]))"
      ]
     },
     "execution_count": 2,
     "metadata": {},
     "output_type": "execute_result"
    }
   ],
   "source": [
    "X_train, y_train"
   ]
  },
  {
   "cell_type": "code",
   "execution_count": 3,
   "metadata": {
    "collapsed": true
   },
   "outputs": [],
   "source": [
    "import numpy as np\n",
    "import matplotlib.pyplot as plt\n",
    "%matplotlib inline\n",
    "from sklearn.ensemble import RandomForestClassifier\n",
    "from sklearn.metrics import accuracy_score"
   ]
  },
  {
   "cell_type": "markdown",
   "metadata": {},
   "source": [
    "**Step 1:** first fit a Random Forest to the data. Set `n_estimators` to a high value."
   ]
  },
  {
   "cell_type": "code",
   "execution_count": 4,
   "metadata": {},
   "outputs": [
    {
     "data": {
      "text/plain": [
       "RandomForestClassifier(bootstrap=True, class_weight=None, criterion='gini',\n",
       "            max_depth=4, max_features='auto', max_leaf_nodes=None,\n",
       "            min_impurity_decrease=0.0, min_impurity_split=None,\n",
       "            min_samples_leaf=1, min_samples_split=2,\n",
       "            min_weight_fraction_leaf=0.0, n_estimators=500, n_jobs=-1,\n",
       "            oob_score=False, random_state=None, verbose=0,\n",
       "            warm_start=False)"
      ]
     },
     "execution_count": 4,
     "metadata": {},
     "output_type": "execute_result"
    }
   ],
   "source": [
    "rf = RandomForestClassifier(n_estimators=500, max_depth=4, n_jobs=-1)\n",
    "rf.fit(X_train, y_train)"
   ]
  },
  {
   "cell_type": "markdown",
   "metadata": {},
   "source": [
    "**Step 2:** Get predictions for each tree in Random Forest separately."
   ]
  },
  {
   "cell_type": "code",
   "execution_count": 5,
   "metadata": {
    "collapsed": true
   },
   "outputs": [],
   "source": [
    "predictions = []\n",
    "for tree in rf.estimators_:\n",
    "    predictions.append(tree.predict_proba(X_val)[None, :])  #get prediction of validation X from each tree"
   ]
  },
  {
   "cell_type": "code",
   "execution_count": 8,
   "metadata": {},
   "outputs": [
    {
     "data": {
      "text/plain": [
       "[array([[[ 0.        ,  0.19318182,  0.40909091, ...,  0.        ,\n",
       "           0.04545455,  0.02272727],\n",
       "         [ 0.        ,  0.29433962,  0.11320755, ...,  0.01886792,\n",
       "           0.34716981,  0.06037736],\n",
       "         [ 0.        ,  0.00757576,  0.0530303 , ...,  0.        ,\n",
       "           0.        ,  0.        ],\n",
       "         ..., \n",
       "         [ 0.        ,  0.02040816,  0.        , ...,  0.51020408,\n",
       "           0.16326531,  0.        ],\n",
       "         [ 0.        ,  0.05194805,  0.        , ...,  0.        ,\n",
       "           0.        ,  0.12987013],\n",
       "         [ 0.        ,  0.29433962,  0.11320755, ...,  0.01886792,\n",
       "           0.34716981,  0.06037736]]]),\n",
       " array([[[ 0.02515723,  0.04402516,  0.        , ...,  0.        ,\n",
       "           0.08176101,  0.        ],\n",
       "         [ 0.0651341 ,  0.08045977,  0.        , ...,  0.00383142,\n",
       "           0.04597701,  0.04980843],\n",
       "         [ 0.0651341 ,  0.08045977,  0.        , ...,  0.00383142,\n",
       "           0.04597701,  0.04980843],\n",
       "         ..., \n",
       "         [ 0.        ,  0.2       ,  0.01578947, ...,  0.48947368,\n",
       "           0.18947368,  0.        ],\n",
       "         [ 0.02515723,  0.04402516,  0.        , ...,  0.        ,\n",
       "           0.08176101,  0.        ],\n",
       "         [ 0.        ,  0.01052632,  0.03157895, ...,  0.16842105,\n",
       "           0.51578947,  0.02105263]]])]"
      ]
     },
     "execution_count": 8,
     "metadata": {},
     "output_type": "execute_result"
    }
   ],
   "source": [
    "predictions[0:2]"
   ]
  },
  {
   "cell_type": "markdown",
   "metadata": {},
   "source": [
    "**Step 3:** Concatenate the predictions to a tensor of size `(number of trees, number of objects, number of classes)`."
   ]
  },
  {
   "cell_type": "code",
   "execution_count": 9,
   "metadata": {
    "collapsed": true
   },
   "outputs": [],
   "source": [
    "predictions = np.vstack(predictions)"
   ]
  },
  {
   "cell_type": "code",
   "execution_count": 11,
   "metadata": {},
   "outputs": [
    {
     "data": {
      "text/plain": [
       "array([[[ 0.        ,  0.19318182,  0.40909091, ...,  0.        ,\n",
       "          0.04545455,  0.02272727],\n",
       "        [ 0.        ,  0.29433962,  0.11320755, ...,  0.01886792,\n",
       "          0.34716981,  0.06037736],\n",
       "        [ 0.        ,  0.00757576,  0.0530303 , ...,  0.        ,\n",
       "          0.        ,  0.        ],\n",
       "        ..., \n",
       "        [ 0.        ,  0.02040816,  0.        , ...,  0.51020408,\n",
       "          0.16326531,  0.        ],\n",
       "        [ 0.        ,  0.05194805,  0.        , ...,  0.        ,\n",
       "          0.        ,  0.12987013],\n",
       "        [ 0.        ,  0.29433962,  0.11320755, ...,  0.01886792,\n",
       "          0.34716981,  0.06037736]],\n",
       "\n",
       "       [[ 0.02515723,  0.04402516,  0.        , ...,  0.        ,\n",
       "          0.08176101,  0.        ],\n",
       "        [ 0.0651341 ,  0.08045977,  0.        , ...,  0.00383142,\n",
       "          0.04597701,  0.04980843],\n",
       "        [ 0.0651341 ,  0.08045977,  0.        , ...,  0.00383142,\n",
       "          0.04597701,  0.04980843],\n",
       "        ..., \n",
       "        [ 0.        ,  0.2       ,  0.01578947, ...,  0.48947368,\n",
       "          0.18947368,  0.        ],\n",
       "        [ 0.02515723,  0.04402516,  0.        , ...,  0.        ,\n",
       "          0.08176101,  0.        ],\n",
       "        [ 0.        ,  0.01052632,  0.03157895, ...,  0.16842105,\n",
       "          0.51578947,  0.02105263]]])"
      ]
     },
     "execution_count": 11,
     "metadata": {},
     "output_type": "execute_result"
    }
   ],
   "source": [
    "predictions[0:2]"
   ]
  },
  {
   "cell_type": "markdown",
   "metadata": {},
   "source": [
    "**Step 4:** Сompute cumulative average of the predictions. That will be a tensor, that will contain predictions of the random forests for each `n_estimators`."
   ]
  },
  {
   "cell_type": "code",
   "execution_count": 12,
   "metadata": {
    "collapsed": true
   },
   "outputs": [],
   "source": [
    "# average of per prediction from different trees\n",
    "cum_mean = np.cumsum(predictions, axis=0)/np.arange(1, predictions.shape[0] + 1)[:, None, None]"
   ]
  },
  {
   "cell_type": "markdown",
   "metadata": {},
   "source": [
    "**Step 5:** Get accuracy scores for each `n_estimators` value"
   ]
  },
  {
   "cell_type": "code",
   "execution_count": 13,
   "metadata": {
    "collapsed": true
   },
   "outputs": [],
   "source": [
    "scores = []\n",
    "for pred in cum_mean:\n",
    "    scores.append(accuracy_score(y_val, np.argmax(pred, axis=1)))"
   ]
  },
  {
   "cell_type": "markdown",
   "metadata": {},
   "source": [
    "**That is it!** Plot the resulting scores to obtain similar plot to one that appeared on the slides."
   ]
  },
  {
   "cell_type": "code",
   "execution_count": 14,
   "metadata": {},
   "outputs": [
    {
     "data": {
      "image/png": "[encoded data removed]",
      "text/plain": [
       "<matplotlib.figure.Figure at 0x7f6e3ad45978>"
      ]
     },
     "metadata": {},
     "output_type": "display_data"
    }
   ],
   "source": [
    "plt.figure(figsize=(10, 6))\n",
    "plt.plot(scores, linewidth=3)\n",
    "plt.xlabel('num_trees')\n",
    "plt.ylabel('accuracy');"
   ]
  },
  {
   "cell_type": "markdown",
   "metadata": {},
   "source": [
    "We see, that 150 trees are already sufficient to have stable result."
   ]
  }
 ],
 "metadata": {
  "kernelspec": {
   "display_name": "Python 3",
   "language": "python",
   "name": "python3"
  },
  "language_info": {
   "codemirror_mode": {
    "name": "ipython",
    "version": 3
   },
   "file_extension": ".py",
   "mimetype": "text/x-python",
   "name": "python",
   "nbconvert_exporter": "python",
   "pygments_lexer": "ipython3",
   "version": "3.6.2"
  }
 },
 "nbformat": 4,
 "nbformat_minor": 2
}
