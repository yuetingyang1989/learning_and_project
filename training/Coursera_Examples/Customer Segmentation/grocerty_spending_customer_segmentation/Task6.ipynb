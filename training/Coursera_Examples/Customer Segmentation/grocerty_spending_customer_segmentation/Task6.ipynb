{
 "cells": [
  {
   "cell_type": "markdown",
   "metadata": {},
   "source": [
    "# Introduction to Customer Segmentation in Python\n",
    "\n",
    "## Task 6: Interactive Cluster Analysis\n",
    "Let's see if there's a nicer way for us to compare our separate clusters."
   ]
  },
  {
   "cell_type": "code",
   "execution_count": 2,
   "metadata": {
    "collapsed": false
   },
   "outputs": [],
   "source": [
    "import numpy as np\n",
    "import pandas as pd\n",
    "\n",
    "#import plotly.graph_objects as go\n",
    "\n",
    "\n",
    "features = [\n",
    "#     'Channel',\n",
    "#     'Region',\n",
    "    'Fresh',\n",
    "    'Milk',\n",
    "    'Grocery',\n",
    "    'Frozen',\n",
    "    'Detergents_Paper',\n",
    "    'Delicatessen'\n",
    "]"
   ]
  },
  {
   "cell_type": "code",
   "execution_count": 3,
   "metadata": {
    "collapsed": true
   },
   "outputs": [],
   "source": [
    "df = pd.read_csv('Data/data_with_clusters.csv', index_col=0)\n",
    "data = np.load('Data/training_data.npy')"
   ]
  },
  {
   "cell_type": "code",
   "execution_count": 4,
   "metadata": {
    "collapsed": false
   },
   "outputs": [
    {
     "data": {
      "text/html": [
       "<div>\n",
       "<style scoped>\n",
       "    .dataframe tbody tr th:only-of-type {\n",
       "        vertical-align: middle;\n",
       "    }\n",
       "\n",
       "    .dataframe tbody tr th {\n",
       "        vertical-align: top;\n",
       "    }\n",
       "\n",
       "    .dataframe thead th {\n",
       "        text-align: right;\n",
       "    }\n",
       "</style>\n",
       "<table border=\"1\" class=\"dataframe\">\n",
       "  <thead>\n",
       "    <tr style=\"text-align: right;\">\n",
       "      <th></th>\n",
       "      <th>Channel</th>\n",
       "      <th>Region</th>\n",
       "      <th>Fresh</th>\n",
       "      <th>Milk</th>\n",
       "      <th>Grocery</th>\n",
       "      <th>Frozen</th>\n",
       "      <th>Detergents_Paper</th>\n",
       "      <th>Delicatessen</th>\n",
       "      <th>x_kpca_rbf</th>\n",
       "      <th>y_kpca_rbf</th>\n",
       "      <th>x_kpca_poly</th>\n",
       "      <th>y_kpca_poly</th>\n",
       "      <th>x_kpca_cos</th>\n",
       "      <th>y_kpca_cos</th>\n",
       "      <th>cluster_kpca_rbf</th>\n",
       "    </tr>\n",
       "  </thead>\n",
       "  <tbody>\n",
       "    <tr>\n",
       "      <th>0</th>\n",
       "      <td>Retail</td>\n",
       "      <td>Other</td>\n",
       "      <td>12669</td>\n",
       "      <td>9656</td>\n",
       "      <td>7561</td>\n",
       "      <td>214</td>\n",
       "      <td>2674</td>\n",
       "      <td>1338</td>\n",
       "      <td>0.052874</td>\n",
       "      <td>-0.095702</td>\n",
       "      <td>0.078374</td>\n",
       "      <td>-0.173115</td>\n",
       "      <td>0.504789</td>\n",
       "      <td>0.009622</td>\n",
       "      <td>2</td>\n",
       "    </tr>\n",
       "    <tr>\n",
       "      <th>1</th>\n",
       "      <td>Retail</td>\n",
       "      <td>Other</td>\n",
       "      <td>7057</td>\n",
       "      <td>9810</td>\n",
       "      <td>9568</td>\n",
       "      <td>1762</td>\n",
       "      <td>3293</td>\n",
       "      <td>1776</td>\n",
       "      <td>0.129646</td>\n",
       "      <td>-0.160458</td>\n",
       "      <td>0.185813</td>\n",
       "      <td>-0.307415</td>\n",
       "      <td>0.889941</td>\n",
       "      <td>-0.262833</td>\n",
       "      <td>2</td>\n",
       "    </tr>\n",
       "    <tr>\n",
       "      <th>2</th>\n",
       "      <td>Retail</td>\n",
       "      <td>Other</td>\n",
       "      <td>6353</td>\n",
       "      <td>8808</td>\n",
       "      <td>7684</td>\n",
       "      <td>2405</td>\n",
       "      <td>3516</td>\n",
       "      <td>7844</td>\n",
       "      <td>0.210205</td>\n",
       "      <td>0.048446</td>\n",
       "      <td>0.341702</td>\n",
       "      <td>0.075048</td>\n",
       "      <td>0.473994</td>\n",
       "      <td>0.235687</td>\n",
       "      <td>2</td>\n",
       "    </tr>\n",
       "    <tr>\n",
       "      <th>3</th>\n",
       "      <td>HoReCa</td>\n",
       "      <td>Other</td>\n",
       "      <td>13265</td>\n",
       "      <td>1196</td>\n",
       "      <td>4221</td>\n",
       "      <td>6404</td>\n",
       "      <td>507</td>\n",
       "      <td>1788</td>\n",
       "      <td>-0.216243</td>\n",
       "      <td>0.105165</td>\n",
       "      <td>-0.253304</td>\n",
       "      <td>0.250352</td>\n",
       "      <td>-0.618611</td>\n",
       "      <td>0.370131</td>\n",
       "      <td>4</td>\n",
       "    </tr>\n",
       "    <tr>\n",
       "      <th>4</th>\n",
       "      <td>Retail</td>\n",
       "      <td>Other</td>\n",
       "      <td>22615</td>\n",
       "      <td>5410</td>\n",
       "      <td>7198</td>\n",
       "      <td>3915</td>\n",
       "      <td>1777</td>\n",
       "      <td>5185</td>\n",
       "      <td>-0.011687</td>\n",
       "      <td>0.265432</td>\n",
       "      <td>0.136617</td>\n",
       "      <td>0.375279</td>\n",
       "      <td>0.068900</td>\n",
       "      <td>0.861829</td>\n",
       "      <td>4</td>\n",
       "    </tr>\n",
       "  </tbody>\n",
       "</table>\n",
       "</div>"
      ],
      "text/plain": [
       "  Channel Region  Fresh  Milk  Grocery  Frozen  Detergents_Paper  \\\n",
       "0  Retail  Other  12669  9656     7561     214              2674   \n",
       "1  Retail  Other   7057  9810     9568    1762              3293   \n",
       "2  Retail  Other   6353  8808     7684    2405              3516   \n",
       "3  HoReCa  Other  13265  1196     4221    6404               507   \n",
       "4  Retail  Other  22615  5410     7198    3915              1777   \n",
       "\n",
       "   Delicatessen  x_kpca_rbf  y_kpca_rbf  x_kpca_poly  y_kpca_poly  x_kpca_cos  \\\n",
       "0          1338    0.052874   -0.095702     0.078374    -0.173115    0.504789   \n",
       "1          1776    0.129646   -0.160458     0.185813    -0.307415    0.889941   \n",
       "2          7844    0.210205    0.048446     0.341702     0.075048    0.473994   \n",
       "3          1788   -0.216243    0.105165    -0.253304     0.250352   -0.618611   \n",
       "4          5185   -0.011687    0.265432     0.136617     0.375279    0.068900   \n",
       "\n",
       "   y_kpca_cos  cluster_kpca_rbf  \n",
       "0    0.009622                 2  \n",
       "1   -0.262833                 2  \n",
       "2    0.235687                 2  \n",
       "3    0.370131                 4  \n",
       "4    0.861829                 4  "
      ]
     },
     "execution_count": 4,
     "metadata": {},
     "output_type": "execute_result"
    }
   ],
   "source": [
    "df.head()"
   ]
  },
  {
   "cell_type": "markdown",
   "metadata": {},
   "source": [
    "## Cluster Distribution"
   ]
  },
  {
   "cell_type": "code",
   "execution_count": 5,
   "metadata": {
    "collapsed": false
   },
   "outputs": [
    {
     "data": {
      "text/html": [
       "<div>\n",
       "<style scoped>\n",
       "    .dataframe tbody tr th:only-of-type {\n",
       "        vertical-align: middle;\n",
       "    }\n",
       "\n",
       "    .dataframe tbody tr th {\n",
       "        vertical-align: top;\n",
       "    }\n",
       "\n",
       "    .dataframe thead th {\n",
       "        text-align: right;\n",
       "    }\n",
       "</style>\n",
       "<table border=\"1\" class=\"dataframe\">\n",
       "  <thead>\n",
       "    <tr style=\"text-align: right;\">\n",
       "      <th></th>\n",
       "      <th></th>\n",
       "      <th></th>\n",
       "      <th>Fresh</th>\n",
       "      <th>Milk</th>\n",
       "      <th>Grocery</th>\n",
       "      <th>Frozen</th>\n",
       "      <th>Detergents_Paper</th>\n",
       "      <th>Delicatessen</th>\n",
       "    </tr>\n",
       "    <tr>\n",
       "      <th>cluster_kpca_rbf</th>\n",
       "      <th>Channel</th>\n",
       "      <th>Region</th>\n",
       "      <th></th>\n",
       "      <th></th>\n",
       "      <th></th>\n",
       "      <th></th>\n",
       "      <th></th>\n",
       "      <th></th>\n",
       "    </tr>\n",
       "  </thead>\n",
       "  <tbody>\n",
       "    <tr>\n",
       "      <th rowspan=\"5\" valign=\"top\">0</th>\n",
       "      <th rowspan=\"2\" valign=\"top\">HoReCa</th>\n",
       "      <th>Lisbon</th>\n",
       "      <td>5909.000000</td>\n",
       "      <td>23527.000000</td>\n",
       "      <td>13699.000000</td>\n",
       "      <td>10155.000000</td>\n",
       "      <td>830.000000</td>\n",
       "      <td>3636.000000</td>\n",
       "    </tr>\n",
       "    <tr>\n",
       "      <th>Other</th>\n",
       "      <td>10683.000000</td>\n",
       "      <td>21858.000000</td>\n",
       "      <td>15400.000000</td>\n",
       "      <td>3635.000000</td>\n",
       "      <td>282.000000</td>\n",
       "      <td>5120.000000</td>\n",
       "    </tr>\n",
       "    <tr>\n",
       "      <th rowspan=\"3\" valign=\"top\">Retail</th>\n",
       "      <th>Lisbon</th>\n",
       "      <td>4999.000000</td>\n",
       "      <td>17162.428571</td>\n",
       "      <td>28280.571429</td>\n",
       "      <td>2995.714286</td>\n",
       "      <td>13884.428571</td>\n",
       "      <td>1797.714286</td>\n",
       "    </tr>\n",
       "    <tr>\n",
       "      <th>Other</th>\n",
       "      <td>5515.041667</td>\n",
       "      <td>15454.666667</td>\n",
       "      <td>25002.791667</td>\n",
       "      <td>1381.041667</td>\n",
       "      <td>11222.125000</td>\n",
       "      <td>1993.250000</td>\n",
       "    </tr>\n",
       "    <tr>\n",
       "      <th>Porto</th>\n",
       "      <td>5135.571429</td>\n",
       "      <td>13998.142857</td>\n",
       "      <td>20566.428571</td>\n",
       "      <td>1338.142857</td>\n",
       "      <td>10581.857143</td>\n",
       "      <td>1114.285714</td>\n",
       "    </tr>\n",
       "    <tr>\n",
       "      <th rowspan=\"6\" valign=\"top\">1</th>\n",
       "      <th rowspan=\"3\" valign=\"top\">HoReCa</th>\n",
       "      <th>Lisbon</th>\n",
       "      <td>6017.600000</td>\n",
       "      <td>2914.133333</td>\n",
       "      <td>2980.533333</td>\n",
       "      <td>1988.366667</td>\n",
       "      <td>922.000000</td>\n",
       "      <td>629.233333</td>\n",
       "    </tr>\n",
       "    <tr>\n",
       "      <th>Other</th>\n",
       "      <td>5900.634783</td>\n",
       "      <td>2549.556522</td>\n",
       "      <td>2856.382609</td>\n",
       "      <td>1700.278261</td>\n",
       "      <td>598.608696</td>\n",
       "      <td>936.156522</td>\n",
       "    </tr>\n",
       "    <tr>\n",
       "      <th>Porto</th>\n",
       "      <td>7070.600000</td>\n",
       "      <td>1708.266667</td>\n",
       "      <td>4009.933333</td>\n",
       "      <td>1986.000000</td>\n",
       "      <td>444.933333</td>\n",
       "      <td>775.200000</td>\n",
       "    </tr>\n",
       "    <tr>\n",
       "      <th rowspan=\"3\" valign=\"top\">Retail</th>\n",
       "      <th>Lisbon</th>\n",
       "      <td>2790.000000</td>\n",
       "      <td>2527.000000</td>\n",
       "      <td>5265.000000</td>\n",
       "      <td>5612.000000</td>\n",
       "      <td>788.000000</td>\n",
       "      <td>1360.000000</td>\n",
       "    </tr>\n",
       "    <tr>\n",
       "      <th>Other</th>\n",
       "      <td>11889.466667</td>\n",
       "      <td>4807.466667</td>\n",
       "      <td>7642.333333</td>\n",
       "      <td>1136.733333</td>\n",
       "      <td>2761.933333</td>\n",
       "      <td>1007.200000</td>\n",
       "    </tr>\n",
       "    <tr>\n",
       "      <th>Porto</th>\n",
       "      <td>10708.666667</td>\n",
       "      <td>3779.666667</td>\n",
       "      <td>6193.333333</td>\n",
       "      <td>898.666667</td>\n",
       "      <td>2860.666667</td>\n",
       "      <td>930.000000</td>\n",
       "    </tr>\n",
       "    <tr>\n",
       "      <th rowspan=\"5\" valign=\"top\">2</th>\n",
       "      <th rowspan=\"2\" valign=\"top\">HoReCa</th>\n",
       "      <th>Lisbon</th>\n",
       "      <td>5620.000000</td>\n",
       "      <td>10123.400000</td>\n",
       "      <td>9722.000000</td>\n",
       "      <td>1732.600000</td>\n",
       "      <td>3729.200000</td>\n",
       "      <td>1815.400000</td>\n",
       "    </tr>\n",
       "    <tr>\n",
       "      <th>Other</th>\n",
       "      <td>3393.636364</td>\n",
       "      <td>6987.818182</td>\n",
       "      <td>10161.454545</td>\n",
       "      <td>1628.090909</td>\n",
       "      <td>3728.818182</td>\n",
       "      <td>1271.363636</td>\n",
       "    </tr>\n",
       "    <tr>\n",
       "      <th rowspan=\"3\" valign=\"top\">Retail</th>\n",
       "      <th>Lisbon</th>\n",
       "      <td>2995.375000</td>\n",
       "      <td>7442.250000</td>\n",
       "      <td>14304.875000</td>\n",
       "      <td>1231.500000</td>\n",
       "      <td>5819.125000</td>\n",
       "      <td>2007.625000</td>\n",
       "    </tr>\n",
       "    <tr>\n",
       "      <th>Other</th>\n",
       "      <td>5919.000000</td>\n",
       "      <td>7831.600000</td>\n",
       "      <td>12074.420000</td>\n",
       "      <td>1306.460000</td>\n",
       "      <td>5394.080000</td>\n",
       "      <td>1443.100000</td>\n",
       "    </tr>\n",
       "    <tr>\n",
       "      <th>Porto</th>\n",
       "      <td>2993.500000</td>\n",
       "      <td>8762.333333</td>\n",
       "      <td>11137.333333</td>\n",
       "      <td>692.166667</td>\n",
       "      <td>5765.833333</td>\n",
       "      <td>1018.500000</td>\n",
       "    </tr>\n",
       "    <tr>\n",
       "      <th rowspan=\"5\" valign=\"top\">3</th>\n",
       "      <th rowspan=\"3\" valign=\"top\">HoReCa</th>\n",
       "      <th>Lisbon</th>\n",
       "      <td>37747.142857</td>\n",
       "      <td>6045.857143</td>\n",
       "      <td>7376.142857</td>\n",
       "      <td>7186.714286</td>\n",
       "      <td>611.142857</td>\n",
       "      <td>2868.142857</td>\n",
       "    </tr>\n",
       "    <tr>\n",
       "      <th>Other</th>\n",
       "      <td>39183.750000</td>\n",
       "      <td>6478.281250</td>\n",
       "      <td>6470.281250</td>\n",
       "      <td>9346.875000</td>\n",
       "      <td>914.062500</td>\n",
       "      <td>4325.062500</td>\n",
       "    </tr>\n",
       "    <tr>\n",
       "      <th>Porto</th>\n",
       "      <td>32717.000000</td>\n",
       "      <td>16784.000000</td>\n",
       "      <td>13626.000000</td>\n",
       "      <td>60869.000000</td>\n",
       "      <td>1272.000000</td>\n",
       "      <td>5609.000000</td>\n",
       "    </tr>\n",
       "    <tr>\n",
       "      <th rowspan=\"2\" valign=\"top\">Retail</th>\n",
       "      <th>Other</th>\n",
       "      <td>30796.400000</td>\n",
       "      <td>28588.500000</td>\n",
       "      <td>31077.300000</td>\n",
       "      <td>2611.000000</td>\n",
       "      <td>13220.000000</td>\n",
       "      <td>4209.600000</td>\n",
       "    </tr>\n",
       "    <tr>\n",
       "      <th>Porto</th>\n",
       "      <td>8565.000000</td>\n",
       "      <td>4980.000000</td>\n",
       "      <td>67298.000000</td>\n",
       "      <td>131.000000</td>\n",
       "      <td>38102.000000</td>\n",
       "      <td>1215.000000</td>\n",
       "    </tr>\n",
       "    <tr>\n",
       "      <th rowspan=\"6\" valign=\"top\">4</th>\n",
       "      <th rowspan=\"3\" valign=\"top\">HoReCa</th>\n",
       "      <th>Lisbon</th>\n",
       "      <td>17654.125000</td>\n",
       "      <td>1528.312500</td>\n",
       "      <td>2136.500000</td>\n",
       "      <td>3483.500000</td>\n",
       "      <td>291.687500</td>\n",
       "      <td>1185.312500</td>\n",
       "    </tr>\n",
       "    <tr>\n",
       "      <th>Other</th>\n",
       "      <td>18226.980769</td>\n",
       "      <td>2625.480769</td>\n",
       "      <td>3026.769231</td>\n",
       "      <td>4912.115385</td>\n",
       "      <td>511.557692</td>\n",
       "      <td>1061.403846</td>\n",
       "    </tr>\n",
       "    <tr>\n",
       "      <th>Porto</th>\n",
       "      <td>15619.916667</td>\n",
       "      <td>1842.583333</td>\n",
       "      <td>4108.250000</td>\n",
       "      <td>5850.166667</td>\n",
       "      <td>464.166667</td>\n",
       "      <td>1144.000000</td>\n",
       "    </tr>\n",
       "    <tr>\n",
       "      <th rowspan=\"3\" valign=\"top\">Retail</th>\n",
       "      <th>Lisbon</th>\n",
       "      <td>15927.000000</td>\n",
       "      <td>5955.000000</td>\n",
       "      <td>7413.500000</td>\n",
       "      <td>5040.000000</td>\n",
       "      <td>1761.500000</td>\n",
       "      <td>1845.000000</td>\n",
       "    </tr>\n",
       "    <tr>\n",
       "      <th>Other</th>\n",
       "      <td>19615.166667</td>\n",
       "      <td>5419.500000</td>\n",
       "      <td>7659.000000</td>\n",
       "      <td>2876.166667</td>\n",
       "      <td>1959.333333</td>\n",
       "      <td>2425.833333</td>\n",
       "    </tr>\n",
       "    <tr>\n",
       "      <th>Porto</th>\n",
       "      <td>21952.500000</td>\n",
       "      <td>3872.500000</td>\n",
       "      <td>6766.500000</td>\n",
       "      <td>6462.000000</td>\n",
       "      <td>2221.500000</td>\n",
       "      <td>2812.500000</td>\n",
       "    </tr>\n",
       "  </tbody>\n",
       "</table>\n",
       "</div>"
      ],
      "text/plain": [
       "                                        Fresh          Milk       Grocery  \\\n",
       "cluster_kpca_rbf Channel Region                                             \n",
       "0                HoReCa  Lisbon   5909.000000  23527.000000  13699.000000   \n",
       "                         Other   10683.000000  21858.000000  15400.000000   \n",
       "                 Retail  Lisbon   4999.000000  17162.428571  28280.571429   \n",
       "                         Other    5515.041667  15454.666667  25002.791667   \n",
       "                         Porto    5135.571429  13998.142857  20566.428571   \n",
       "1                HoReCa  Lisbon   6017.600000   2914.133333   2980.533333   \n",
       "                         Other    5900.634783   2549.556522   2856.382609   \n",
       "                         Porto    7070.600000   1708.266667   4009.933333   \n",
       "                 Retail  Lisbon   2790.000000   2527.000000   5265.000000   \n",
       "                         Other   11889.466667   4807.466667   7642.333333   \n",
       "                         Porto   10708.666667   3779.666667   6193.333333   \n",
       "2                HoReCa  Lisbon   5620.000000  10123.400000   9722.000000   \n",
       "                         Other    3393.636364   6987.818182  10161.454545   \n",
       "                 Retail  Lisbon   2995.375000   7442.250000  14304.875000   \n",
       "                         Other    5919.000000   7831.600000  12074.420000   \n",
       "                         Porto    2993.500000   8762.333333  11137.333333   \n",
       "3                HoReCa  Lisbon  37747.142857   6045.857143   7376.142857   \n",
       "                         Other   39183.750000   6478.281250   6470.281250   \n",
       "                         Porto   32717.000000  16784.000000  13626.000000   \n",
       "                 Retail  Other   30796.400000  28588.500000  31077.300000   \n",
       "                         Porto    8565.000000   4980.000000  67298.000000   \n",
       "4                HoReCa  Lisbon  17654.125000   1528.312500   2136.500000   \n",
       "                         Other   18226.980769   2625.480769   3026.769231   \n",
       "                         Porto   15619.916667   1842.583333   4108.250000   \n",
       "                 Retail  Lisbon  15927.000000   5955.000000   7413.500000   \n",
       "                         Other   19615.166667   5419.500000   7659.000000   \n",
       "                         Porto   21952.500000   3872.500000   6766.500000   \n",
       "\n",
       "                                       Frozen  Detergents_Paper  Delicatessen  \n",
       "cluster_kpca_rbf Channel Region                                                \n",
       "0                HoReCa  Lisbon  10155.000000        830.000000   3636.000000  \n",
       "                         Other    3635.000000        282.000000   5120.000000  \n",
       "                 Retail  Lisbon   2995.714286      13884.428571   1797.714286  \n",
       "                         Other    1381.041667      11222.125000   1993.250000  \n",
       "                         Porto    1338.142857      10581.857143   1114.285714  \n",
       "1                HoReCa  Lisbon   1988.366667        922.000000    629.233333  \n",
       "                         Other    1700.278261        598.608696    936.156522  \n",
       "                         Porto    1986.000000        444.933333    775.200000  \n",
       "                 Retail  Lisbon   5612.000000        788.000000   1360.000000  \n",
       "                         Other    1136.733333       2761.933333   1007.200000  \n",
       "                         Porto     898.666667       2860.666667    930.000000  \n",
       "2                HoReCa  Lisbon   1732.600000       3729.200000   1815.400000  \n",
       "                         Other    1628.090909       3728.818182   1271.363636  \n",
       "                 Retail  Lisbon   1231.500000       5819.125000   2007.625000  \n",
       "                         Other    1306.460000       5394.080000   1443.100000  \n",
       "                         Porto     692.166667       5765.833333   1018.500000  \n",
       "3                HoReCa  Lisbon   7186.714286        611.142857   2868.142857  \n",
       "                         Other    9346.875000        914.062500   4325.062500  \n",
       "                         Porto   60869.000000       1272.000000   5609.000000  \n",
       "                 Retail  Other    2611.000000      13220.000000   4209.600000  \n",
       "                         Porto     131.000000      38102.000000   1215.000000  \n",
       "4                HoReCa  Lisbon   3483.500000        291.687500   1185.312500  \n",
       "                         Other    4912.115385        511.557692   1061.403846  \n",
       "                         Porto    5850.166667        464.166667   1144.000000  \n",
       "                 Retail  Lisbon   5040.000000       1761.500000   1845.000000  \n",
       "                         Other    2876.166667       1959.333333   2425.833333  \n",
       "                         Porto    6462.000000       2221.500000   2812.500000  "
      ]
     },
     "execution_count": 5,
     "metadata": {},
     "output_type": "execute_result"
    }
   ],
   "source": [
    "#observe if the mean value in each cluster are differnt, if the value are very differnt, then the clustering is good\n",
    "df.groupby(['cluster_kpca_rbf', 'Channel', 'Region'])[features].mean()"
   ]
  },
  {
   "cell_type": "code",
   "execution_count": 7,
   "metadata": {
    "collapsed": false
   },
   "outputs": [
    {
     "data": {
      "text/html": [
       "<div>\n",
       "<style scoped>\n",
       "    .dataframe tbody tr th:only-of-type {\n",
       "        vertical-align: middle;\n",
       "    }\n",
       "\n",
       "    .dataframe tbody tr th {\n",
       "        vertical-align: top;\n",
       "    }\n",
       "\n",
       "    .dataframe thead th {\n",
       "        text-align: right;\n",
       "    }\n",
       "</style>\n",
       "<table border=\"1\" class=\"dataframe\">\n",
       "  <thead>\n",
       "    <tr style=\"text-align: right;\">\n",
       "      <th></th>\n",
       "      <th>Channel</th>\n",
       "      <th>Region</th>\n",
       "      <th>Fresh</th>\n",
       "      <th>Milk</th>\n",
       "      <th>Grocery</th>\n",
       "      <th>Frozen</th>\n",
       "      <th>Detergents_Paper</th>\n",
       "      <th>Delicatessen</th>\n",
       "      <th>x_kpca_rbf</th>\n",
       "      <th>y_kpca_rbf</th>\n",
       "      <th>x_kpca_poly</th>\n",
       "      <th>y_kpca_poly</th>\n",
       "      <th>x_kpca_cos</th>\n",
       "      <th>y_kpca_cos</th>\n",
       "    </tr>\n",
       "    <tr>\n",
       "      <th>cluster_kpca_rbf</th>\n",
       "      <th></th>\n",
       "      <th></th>\n",
       "      <th></th>\n",
       "      <th></th>\n",
       "      <th></th>\n",
       "      <th></th>\n",
       "      <th></th>\n",
       "      <th></th>\n",
       "      <th></th>\n",
       "      <th></th>\n",
       "      <th></th>\n",
       "      <th></th>\n",
       "      <th></th>\n",
       "      <th></th>\n",
       "    </tr>\n",
       "  </thead>\n",
       "  <tbody>\n",
       "    <tr>\n",
       "      <th>0</th>\n",
       "      <td>40</td>\n",
       "      <td>40</td>\n",
       "      <td>40</td>\n",
       "      <td>40</td>\n",
       "      <td>40</td>\n",
       "      <td>40</td>\n",
       "      <td>40</td>\n",
       "      <td>40</td>\n",
       "      <td>40</td>\n",
       "      <td>40</td>\n",
       "      <td>40</td>\n",
       "      <td>40</td>\n",
       "      <td>40</td>\n",
       "      <td>40</td>\n",
       "    </tr>\n",
       "    <tr>\n",
       "      <th>1</th>\n",
       "      <td>179</td>\n",
       "      <td>179</td>\n",
       "      <td>179</td>\n",
       "      <td>179</td>\n",
       "      <td>179</td>\n",
       "      <td>179</td>\n",
       "      <td>179</td>\n",
       "      <td>179</td>\n",
       "      <td>179</td>\n",
       "      <td>179</td>\n",
       "      <td>179</td>\n",
       "      <td>179</td>\n",
       "      <td>179</td>\n",
       "      <td>179</td>\n",
       "    </tr>\n",
       "    <tr>\n",
       "      <th>2</th>\n",
       "      <td>80</td>\n",
       "      <td>80</td>\n",
       "      <td>80</td>\n",
       "      <td>80</td>\n",
       "      <td>80</td>\n",
       "      <td>80</td>\n",
       "      <td>80</td>\n",
       "      <td>80</td>\n",
       "      <td>80</td>\n",
       "      <td>80</td>\n",
       "      <td>80</td>\n",
       "      <td>80</td>\n",
       "      <td>80</td>\n",
       "      <td>80</td>\n",
       "    </tr>\n",
       "    <tr>\n",
       "      <th>3</th>\n",
       "      <td>51</td>\n",
       "      <td>51</td>\n",
       "      <td>51</td>\n",
       "      <td>51</td>\n",
       "      <td>51</td>\n",
       "      <td>51</td>\n",
       "      <td>51</td>\n",
       "      <td>51</td>\n",
       "      <td>51</td>\n",
       "      <td>51</td>\n",
       "      <td>51</td>\n",
       "      <td>51</td>\n",
       "      <td>51</td>\n",
       "      <td>51</td>\n",
       "    </tr>\n",
       "    <tr>\n",
       "      <th>4</th>\n",
       "      <td>90</td>\n",
       "      <td>90</td>\n",
       "      <td>90</td>\n",
       "      <td>90</td>\n",
       "      <td>90</td>\n",
       "      <td>90</td>\n",
       "      <td>90</td>\n",
       "      <td>90</td>\n",
       "      <td>90</td>\n",
       "      <td>90</td>\n",
       "      <td>90</td>\n",
       "      <td>90</td>\n",
       "      <td>90</td>\n",
       "      <td>90</td>\n",
       "    </tr>\n",
       "  </tbody>\n",
       "</table>\n",
       "</div>"
      ],
      "text/plain": [
       "                  Channel  Region  Fresh  Milk  Grocery  Frozen  \\\n",
       "cluster_kpca_rbf                                                  \n",
       "0                      40      40     40    40       40      40   \n",
       "1                     179     179    179   179      179     179   \n",
       "2                      80      80     80    80       80      80   \n",
       "3                      51      51     51    51       51      51   \n",
       "4                      90      90     90    90       90      90   \n",
       "\n",
       "                  Detergents_Paper  Delicatessen  x_kpca_rbf  y_kpca_rbf  \\\n",
       "cluster_kpca_rbf                                                           \n",
       "0                               40            40          40          40   \n",
       "1                              179           179         179         179   \n",
       "2                               80            80          80          80   \n",
       "3                               51            51          51          51   \n",
       "4                               90            90          90          90   \n",
       "\n",
       "                  x_kpca_poly  y_kpca_poly  x_kpca_cos  y_kpca_cos  \n",
       "cluster_kpca_rbf                                                    \n",
       "0                          40           40          40          40  \n",
       "1                         179          179         179         179  \n",
       "2                          80           80          80          80  \n",
       "3                          51           51          51          51  \n",
       "4                          90           90          90          90  "
      ]
     },
     "execution_count": 7,
     "metadata": {},
     "output_type": "execute_result"
    }
   ],
   "source": [
    "# get number of customers per cluster\n",
    "df.groupby(['cluster_kpca_rbf']).count()"
   ]
  },
  {
   "cell_type": "code",
   "execution_count": 8,
   "metadata": {
    "collapsed": true
   },
   "outputs": [],
   "source": [
    "clusters = df.cluster_kpca_rbf"
   ]
  },
  {
   "cell_type": "code",
   "execution_count": 9,
   "metadata": {
    "collapsed": true
   },
   "outputs": [],
   "source": [
    "df_normalized = df.copy(deep=True)\n",
    "# df_normalized.loc[:, features] = data\n",
    "df_normalized[features] /= df[features].max()"
   ]
  },
  {
   "cell_type": "code",
   "execution_count": 10,
   "metadata": {
    "collapsed": false
   },
   "outputs": [
    {
     "data": {
      "text/plain": [
       "Channel               Retail\n",
       "Region                 Porto\n",
       "Fresh                      1\n",
       "Milk                       1\n",
       "Grocery                    1\n",
       "Frozen                     1\n",
       "Detergents_Paper           1\n",
       "Delicatessen               1\n",
       "x_kpca_rbf           0.86213\n",
       "y_kpca_rbf          0.822088\n",
       "x_kpca_poly         0.815626\n",
       "y_kpca_poly         0.745111\n",
       "x_kpca_cos           1.16591\n",
       "y_kpca_cos           1.14398\n",
       "cluster_kpca_rbf           4\n",
       "dtype: object"
      ]
     },
     "execution_count": 10,
     "metadata": {},
     "output_type": "execute_result"
    }
   ],
   "source": [
    "df_normalized.max()"
   ]
  },
  {
   "cell_type": "code",
   "execution_count": 13,
   "metadata": {
    "collapsed": false
   },
   "outputs": [
    {
     "data": {
      "text/plain": [
       "179"
      ]
     },
     "execution_count": 13,
     "metadata": {},
     "output_type": "execute_result"
    }
   ],
   "source": [
    "# get the biggest cluster and its number of contents\n",
    "biggest_cluster = df.groupby(['cluster_kpca_rbf']).count().max().max()\n",
    "biggest_cluster"
   ]
  },
  {
   "cell_type": "code",
   "execution_count": 16,
   "metadata": {
    "collapsed": false
   },
   "outputs": [
    {
     "name": "stdout",
     "output_type": "stream",
     "text": [
      "82\n",
      "87\n",
      "177\n",
      "51\n",
      "43\n"
     ]
    },
    {
     "data": {
      "application/vnd.plotly.v1+json": {
       "config": {
        "plotlyServerURL": "https://plot.ly"
       },
       "data": [
        {
         "line": {
          "width": 3
         },
         "mode": "lines",
         "name": "Cluster 0",
         "opacity": 0.6,
         "r": [
          -0.5463948572249802,
          0.26658303333052824,
          0.3563897351973072,
          -0.3638085530000251,
          0.4227152406929355,
          -0.029033726685442247,
          -0.5463948572249802
         ],
         "text": [
          "Mean value: 5097.719512195122",
          "Mean value: 7761.512195121952",
          "Mean value: 11334.256097560976",
          "Mean value: 1307.7682926829268",
          "Mean value: 4894.6463414634145",
          "Mean value: 1443.0853658536585",
          "Mean value: 5097.719512195122"
         ],
         "theta": [
          "Fresh",
          "Milk",
          "Grocery",
          "Frozen",
          "Detergents_Paper",
          "Delicatessen",
          "Fresh"
         ],
         "type": "scatterpolar"
        },
        {
         "line": {
          "width": 3
         },
         "mode": "lines",
         "name": "Cluster 1",
         "opacity": 0.6,
         "r": [
          0.4806970997046095,
          -0.4249640860011354,
          -0.46370046032218676,
          0.3454683573827915,
          -0.4694980040272012,
          -0.09494310040762477,
          0.4806970997046095
         ],
         "text": [
          "Mean value: 18072.919540229886",
          "Mean value: 2663.4367816091954",
          "Mean value: 3549.6666666666665",
          "Mean value: 4747.16091954023",
          "Mean value: 645.5402298850574",
          "Mean value: 1257.4252873563219",
          "Mean value: 18072.919540229886"
         ],
         "theta": [
          "Fresh",
          "Milk",
          "Grocery",
          "Frozen",
          "Detergents_Paper",
          "Delicatessen",
          "Fresh"
         ],
         "type": "scatterpolar"
        },
        {
         "line": {
          "width": 3
         },
         "mode": "lines",
         "name": "Cluster 2",
         "opacity": 1,
         "r": [
          -0.42051935282211556,
          -0.4348812374776019,
          -0.48886253983371375,
          -0.2722811192913035,
          -0.4365940878007665,
          -0.2333797104578346,
          -0.42051935282211556
         ],
         "text": [
          "Mean value: 6687.8983050847455",
          "Mean value: 2590.3276836158193",
          "Mean value: 3310.8192090395482",
          "Mean value: 1751.5988700564972",
          "Mean value: 802.2429378531074",
          "Mean value: 867.4632768361582",
          "Mean value: 6687.8983050847455"
         ],
         "theta": [
          "Fresh",
          "Milk",
          "Grocery",
          "Frozen",
          "Detergents_Paper",
          "Delicatessen",
          "Fresh"
         ],
         "type": "scatterpolar"
        },
        {
         "line": {
          "width": 3
         },
         "mode": "lines",
         "name": "Cluster 3",
         "opacity": 0.6,
         "r": [
          1.9484386691834303,
          0.695971905736343,
          0.5058018589670507,
          1.131584104644454,
          0.23939750493795853,
          0.9023313223045244,
          1.9484386691834303
         ],
         "text": [
          "Mean value: 36614.82352941176",
          "Mean value: 10926.960784313726",
          "Mean value: 12752.529411764706",
          "Mean value: 8559.156862745098",
          "Mean value: 4021.607843137255",
          "Mean value: 4066.6470588235293",
          "Mean value: 36614.82352941176"
         ],
         "theta": [
          "Fresh",
          "Milk",
          "Grocery",
          "Frozen",
          "Detergents_Paper",
          "Delicatessen",
          "Fresh"
         ],
         "type": "scatterpolar"
        },
        {
         "line": {
          "width": 3
         },
         "mode": "lines",
         "name": "Cluster 4",
         "opacity": 0.6,
         "r": [
          -0.5105747921091429,
          1.316080897441337,
          1.6709478256999728,
          -0.22652272020016714,
          1.6570129628475718,
          0.13790992179478082,
          -0.5105747921091429
         ],
         "text": [
          "Mean value: 5550.232558139535",
          "Mean value: 15498.39534883721",
          "Mean value: 23812.511627906977",
          "Mean value: 1973.4883720930231",
          "Mean value: 10772.906976744185",
          "Mean value: 1913.3488372093022",
          "Mean value: 5550.232558139535"
         ],
         "theta": [
          "Fresh",
          "Milk",
          "Grocery",
          "Frozen",
          "Detergents_Paper",
          "Delicatessen",
          "Fresh"
         ],
         "type": "scatterpolar"
        }
       ],
       "layout": {
        "autosize": false,
        "height": 450,
        "polar": {
         "angularaxis": {
          "type": "category"
         },
         "radialaxis": {
          "autorange": true,
          "range": [
           -0.5463948572249802,
           1.9484386691834303
          ],
          "type": "linear"
         }
        },
        "showlegend": true,
        "template": {
         "data": {
          "bar": [
           {
            "error_x": {
             "color": "#f2f5fa"
            },
            "error_y": {
             "color": "#f2f5fa"
            },
            "marker": {
             "line": {
              "color": "rgb(17,17,17)",
              "width": 0.5
             }
            },
            "type": "bar"
           }
          ],
          "barpolar": [
           {
            "marker": {
             "line": {
              "color": "rgb(17,17,17)",
              "width": 0.5
             }
            },
            "type": "barpolar"
           }
          ],
          "carpet": [
           {
            "aaxis": {
             "endlinecolor": "#A2B1C6",
             "gridcolor": "#506784",
             "linecolor": "#506784",
             "minorgridcolor": "#506784",
             "startlinecolor": "#A2B1C6"
            },
            "baxis": {
             "endlinecolor": "#A2B1C6",
             "gridcolor": "#506784",
             "linecolor": "#506784",
             "minorgridcolor": "#506784",
             "startlinecolor": "#A2B1C6"
            },
            "type": "carpet"
           }
          ],
          "choropleth": [
           {
            "colorbar": {
             "outlinewidth": 0,
             "ticks": ""
            },
            "type": "choropleth"
           }
          ],
          "contour": [
           {
            "colorbar": {
             "outlinewidth": 0,
             "ticks": ""
            },
            "colorscale": [
             [
              0,
              "#0d0887"
             ],
             [
              0.1111111111111111,
              "#46039f"
             ],
             [
              0.2222222222222222,
              "#7201a8"
             ],
             [
              0.3333333333333333,
              "#9c179e"
             ],
             [
              0.4444444444444444,
              "#bd3786"
             ],
             [
              0.5555555555555556,
              "#d8576b"
             ],
             [
              0.6666666666666666,
              "#ed7953"
             ],
             [
              0.7777777777777778,
              "#fb9f3a"
             ],
             [
              0.8888888888888888,
              "#fdca26"
             ],
             [
              1,
              "#f0f921"
             ]
            ],
            "type": "contour"
           }
          ],
          "contourcarpet": [
           {
            "colorbar": {
             "outlinewidth": 0,
             "ticks": ""
            },
            "type": "contourcarpet"
           }
          ],
          "heatmap": [
           {
            "colorbar": {
             "outlinewidth": 0,
             "ticks": ""
            },
            "colorscale": [
             [
              0,
              "#0d0887"
             ],
             [
              0.1111111111111111,
              "#46039f"
             ],
             [
              0.2222222222222222,
              "#7201a8"
             ],
             [
              0.3333333333333333,
              "#9c179e"
             ],
             [
              0.4444444444444444,
              "#bd3786"
             ],
             [
              0.5555555555555556,
              "#d8576b"
             ],
             [
              0.6666666666666666,
              "#ed7953"
             ],
             [
              0.7777777777777778,
              "#fb9f3a"
             ],
             [
              0.8888888888888888,
              "#fdca26"
             ],
             [
              1,
              "#f0f921"
             ]
            ],
            "type": "heatmap"
           }
          ],
          "heatmapgl": [
           {
            "colorbar": {
             "outlinewidth": 0,
             "ticks": ""
            },
            "colorscale": [
             [
              0,
              "#0d0887"
             ],
             [
              0.1111111111111111,
              "#46039f"
             ],
             [
              0.2222222222222222,
              "#7201a8"
             ],
             [
              0.3333333333333333,
              "#9c179e"
             ],
             [
              0.4444444444444444,
              "#bd3786"
             ],
             [
              0.5555555555555556,
              "#d8576b"
             ],
             [
              0.6666666666666666,
              "#ed7953"
             ],
             [
              0.7777777777777778,
              "#fb9f3a"
             ],
             [
              0.8888888888888888,
              "#fdca26"
             ],
             [
              1,
              "#f0f921"
             ]
            ],
            "type": "heatmapgl"
           }
          ],
          "histogram": [
           {
            "marker": {
             "colorbar": {
              "outlinewidth": 0,
              "ticks": ""
             }
            },
            "type": "histogram"
           }
          ],
          "histogram2d": [
           {
            "colorbar": {
             "outlinewidth": 0,
             "ticks": ""
            },
            "colorscale": [
             [
              0,
              "#0d0887"
             ],
             [
              0.1111111111111111,
              "#46039f"
             ],
             [
              0.2222222222222222,
              "#7201a8"
             ],
             [
              0.3333333333333333,
              "#9c179e"
             ],
             [
              0.4444444444444444,
              "#bd3786"
             ],
             [
              0.5555555555555556,
              "#d8576b"
             ],
             [
              0.6666666666666666,
              "#ed7953"
             ],
             [
              0.7777777777777778,
              "#fb9f3a"
             ],
             [
              0.8888888888888888,
              "#fdca26"
             ],
             [
              1,
              "#f0f921"
             ]
            ],
            "type": "histogram2d"
           }
          ],
          "histogram2dcontour": [
           {
            "colorbar": {
             "outlinewidth": 0,
             "ticks": ""
            },
            "colorscale": [
             [
              0,
              "#0d0887"
             ],
             [
              0.1111111111111111,
              "#46039f"
             ],
             [
              0.2222222222222222,
              "#7201a8"
             ],
             [
              0.3333333333333333,
              "#9c179e"
             ],
             [
              0.4444444444444444,
              "#bd3786"
             ],
             [
              0.5555555555555556,
              "#d8576b"
             ],
             [
              0.6666666666666666,
              "#ed7953"
             ],
             [
              0.7777777777777778,
              "#fb9f3a"
             ],
             [
              0.8888888888888888,
              "#fdca26"
             ],
             [
              1,
              "#f0f921"
             ]
            ],
            "type": "histogram2dcontour"
           }
          ],
          "mesh3d": [
           {
            "colorbar": {
             "outlinewidth": 0,
             "ticks": ""
            },
            "type": "mesh3d"
           }
          ],
          "parcoords": [
           {
            "line": {
             "colorbar": {
              "outlinewidth": 0,
              "ticks": ""
             }
            },
            "type": "parcoords"
           }
          ],
          "pie": [
           {
            "automargin": true,
            "type": "pie"
           }
          ],
          "scatter": [
           {
            "marker": {
             "line": {
              "color": "#283442"
             }
            },
            "type": "scatter"
           }
          ],
          "scatter3d": [
           {
            "line": {
             "colorbar": {
              "outlinewidth": 0,
              "ticks": ""
             }
            },
            "marker": {
             "colorbar": {
              "outlinewidth": 0,
              "ticks": ""
             }
            },
            "type": "scatter3d"
           }
          ],
          "scattercarpet": [
           {
            "marker": {
             "colorbar": {
              "outlinewidth": 0,
              "ticks": ""
             }
            },
            "type": "scattercarpet"
           }
          ],
          "scattergeo": [
           {
            "marker": {
             "colorbar": {
              "outlinewidth": 0,
              "ticks": ""
             }
            },
            "type": "scattergeo"
           }
          ],
          "scattergl": [
           {
            "marker": {
             "line": {
              "color": "#283442"
             }
            },
            "type": "scattergl"
           }
          ],
          "scattermapbox": [
           {
            "marker": {
             "colorbar": {
              "outlinewidth": 0,
              "ticks": ""
             }
            },
            "type": "scattermapbox"
           }
          ],
          "scatterpolar": [
           {
            "marker": {
             "colorbar": {
              "outlinewidth": 0,
              "ticks": ""
             }
            },
            "type": "scatterpolar"
           }
          ],
          "scatterpolargl": [
           {
            "marker": {
             "colorbar": {
              "outlinewidth": 0,
              "ticks": ""
             }
            },
            "type": "scatterpolargl"
           }
          ],
          "scatterternary": [
           {
            "marker": {
             "colorbar": {
              "outlinewidth": 0,
              "ticks": ""
             }
            },
            "type": "scatterternary"
           }
          ],
          "surface": [
           {
            "colorbar": {
             "outlinewidth": 0,
             "ticks": ""
            },
            "colorscale": [
             [
              0,
              "#0d0887"
             ],
             [
              0.1111111111111111,
              "#46039f"
             ],
             [
              0.2222222222222222,
              "#7201a8"
             ],
             [
              0.3333333333333333,
              "#9c179e"
             ],
             [
              0.4444444444444444,
              "#bd3786"
             ],
             [
              0.5555555555555556,
              "#d8576b"
             ],
             [
              0.6666666666666666,
              "#ed7953"
             ],
             [
              0.7777777777777778,
              "#fb9f3a"
             ],
             [
              0.8888888888888888,
              "#fdca26"
             ],
             [
              1,
              "#f0f921"
             ]
            ],
            "type": "surface"
           }
          ],
          "table": [
           {
            "cells": {
             "fill": {
              "color": "#506784"
             },
             "line": {
              "color": "rgb(17,17,17)"
             }
            },
            "header": {
             "fill": {
              "color": "#2a3f5f"
             },
             "line": {
              "color": "rgb(17,17,17)"
             }
            },
            "type": "table"
           }
          ]
         },
         "layout": {
          "annotationdefaults": {
           "arrowcolor": "#f2f5fa",
           "arrowhead": 0,
           "arrowwidth": 1
          },
          "coloraxis": {
           "colorbar": {
            "outlinewidth": 0,
            "ticks": ""
           }
          },
          "colorscale": {
           "diverging": [
            [
             0,
             "#8e0152"
            ],
            [
             0.1,
             "#c51b7d"
            ],
            [
             0.2,
             "#de77ae"
            ],
            [
             0.3,
             "#f1b6da"
            ],
            [
             0.4,
             "#fde0ef"
            ],
            [
             0.5,
             "#f7f7f7"
            ],
            [
             0.6,
             "#e6f5d0"
            ],
            [
             0.7,
             "#b8e186"
            ],
            [
             0.8,
             "#7fbc41"
            ],
            [
             0.9,
             "#4d9221"
            ],
            [
             1,
             "#276419"
            ]
           ],
           "sequential": [
            [
             0,
             "#0d0887"
            ],
            [
             0.1111111111111111,
             "#46039f"
            ],
            [
             0.2222222222222222,
             "#7201a8"
            ],
            [
             0.3333333333333333,
             "#9c179e"
            ],
            [
             0.4444444444444444,
             "#bd3786"
            ],
            [
             0.5555555555555556,
             "#d8576b"
            ],
            [
             0.6666666666666666,
             "#ed7953"
            ],
            [
             0.7777777777777778,
             "#fb9f3a"
            ],
            [
             0.8888888888888888,
             "#fdca26"
            ],
            [
             1,
             "#f0f921"
            ]
           ],
           "sequentialminus": [
            [
             0,
             "#0d0887"
            ],
            [
             0.1111111111111111,
             "#46039f"
            ],
            [
             0.2222222222222222,
             "#7201a8"
            ],
            [
             0.3333333333333333,
             "#9c179e"
            ],
            [
             0.4444444444444444,
             "#bd3786"
            ],
            [
             0.5555555555555556,
             "#d8576b"
            ],
            [
             0.6666666666666666,
             "#ed7953"
            ],
            [
             0.7777777777777778,
             "#fb9f3a"
            ],
            [
             0.8888888888888888,
             "#fdca26"
            ],
            [
             1,
             "#f0f921"
            ]
           ]
          },
          "colorway": [
           "#636efa",
           "#EF553B",
           "#00cc96",
           "#ab63fa",
           "#FFA15A",
           "#19d3f3",
           "#FF6692",
           "#B6E880",
           "#FF97FF",
           "#FECB52"
          ],
          "font": {
           "color": "#f2f5fa"
          },
          "geo": {
           "bgcolor": "rgb(17,17,17)",
           "lakecolor": "rgb(17,17,17)",
           "landcolor": "rgb(17,17,17)",
           "showlakes": true,
           "showland": true,
           "subunitcolor": "#506784"
          },
          "hoverlabel": {
           "align": "left"
          },
          "hovermode": "closest",
          "mapbox": {
           "style": "dark"
          },
          "paper_bgcolor": "rgb(17,17,17)",
          "plot_bgcolor": "rgb(17,17,17)",
          "polar": {
           "angularaxis": {
            "gridcolor": "#506784",
            "linecolor": "#506784",
            "ticks": ""
           },
           "bgcolor": "rgb(17,17,17)",
           "radialaxis": {
            "gridcolor": "#506784",
            "linecolor": "#506784",
            "ticks": ""
           }
          },
          "scene": {
           "xaxis": {
            "backgroundcolor": "rgb(17,17,17)",
            "gridcolor": "#506784",
            "gridwidth": 2,
            "linecolor": "#506784",
            "showbackground": true,
            "ticks": "",
            "zerolinecolor": "#C8D4E3"
           },
           "yaxis": {
            "backgroundcolor": "rgb(17,17,17)",
            "gridcolor": "#506784",
            "gridwidth": 2,
            "linecolor": "#506784",
            "showbackground": true,
            "ticks": "",
            "zerolinecolor": "#C8D4E3"
           },
           "zaxis": {
            "backgroundcolor": "rgb(17,17,17)",
            "gridcolor": "#506784",
            "gridwidth": 2,
            "linecolor": "#506784",
            "showbackground": true,
            "ticks": "",
            "zerolinecolor": "#C8D4E3"
           }
          },
          "shapedefaults": {
           "line": {
            "color": "#f2f5fa"
           }
          },
          "sliderdefaults": {
           "bgcolor": "#C8D4E3",
           "bordercolor": "rgb(17,17,17)",
           "borderwidth": 1,
           "tickwidth": 0
          },
          "ternary": {
           "aaxis": {
            "gridcolor": "#506784",
            "linecolor": "#506784",
            "ticks": ""
           },
           "baxis": {
            "gridcolor": "#506784",
            "linecolor": "#506784",
            "ticks": ""
           },
           "bgcolor": "rgb(17,17,17)",
           "caxis": {
            "gridcolor": "#506784",
            "linecolor": "#506784",
            "ticks": ""
           }
          },
          "title": {
           "x": 0.05
          },
          "updatemenudefaults": {
           "bgcolor": "#506784",
           "borderwidth": 0
          },
          "xaxis": {
           "automargin": true,
           "gridcolor": "#283442",
           "linecolor": "#506784",
           "ticks": "",
           "title": {
            "standoff": 15
           },
           "zerolinecolor": "#283442",
           "zerolinewidth": 2
          },
          "yaxis": {
           "automargin": true,
           "gridcolor": "#283442",
           "linecolor": "#506784",
           "ticks": "",
           "title": {
            "standoff": 15
           },
           "zerolinecolor": "#283442",
           "zerolinewidth": 2
          }
         }
        },
        "title": {
         "text": "Cluster Analysis"
        },
        "width": 800
       }
      },
      "image/png": "[encoded data removed]",
      "text/html": [
       "<div>                            <div id=\"75dd379c-de3b-4420-afc0-f1fcb0da0df6\" class=\"plotly-graph-div\" style=\"height:525px; width:800px;\"></div>            <script type=\"text/javascript\">                require([\"plotly\"], function(Plotly) {                    window.PLOTLYENV=window.PLOTLYENV || {};                                    if (document.getElementById(\"75dd379c-de3b-4420-afc0-f1fcb0da0df6\")) {                    Plotly.newPlot(                        \"75dd379c-de3b-4420-afc0-f1fcb0da0df6\",                        [{\"line\": {\"width\": 3}, \"mode\": \"lines\", \"name\": \"Cluster 0\", \"opacity\": 0.6, \"r\": [-0.5463948572249802, 0.26658303333052824, 0.3563897351973072, -0.3638085530000251, 0.4227152406929355, -0.029033726685442247, -0.5463948572249802], \"text\": [\"Mean value: 5097.719512195122\", \"Mean value: 7761.512195121952\", \"Mean value: 11334.256097560976\", \"Mean value: 1307.7682926829268\", \"Mean value: 4894.6463414634145\", \"Mean value: 1443.0853658536585\", \"Mean value: 5097.719512195122\"], \"theta\": [\"Fresh\", \"Milk\", \"Grocery\", \"Frozen\", \"Detergents_Paper\", \"Delicatessen\", \"Fresh\"], \"type\": \"scatterpolar\"}, {\"line\": {\"width\": 3}, \"mode\": \"lines\", \"name\": \"Cluster 1\", \"opacity\": 0.6, \"r\": [0.4806970997046095, -0.4249640860011354, -0.46370046032218676, 0.3454683573827915, -0.4694980040272012, -0.09494310040762477, 0.4806970997046095], \"text\": [\"Mean value: 18072.919540229886\", \"Mean value: 2663.4367816091954\", \"Mean value: 3549.6666666666665\", \"Mean value: 4747.16091954023\", \"Mean value: 645.5402298850574\", \"Mean value: 1257.4252873563219\", \"Mean value: 18072.919540229886\"], \"theta\": [\"Fresh\", \"Milk\", \"Grocery\", \"Frozen\", \"Detergents_Paper\", \"Delicatessen\", \"Fresh\"], \"type\": \"scatterpolar\"}, {\"line\": {\"width\": 3}, \"mode\": \"lines\", \"name\": \"Cluster 2\", \"opacity\": 1.0, \"r\": [-0.42051935282211556, -0.4348812374776019, -0.48886253983371375, -0.2722811192913035, -0.4365940878007665, -0.2333797104578346, -0.42051935282211556], \"text\": [\"Mean value: 6687.8983050847455\", \"Mean value: 2590.3276836158193\", \"Mean value: 3310.8192090395482\", \"Mean value: 1751.5988700564972\", \"Mean value: 802.2429378531074\", \"Mean value: 867.4632768361582\", \"Mean value: 6687.8983050847455\"], \"theta\": [\"Fresh\", \"Milk\", \"Grocery\", \"Frozen\", \"Detergents_Paper\", \"Delicatessen\", \"Fresh\"], \"type\": \"scatterpolar\"}, {\"line\": {\"width\": 3}, \"mode\": \"lines\", \"name\": \"Cluster 3\", \"opacity\": 0.6, \"r\": [1.9484386691834303, 0.695971905736343, 0.5058018589670507, 1.131584104644454, 0.23939750493795853, 0.9023313223045244, 1.9484386691834303], \"text\": [\"Mean value: 36614.82352941176\", \"Mean value: 10926.960784313726\", \"Mean value: 12752.529411764706\", \"Mean value: 8559.156862745098\", \"Mean value: 4021.607843137255\", \"Mean value: 4066.6470588235293\", \"Mean value: 36614.82352941176\"], \"theta\": [\"Fresh\", \"Milk\", \"Grocery\", \"Frozen\", \"Detergents_Paper\", \"Delicatessen\", \"Fresh\"], \"type\": \"scatterpolar\"}, {\"line\": {\"width\": 3}, \"mode\": \"lines\", \"name\": \"Cluster 4\", \"opacity\": 0.6, \"r\": [-0.5105747921091429, 1.316080897441337, 1.6709478256999728, -0.22652272020016714, 1.6570129628475718, 0.13790992179478082, -0.5105747921091429], \"text\": [\"Mean value: 5550.232558139535\", \"Mean value: 15498.39534883721\", \"Mean value: 23812.511627906977\", \"Mean value: 1973.4883720930231\", \"Mean value: 10772.906976744185\", \"Mean value: 1913.3488372093022\", \"Mean value: 5550.232558139535\"], \"theta\": [\"Fresh\", \"Milk\", \"Grocery\", \"Frozen\", \"Detergents_Paper\", \"Delicatessen\", \"Fresh\"], \"type\": \"scatterpolar\"}],                        {\"autosize\": false, \"showlegend\": true, \"template\": {\"data\": {\"bar\": [{\"error_x\": {\"color\": \"#f2f5fa\"}, \"error_y\": {\"color\": \"#f2f5fa\"}, \"marker\": {\"line\": {\"color\": \"rgb(17,17,17)\", \"width\": 0.5}}, \"type\": \"bar\"}], \"barpolar\": [{\"marker\": {\"line\": {\"color\": \"rgb(17,17,17)\", \"width\": 0.5}}, \"type\": \"barpolar\"}], \"carpet\": [{\"aaxis\": {\"endlinecolor\": \"#A2B1C6\", \"gridcolor\": \"#506784\", \"linecolor\": \"#506784\", \"minorgridcolor\": \"#506784\", \"startlinecolor\": \"#A2B1C6\"}, \"baxis\": {\"endlinecolor\": \"#A2B1C6\", \"gridcolor\": \"#506784\", \"linecolor\": \"#506784\", \"minorgridcolor\": \"#506784\", \"startlinecolor\": \"#A2B1C6\"}, \"type\": \"carpet\"}], \"choropleth\": [{\"colorbar\": {\"outlinewidth\": 0, \"ticks\": \"\"}, \"type\": \"choropleth\"}], \"contour\": [{\"colorbar\": {\"outlinewidth\": 0, \"ticks\": \"\"}, \"colorscale\": [[0.0, \"#0d0887\"], [0.1111111111111111, \"#46039f\"], [0.2222222222222222, \"#7201a8\"], [0.3333333333333333, \"#9c179e\"], [0.4444444444444444, \"#bd3786\"], [0.5555555555555556, \"#d8576b\"], [0.6666666666666666, \"#ed7953\"], [0.7777777777777778, \"#fb9f3a\"], [0.8888888888888888, \"#fdca26\"], [1.0, \"#f0f921\"]], \"type\": \"contour\"}], \"contourcarpet\": [{\"colorbar\": {\"outlinewidth\": 0, \"ticks\": \"\"}, \"type\": \"contourcarpet\"}], \"heatmap\": [{\"colorbar\": {\"outlinewidth\": 0, \"ticks\": \"\"}, \"colorscale\": [[0.0, \"#0d0887\"], [0.1111111111111111, \"#46039f\"], [0.2222222222222222, \"#7201a8\"], [0.3333333333333333, \"#9c179e\"], [0.4444444444444444, \"#bd3786\"], [0.5555555555555556, \"#d8576b\"], [0.6666666666666666, \"#ed7953\"], [0.7777777777777778, \"#fb9f3a\"], [0.8888888888888888, \"#fdca26\"], [1.0, \"#f0f921\"]], \"type\": \"heatmap\"}], \"heatmapgl\": [{\"colorbar\": {\"outlinewidth\": 0, \"ticks\": \"\"}, \"colorscale\": [[0.0, \"#0d0887\"], [0.1111111111111111, \"#46039f\"], [0.2222222222222222, \"#7201a8\"], [0.3333333333333333, \"#9c179e\"], [0.4444444444444444, \"#bd3786\"], [0.5555555555555556, \"#d8576b\"], [0.6666666666666666, \"#ed7953\"], [0.7777777777777778, \"#fb9f3a\"], [0.8888888888888888, \"#fdca26\"], [1.0, \"#f0f921\"]], \"type\": \"heatmapgl\"}], \"histogram\": [{\"marker\": {\"colorbar\": {\"outlinewidth\": 0, \"ticks\": \"\"}}, \"type\": \"histogram\"}], \"histogram2d\": [{\"colorbar\": {\"outlinewidth\": 0, \"ticks\": \"\"}, \"colorscale\": [[0.0, \"#0d0887\"], [0.1111111111111111, \"#46039f\"], [0.2222222222222222, \"#7201a8\"], [0.3333333333333333, \"#9c179e\"], [0.4444444444444444, \"#bd3786\"], [0.5555555555555556, \"#d8576b\"], [0.6666666666666666, \"#ed7953\"], [0.7777777777777778, \"#fb9f3a\"], [0.8888888888888888, \"#fdca26\"], [1.0, \"#f0f921\"]], \"type\": \"histogram2d\"}], \"histogram2dcontour\": [{\"colorbar\": {\"outlinewidth\": 0, \"ticks\": \"\"}, \"colorscale\": [[0.0, \"#0d0887\"], [0.1111111111111111, \"#46039f\"], [0.2222222222222222, \"#7201a8\"], [0.3333333333333333, \"#9c179e\"], [0.4444444444444444, \"#bd3786\"], [0.5555555555555556, \"#d8576b\"], [0.6666666666666666, \"#ed7953\"], [0.7777777777777778, \"#fb9f3a\"], [0.8888888888888888, \"#fdca26\"], [1.0, \"#f0f921\"]], \"type\": \"histogram2dcontour\"}], \"mesh3d\": [{\"colorbar\": {\"outlinewidth\": 0, \"ticks\": \"\"}, \"type\": \"mesh3d\"}], \"parcoords\": [{\"line\": {\"colorbar\": {\"outlinewidth\": 0, \"ticks\": \"\"}}, \"type\": \"parcoords\"}], \"pie\": [{\"automargin\": true, \"type\": \"pie\"}], \"scatter\": [{\"marker\": {\"line\": {\"color\": \"#283442\"}}, \"type\": \"scatter\"}], \"scatter3d\": [{\"line\": {\"colorbar\": {\"outlinewidth\": 0, \"ticks\": \"\"}}, \"marker\": {\"colorbar\": {\"outlinewidth\": 0, \"ticks\": \"\"}}, \"type\": \"scatter3d\"}], \"scattercarpet\": [{\"marker\": {\"colorbar\": {\"outlinewidth\": 0, \"ticks\": \"\"}}, \"type\": \"scattercarpet\"}], \"scattergeo\": [{\"marker\": {\"colorbar\": {\"outlinewidth\": 0, \"ticks\": \"\"}}, \"type\": \"scattergeo\"}], \"scattergl\": [{\"marker\": {\"line\": {\"color\": \"#283442\"}}, \"type\": \"scattergl\"}], \"scattermapbox\": [{\"marker\": {\"colorbar\": {\"outlinewidth\": 0, \"ticks\": \"\"}}, \"type\": \"scattermapbox\"}], \"scatterpolar\": [{\"marker\": {\"colorbar\": {\"outlinewidth\": 0, \"ticks\": \"\"}}, \"type\": \"scatterpolar\"}], \"scatterpolargl\": [{\"marker\": {\"colorbar\": {\"outlinewidth\": 0, \"ticks\": \"\"}}, \"type\": \"scatterpolargl\"}], \"scatterternary\": [{\"marker\": {\"colorbar\": {\"outlinewidth\": 0, \"ticks\": \"\"}}, \"type\": \"scatterternary\"}], \"surface\": [{\"colorbar\": {\"outlinewidth\": 0, \"ticks\": \"\"}, \"colorscale\": [[0.0, \"#0d0887\"], [0.1111111111111111, \"#46039f\"], [0.2222222222222222, \"#7201a8\"], [0.3333333333333333, \"#9c179e\"], [0.4444444444444444, \"#bd3786\"], [0.5555555555555556, \"#d8576b\"], [0.6666666666666666, \"#ed7953\"], [0.7777777777777778, \"#fb9f3a\"], [0.8888888888888888, \"#fdca26\"], [1.0, \"#f0f921\"]], \"type\": \"surface\"}], \"table\": [{\"cells\": {\"fill\": {\"color\": \"#506784\"}, \"line\": {\"color\": \"rgb(17,17,17)\"}}, \"header\": {\"fill\": {\"color\": \"#2a3f5f\"}, \"line\": {\"color\": \"rgb(17,17,17)\"}}, \"type\": \"table\"}]}, \"layout\": {\"annotationdefaults\": {\"arrowcolor\": \"#f2f5fa\", \"arrowhead\": 0, \"arrowwidth\": 1}, \"coloraxis\": {\"colorbar\": {\"outlinewidth\": 0, \"ticks\": \"\"}}, \"colorscale\": {\"diverging\": [[0, \"#8e0152\"], [0.1, \"#c51b7d\"], [0.2, \"#de77ae\"], [0.3, \"#f1b6da\"], [0.4, \"#fde0ef\"], [0.5, \"#f7f7f7\"], [0.6, \"#e6f5d0\"], [0.7, \"#b8e186\"], [0.8, \"#7fbc41\"], [0.9, \"#4d9221\"], [1, \"#276419\"]], \"sequential\": [[0.0, \"#0d0887\"], [0.1111111111111111, \"#46039f\"], [0.2222222222222222, \"#7201a8\"], [0.3333333333333333, \"#9c179e\"], [0.4444444444444444, \"#bd3786\"], [0.5555555555555556, \"#d8576b\"], [0.6666666666666666, \"#ed7953\"], [0.7777777777777778, \"#fb9f3a\"], [0.8888888888888888, \"#fdca26\"], [1.0, \"#f0f921\"]], \"sequentialminus\": [[0.0, \"#0d0887\"], [0.1111111111111111, \"#46039f\"], [0.2222222222222222, \"#7201a8\"], [0.3333333333333333, \"#9c179e\"], [0.4444444444444444, \"#bd3786\"], [0.5555555555555556, \"#d8576b\"], [0.6666666666666666, \"#ed7953\"], [0.7777777777777778, \"#fb9f3a\"], [0.8888888888888888, \"#fdca26\"], [1.0, \"#f0f921\"]]}, \"colorway\": [\"#636efa\", \"#EF553B\", \"#00cc96\", \"#ab63fa\", \"#FFA15A\", \"#19d3f3\", \"#FF6692\", \"#B6E880\", \"#FF97FF\", \"#FECB52\"], \"font\": {\"color\": \"#f2f5fa\"}, \"geo\": {\"bgcolor\": \"rgb(17,17,17)\", \"lakecolor\": \"rgb(17,17,17)\", \"landcolor\": \"rgb(17,17,17)\", \"showlakes\": true, \"showland\": true, \"subunitcolor\": \"#506784\"}, \"hoverlabel\": {\"align\": \"left\"}, \"hovermode\": \"closest\", \"mapbox\": {\"style\": \"dark\"}, \"paper_bgcolor\": \"rgb(17,17,17)\", \"plot_bgcolor\": \"rgb(17,17,17)\", \"polar\": {\"angularaxis\": {\"gridcolor\": \"#506784\", \"linecolor\": \"#506784\", \"ticks\": \"\"}, \"bgcolor\": \"rgb(17,17,17)\", \"radialaxis\": {\"gridcolor\": \"#506784\", \"linecolor\": \"#506784\", \"ticks\": \"\"}}, \"scene\": {\"xaxis\": {\"backgroundcolor\": \"rgb(17,17,17)\", \"gridcolor\": \"#506784\", \"gridwidth\": 2, \"linecolor\": \"#506784\", \"showbackground\": true, \"ticks\": \"\", \"zerolinecolor\": \"#C8D4E3\"}, \"yaxis\": {\"backgroundcolor\": \"rgb(17,17,17)\", \"gridcolor\": \"#506784\", \"gridwidth\": 2, \"linecolor\": \"#506784\", \"showbackground\": true, \"ticks\": \"\", \"zerolinecolor\": \"#C8D4E3\"}, \"zaxis\": {\"backgroundcolor\": \"rgb(17,17,17)\", \"gridcolor\": \"#506784\", \"gridwidth\": 2, \"linecolor\": \"#506784\", \"showbackground\": true, \"ticks\": \"\", \"zerolinecolor\": \"#C8D4E3\"}}, \"shapedefaults\": {\"line\": {\"color\": \"#f2f5fa\"}}, \"sliderdefaults\": {\"bgcolor\": \"#C8D4E3\", \"bordercolor\": \"rgb(17,17,17)\", \"borderwidth\": 1, \"tickwidth\": 0}, \"ternary\": {\"aaxis\": {\"gridcolor\": \"#506784\", \"linecolor\": \"#506784\", \"ticks\": \"\"}, \"baxis\": {\"gridcolor\": \"#506784\", \"linecolor\": \"#506784\", \"ticks\": \"\"}, \"bgcolor\": \"rgb(17,17,17)\", \"caxis\": {\"gridcolor\": \"#506784\", \"linecolor\": \"#506784\", \"ticks\": \"\"}}, \"title\": {\"x\": 0.05}, \"updatemenudefaults\": {\"bgcolor\": \"#506784\", \"borderwidth\": 0}, \"xaxis\": {\"automargin\": true, \"gridcolor\": \"#283442\", \"linecolor\": \"#506784\", \"ticks\": \"\", \"title\": {\"standoff\": 15}, \"zerolinecolor\": \"#283442\", \"zerolinewidth\": 2}, \"yaxis\": {\"automargin\": true, \"gridcolor\": \"#283442\", \"linecolor\": \"#506784\", \"ticks\": \"\", \"title\": {\"standoff\": 15}, \"zerolinecolor\": \"#283442\", \"zerolinewidth\": 2}}}, \"title\": {\"text\": \"Cluster Analysis\"}, \"width\": 800},                        {\"responsive\": true}                    ).then(function(){\n",
       "                            \n",
       "var gd = document.getElementById('75dd379c-de3b-4420-afc0-f1fcb0da0df6');\n",
       "var x = new MutationObserver(function (mutations, observer) {{\n",
       "        var display = window.getComputedStyle(gd).display;\n",
       "        if (!display || display === 'none') {{\n",
       "            console.log([gd, 'removed!']);\n",
       "            Plotly.purge(gd);\n",
       "            observer.disconnect();\n",
       "        }}\n",
       "}});\n",
       "\n",
       "// Listen for the removal of the full notebook cells\n",
       "var notebookContainer = gd.closest('#notebook-container');\n",
       "if (notebookContainer) {{\n",
       "    x.observe(notebookContainer, {childList: true});\n",
       "}}\n",
       "\n",
       "// Listen for the clearing of the current output cell\n",
       "var outputEl = gd.closest('.output');\n",
       "if (outputEl) {{\n",
       "    x.observe(outputEl, {childList: true});\n",
       "}}\n",
       "\n",
       "                        })                };                });            </script>        </div>"
      ]
     },
     "metadata": {},
     "output_type": "display_data"
    }
   ],
   "source": [
    "fig = go.Figure()\n",
    "\n",
    "for cluster in np.unique(clusters):\n",
    "    \n",
    "    radii = df_normalized.loc[df_normalized.cluster_kpca_rbf==cluster, features].mean().tolist()\n",
    "    thetas = features\n",
    "    \n",
    "    actual_values = df.loc[df.cluster_kpca_cos==cluster, features].mean().tolist()\n",
    "    cluster_size = len(df[df.cluster_kpca_cos==cluster])\n",
    "    print(cluster_size)\n",
    "    fig.add_trace(\n",
    "        go.Scatterpolar(\n",
    "            r=radii + radii[:1],\n",
    "            theta=thetas + thetas[:1],\n",
    "            mode='lines',\n",
    "            name='Cluster: '+str(cluster),\n",
    "            text = [format'Mean value: {x}' for x in actual_values + actual_values[:1]],\n",
    "            line=dict(width=3),\n",
    "            opacity=np.max([cluster_size/biggest_cluster, 0.6])\n",
    "        )\n",
    "    )\n",
    "\n",
    "fig.update_layout(\n",
    "    title='Cluster Analysis',\n",
    "    showlegend=True,\n",
    "    template='plotly_dark',\n",
    "    width=800,\n",
    "    autosize=False\n",
    ")\n",
    "\n",
    "fig.show()"
   ]
  },
  {
   "cell_type": "code",
   "execution_count": 15,
   "metadata": {
    "collapsed": true
   },
   "outputs": [],
   "source": [
    "fig.write_html('Demo.html')"
   ]
  },
  {
   "cell_type": "code",
   "execution_count": null,
   "metadata": {
    "collapsed": true
   },
   "outputs": [],
   "source": []
  },
  {
   "cell_type": "code",
   "execution_count": null,
   "metadata": {
    "collapsed": true
   },
   "outputs": [],
   "source": []
  },
  {
   "cell_type": "code",
   "execution_count": 23,
   "metadata": {
    "collapsed": false
   },
   "outputs": [
    {
     "data": {
      "text/plain": [
       "'4.12.0'"
      ]
     },
     "execution_count": 23,
     "metadata": {},
     "output_type": "execute_result"
    }
   ],
   "source": [
    "import plotly\n",
    "plotly.__version__"
   ]
  },
  {
   "cell_type": "code",
   "execution_count": null,
   "metadata": {
    "collapsed": true
   },
   "outputs": [],
   "source": []
  }
 ],
 "metadata": {
  "kernelspec": {
   "display_name": "Python 3",
   "language": "python",
   "name": "python3"
  },
  "language_info": {
   "codemirror_mode": {
    "name": "ipython",
    "version": 3
   },
   "file_extension": ".py",
   "mimetype": "text/x-python",
   "name": "python",
   "nbconvert_exporter": "python",
   "pygments_lexer": "ipython3",
   "version": "3.5.3"
  }
 },
 "nbformat": 4,
 "nbformat_minor": 4
}
