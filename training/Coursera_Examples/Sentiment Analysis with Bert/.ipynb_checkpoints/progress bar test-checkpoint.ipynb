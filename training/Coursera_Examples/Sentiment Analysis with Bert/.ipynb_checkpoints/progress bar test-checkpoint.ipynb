{
 "cells": [
  {
   "cell_type": "code",
   "execution_count": 1,
   "metadata": {
    "collapsed": false
   },
   "outputs": [
    {
     "data": {
      "text/plain": [
       "'7.5.1'"
      ]
     },
     "execution_count": 1,
     "metadata": {},
     "output_type": "execute_result"
    }
   ],
   "source": [
    "import ipywidgets\n",
    "ipywidgets.__version__"
   ]
  },
  {
   "cell_type": "raw",
   "metadata": {
    "collapsed": false
   },
   "source": [
    "import time\n",
    "from tqdm import tqdm_notebook\n",
    "example_iter = [1,2,3,4,5]\n",
    "for rec in tqdm_notebook(example_iter):\n",
    "    time.sleep(.1)"
   ]
  },
  {
   "cell_type": "code",
   "execution_count": null,
   "metadata": {
    "collapsed": false
   },
   "outputs": [
    {
     "name": "stdout",
     "output_type": "stream",
     "text": [
      "outer loop:   0%|          | 0/3 [00:00<?, ?it/s]\n",
      "inner loop:   0%|          | 0.00/5.00 [00:00<?, ?it/s]\u001b[A\n",
      "inner loop:  20%|██        | 1.00/5.00 [00:01<00:04, 1.00s/it]\u001b[A\n",
      "inner loop:  40%|████      | 2.00/5.00 [00:02<00:03, 1.00s/it]\u001b[A\n",
      "inner loop:  60%|██████    | 3.00/5.00 [00:03<00:02, 1.00s/it]\u001b[A\n",
      "inner loop:  80%|████████  | 4.00/5.00 [00:04<00:01, 1.00s/it]\u001b[A\n",
      "inner loop: 100%|██████████| 5.00/5.00 [00:05<00:00, 1.00s/it]\u001b[A\n",
      "outer loop:  33%|███▎      | 1/3 [00:06<00:12,  6.03s/it]     \u001b[A\n",
      "inner loop:   0%|          | 0.00/5.00 [00:00<?, ?it/s]\u001b[A\n",
      "inner loop:  20%|██        | 1.00/5.00 [00:01<00:04, 1.00s/it]\u001b[A\n",
      "inner loop:  40%|████      | 2.00/5.00 [00:02<00:03, 1.00s/it]\u001b[A\n",
      "inner loop:  60%|██████    | 3.00/5.00 [00:03<00:02, 1.00s/it]\u001b[A\n",
      "inner loop:  80%|████████  | 4.00/5.00 [00:04<00:01, 1.00s/it]\u001b[A\n",
      "inner loop: 100%|██████████| 5.00/5.00 [00:05<00:00, 1.00s/it]\u001b[A\n",
      "outer loop:  67%|██████▋   | 2/3 [00:12<00:06,  6.03s/it]     \u001b[A\n",
      "inner loop:   0%|          | 0.00/5.00 [00:00<?, ?it/s]\u001b[A"
     ]
    }
   ],
   "source": [
    "import time\n",
    "import sys\n",
    "from tqdm import trange\n",
    "\n",
    "\n",
    "def do_something():\n",
    "    time.sleep(1)\n",
    "\n",
    "def do_another_something():\n",
    "    time.sleep(1)\n",
    "\n",
    "\n",
    "for i in trange(3, file=sys.stdout, desc='outer loop'):\n",
    "    do_something()\n",
    "\n",
    "    for j in trange(5,file=sys.stdout, leave=False, unit_scale=True, desc='inner loop'):\n",
    "        do_another_something()"
   ]
  },
  {
   "cell_type": "code",
   "execution_count": null,
   "metadata": {
    "collapsed": true
   },
   "outputs": [],
   "source": []
  }
 ],
 "metadata": {
  "kernelspec": {
   "display_name": "tensorflow_top2vec",
   "language": "python",
   "name": "python3"
  },
  "language_info": {
   "codemirror_mode": {
    "name": "ipython",
    "version": 3
   },
   "file_extension": ".py",
   "mimetype": "text/x-python",
   "name": "python",
   "nbconvert_exporter": "python",
   "pygments_lexer": "ipython3",
   "version": "3.7.9"
  }
 },
 "nbformat": 4,
 "nbformat_minor": 2
}
