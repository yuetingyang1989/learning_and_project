{
 "cells": [
  {
   "cell_type": "code",
   "execution_count": 1,
   "metadata": {},
   "outputs": [
    {
     "data": {
      "text/html": [
       "\n",
       "            <div>\n",
       "                <p><b>SparkSession - hive</b></p>\n",
       "                \n",
       "        <div>\n",
       "            <p><b>SparkContext</b></p>\n",
       "\n",
       "            <p><a href=\"http://bigdata-g99lee0jue:4040\">Spark UI</a></p>\n",
       "\n",
       "            <dl>\n",
       "              <dt>Version</dt>\n",
       "                <dd><code>v3.0.0</code></dd>\n",
       "              <dt>Master</dt>\n",
       "                <dd><code>k8s://https://kubernetes.default.svc:443</code></dd>\n",
       "              <dt>AppName</dt>\n",
       "                <dd><code>bigdata-g99lee0jue</code></dd>\n",
       "            </dl>\n",
       "        </div>\n",
       "        \n",
       "            </div>\n",
       "        "
      ],
      "text/plain": [
       "<pyspark.sql.session.SparkSession at 0x7ff65c659a10>"
      ]
     },
     "execution_count": 1,
     "metadata": {},
     "output_type": "execute_result"
    }
   ],
   "source": [
    "spark"
   ]
  },
  {
   "cell_type": "code",
   "execution_count": 2,
   "metadata": {},
   "outputs": [],
   "source": [
    "from collections import namedtuple\n",
    "import datetime\n",
    "import json\n",
    "from typing import Dict, Union, Sequence\n",
    "import textwrap\n",
    "import itertools\n",
    "\n",
    "\n",
    "import matplotlib.pyplot as plt\n",
    "import seaborn as sns\n",
    "import numpy as np\n",
    "import pandas as pd\n",
    "\n",
    "from sklearn.metrics import average_precision_score\n",
    "\n",
    "from pyspark.sql import Row, Window, DataFrame, Column\n",
    "from pyspark.sql import types\n",
    "import pyspark.sql.functions as sf\n",
    "\n",
    "%load_ext autoreload\n",
    "%autoreload 2"
   ]
  },
  {
   "cell_type": "code",
   "execution_count": 3,
   "metadata": {},
   "outputs": [],
   "source": [
    "import project_utils\n",
    "import bks_utils\n",
    "import propensity_utils"
   ]
  },
  {
   "cell_type": "code",
   "execution_count": 4,
   "metadata": {},
   "outputs": [],
   "source": [
    "from kdevries.analysis_utils import show_sorted_frequencies as ssf\n",
    "from kdevries.analysis_utils import count_condition\n",
    "import kdevries"
   ]
  },
  {
   "cell_type": "code",
   "execution_count": 5,
   "metadata": {},
   "outputs": [],
   "source": [
    "import bkng.data"
   ]
  },
  {
   "cell_type": "code",
   "execution_count": 6,
   "metadata": {},
   "outputs": [
    {
     "name": "stdout",
     "output_type": "stream",
     "text": [
      "Waiting for pods\n",
      "Waiting for pods\n",
      "Waiting for pods\n",
      "Waiting for pods\n",
      "Connecting to H2O server at http://bigdata-g99lee0jue:54321/gateway/eu-nl-c/g99lee0jue/h2o ... successful.\n"
     ]
    },
    {
     "data": {
      "text/html": [
       "<div style=\"overflow:auto\"><table style=\"width:50%\"><tr><td>H2O_cluster_uptime:</td>\n",
       "<td>18 secs</td></tr>\n",
       "<tr><td>H2O_cluster_timezone:</td>\n",
       "<td>+01:00</td></tr>\n",
       "<tr><td>H2O_data_parsing_timezone:</td>\n",
       "<td>UTC</td></tr>\n",
       "<tr><td>H2O_cluster_version:</td>\n",
       "<td>3.32.0.2</td></tr>\n",
       "<tr><td>H2O_cluster_version_age:</td>\n",
       "<td>1 month and 28 days </td></tr>\n",
       "<tr><td>H2O_cluster_name:</td>\n",
       "<td>user33922</td></tr>\n",
       "<tr><td>H2O_cluster_total_nodes:</td>\n",
       "<td>2</td></tr>\n",
       "<tr><td>H2O_cluster_free_memory:</td>\n",
       "<td>30 Gb</td></tr>\n",
       "<tr><td>H2O_cluster_total_cores:</td>\n",
       "<td>112</td></tr>\n",
       "<tr><td>H2O_cluster_allowed_cores:</td>\n",
       "<td>112</td></tr>\n",
       "<tr><td>H2O_cluster_status:</td>\n",
       "<td>locked, healthy</td></tr>\n",
       "<tr><td>H2O_connection_url:</td>\n",
       "<td>http://bigdata-g99lee0jue:54321/gateway/eu-nl-c/g99lee0jue/h2o</td></tr>\n",
       "<tr><td>H2O_connection_proxy:</td>\n",
       "<td>null</td></tr>\n",
       "<tr><td>H2O_internal_security:</td>\n",
       "<td>False</td></tr>\n",
       "<tr><td>H2O_API_Extensions:</td>\n",
       "<td>Amazon S3, XGBoost, Algos, Sparkling Water REST API Extensions, AutoML, Core V3, TargetEncoder, Core V4</td></tr>\n",
       "<tr><td>Python_version:</td>\n",
       "<td>3.7.7 final</td></tr></table></div>"
      ],
      "text/plain": [
       "--------------------------  -------------------------------------------------------------------------------------------------------\n",
       "H2O_cluster_uptime:         18 secs\n",
       "H2O_cluster_timezone:       +01:00\n",
       "H2O_data_parsing_timezone:  UTC\n",
       "H2O_cluster_version:        3.32.0.2\n",
       "H2O_cluster_version_age:    1 month and 28 days\n",
       "H2O_cluster_name:           user33922\n",
       "H2O_cluster_total_nodes:    2\n",
       "H2O_cluster_free_memory:    30 Gb\n",
       "H2O_cluster_total_cores:    112\n",
       "H2O_cluster_allowed_cores:  112\n",
       "H2O_cluster_status:         locked, healthy\n",
       "H2O_connection_url:         http://bigdata-g99lee0jue:54321/gateway/eu-nl-c/g99lee0jue/h2o\n",
       "H2O_connection_proxy:       null\n",
       "H2O_internal_security:      False\n",
       "H2O_API_Extensions:         Amazon S3, XGBoost, Algos, Sparkling Water REST API Extensions, AutoML, Core V3, TargetEncoder, Core V4\n",
       "Python_version:             3.7.7 final\n",
       "--------------------------  -------------------------------------------------------------------------------------------------------"
      ]
     },
     "metadata": {},
     "output_type": "display_data"
    },
    {
     "name": "stdout",
     "output_type": "stream",
     "text": [
      "\n",
      "Sparkling Water Context:\n",
      " * Sparkling Water Version: 3.32.0.2-1-3.0\n",
      " * H2O name: spark\n",
      " * cluster size: 2\n",
      " * list of used nodes:\n",
      "  (executorId, host, port)\n",
      "  ------------------------\n",
      "  (0,10.239.198.15,54321)\n",
      "  (1,10.239.192.212,54321)\n",
      "  ------------------------\n",
      "\n",
      "  Open H2O Flow in browser: http://bigdata-g99lee0jue:54321/gateway/eu-nl-c/g99lee0jue/h2o (CMD + click in Mac OSX)\n",
      "\n",
      "    \n"
     ]
    }
   ],
   "source": [
    "bks_utils.create_h2o_context_on_bks()"
   ]
  },
  {
   "cell_type": "markdown",
   "metadata": {},
   "source": [
    "# Get data"
   ]
  },
  {
   "cell_type": "code",
   "execution_count": 7,
   "metadata": {},
   "outputs": [
    {
     "name": "stdout",
     "output_type": "stream",
     "text": [
      "Warning: caching the return dataframe\n",
      "Info: Forcing materialisation by calculating distinct count: 1696926\n",
      "Info: Verifying the number of original rows is preserved\n"
     ]
    }
   ],
   "source": [
    "from project_utils import DATA_START_DATE, DATA_END_DATE\n",
    "data_df = (\n",
    "    project_utils\n",
    "    .get_data_df(DATA_START_DATE, DATA_END_DATE)\n",
    ")\n",
    "data_df = project_utils.add_week_start_date_column(data_df, time_col=\"timestamp\")"
   ]
  },
  {
   "cell_type": "code",
   "execution_count": 8,
   "metadata": {},
   "outputs": [
    {
     "name": "stdout",
     "output_type": "stream",
     "text": [
      "+-----------------+--------+--------+\n",
      "|month(yyyy_mm_dd)|abs_freq|rel_freq|\n",
      "+-----------------+--------+--------+\n",
      "|1                |143895  |0.0848  |\n",
      "|2                |137964  |0.0813  |\n",
      "|3                |98408   |0.058   |\n",
      "|4                |72704   |0.0428  |\n",
      "|5                |90586   |0.0534  |\n",
      "|6                |125962  |0.0742  |\n",
      "|7                |234660  |0.1383  |\n",
      "|8                |244362  |0.144   |\n",
      "|9                |216325  |0.1275  |\n",
      "|10               |164289  |0.0968  |\n",
      "|11               |88227   |0.052   |\n",
      "|12               |79544   |0.0469  |\n",
      "+-----------------+--------+--------+\n",
      "\n"
     ]
    }
   ],
   "source": [
    "ssf(data_df, sf.month(\"yyyy_mm_dd\"), sort_cols=\"month(yyyy_mm_dd)\")"
   ]
  },
  {
   "cell_type": "markdown",
   "metadata": {},
   "source": [
    "# Train and test dates"
   ]
  },
  {
   "cell_type": "code",
   "execution_count": 9,
   "metadata": {},
   "outputs": [],
   "source": [
    "from project_utils import ANALYSIS_START_DATE\n",
    "test_week_start_dates = project_utils.get_week_start_date_range(start=ANALYSIS_START_DATE, end=DATA_END_DATE)"
   ]
  },
  {
   "cell_type": "code",
   "execution_count": 10,
   "metadata": {},
   "outputs": [
    {
     "data": {
      "text/plain": [
       "[datetime.date(2019, 12, 2),\n",
       " datetime.date(2019, 12, 9),\n",
       " datetime.date(2019, 12, 16),\n",
       " datetime.date(2019, 12, 23),\n",
       " datetime.date(2019, 12, 30),\n",
       " datetime.date(2020, 1, 6),\n",
       " datetime.date(2020, 1, 13),\n",
       " datetime.date(2020, 1, 20),\n",
       " datetime.date(2020, 1, 27),\n",
       " datetime.date(2020, 2, 3),\n",
       " datetime.date(2020, 2, 10),\n",
       " datetime.date(2020, 2, 17),\n",
       " datetime.date(2020, 2, 24),\n",
       " datetime.date(2020, 3, 2),\n",
       " datetime.date(2020, 3, 9),\n",
       " datetime.date(2020, 3, 16),\n",
       " datetime.date(2020, 3, 23),\n",
       " datetime.date(2020, 3, 30),\n",
       " datetime.date(2020, 4, 6),\n",
       " datetime.date(2020, 4, 13),\n",
       " datetime.date(2020, 4, 20),\n",
       " datetime.date(2020, 4, 27),\n",
       " datetime.date(2020, 5, 4),\n",
       " datetime.date(2020, 5, 11),\n",
       " datetime.date(2020, 5, 18),\n",
       " datetime.date(2020, 5, 25),\n",
       " datetime.date(2020, 6, 1),\n",
       " datetime.date(2020, 6, 8),\n",
       " datetime.date(2020, 6, 15),\n",
       " datetime.date(2020, 6, 22),\n",
       " datetime.date(2020, 6, 29),\n",
       " datetime.date(2020, 7, 6),\n",
       " datetime.date(2020, 7, 13),\n",
       " datetime.date(2020, 7, 20),\n",
       " datetime.date(2020, 7, 27),\n",
       " datetime.date(2020, 8, 3),\n",
       " datetime.date(2020, 8, 10),\n",
       " datetime.date(2020, 8, 17),\n",
       " datetime.date(2020, 8, 24),\n",
       " datetime.date(2020, 8, 31),\n",
       " datetime.date(2020, 9, 7),\n",
       " datetime.date(2020, 9, 14)]"
      ]
     },
     "execution_count": 10,
     "metadata": {},
     "output_type": "execute_result"
    }
   ],
   "source": [
    "test_week_start_dates"
   ]
  },
  {
   "cell_type": "markdown",
   "metadata": {},
   "source": [
    "# Prepare H2O Frame"
   ]
  },
  {
   "cell_type": "code",
   "execution_count": 11,
   "metadata": {},
   "outputs": [],
   "source": [
    "metadata = json.load(open(\"incremental_learning_boreas_config.json\"))\n",
    "metadata = project_utils.set_default_model_params(metadata)\n",
    "metadata = project_utils.move_categorical_features_to_numerical(metadata)\n",
    "metadata[\"dates\"] = None "
   ]
  },
  {
   "cell_type": "code",
   "execution_count": 12,
   "metadata": {},
   "outputs": [],
   "source": [
    "import propensity_utils"
   ]
  },
  {
   "cell_type": "code",
   "execution_count": 13,
   "metadata": {},
   "outputs": [],
   "source": [
    "data_df = propensity_utils.add_label_and_selector_cols(data_df, test_week_start_dates)\n",
    "data_h2o_df = project_utils.spark_to_h2o_frame(data_df, metadata)\n",
    "data_h2o_df = propensity_utils.cast_label_and_selector_cols_as_factor(data_h2o_df, test_week_start_dates)"
   ]
  },
  {
   "cell_type": "markdown",
   "metadata": {},
   "source": [
    "# Train gbm: fraud"
   ]
  },
  {
   "cell_type": "code",
   "execution_count": 14,
   "metadata": {},
   "outputs": [],
   "source": [
    "test_week_start_date = test_week_start_dates[0]"
   ]
  },
  {
   "cell_type": "code",
   "execution_count": 15,
   "metadata": {},
   "outputs": [],
   "source": [
    "def get_fraud_train_test_h2o_df(data_h2o_df, test_week_start_date):\n",
    "    train_test_col_name = propensity_utils.get_week_train_test_col_name(test_week_start_date)\n",
    "    # train_test_col: \"1\" when test, \"0\" when train \n",
    "    return data_h2o_df[data_h2o_df[train_test_col_name]=='0'], data_h2o_df[data_h2o_df[train_test_col_name]=='1']"
   ]
  },
  {
   "cell_type": "code",
   "execution_count": 16,
   "metadata": {},
   "outputs": [],
   "source": [
    "fraud_train_h2o_df, fraud_test_h2o_df = get_fraud_train_test_h2o_df(data_h2o_df, test_week_start_date)"
   ]
  },
  {
   "cell_type": "code",
   "execution_count": 17,
   "metadata": {},
   "outputs": [
    {
     "name": "stderr",
     "output_type": "stream",
     "text": [
      "Dropping bad and constant columns: [email_address_hash_distinct_count_detected_country_1dly_30d2h_2h]\n"
     ]
    },
    {
     "name": "stdout",
     "output_type": "stream",
     "text": [
      "xgboost Model Build progress: |███████████████████████████████████████████| 100%\n"
     ]
    }
   ],
   "source": [
    "fraud_xgb_model = project_utils.train_h2o_model(fraud_train_h2o_df, metadata, val_h2o_df=fraud_test_h2o_df)"
   ]
  },
  {
   "cell_type": "code",
   "execution_count": 18,
   "metadata": {},
   "outputs": [
    {
     "data": {
      "text/plain": [
       "0.7403940950373811"
      ]
     },
     "execution_count": 18,
     "metadata": {},
     "output_type": "execute_result"
    }
   ],
   "source": [
    "fraud_xgb_model.aucpr()"
   ]
  },
  {
   "cell_type": "code",
   "execution_count": 19,
   "metadata": {},
   "outputs": [
    {
     "data": {
      "text/plain": [
       "0.523070085524198"
      ]
     },
     "execution_count": 19,
     "metadata": {},
     "output_type": "execute_result"
    }
   ],
   "source": [
    "fraud_xgb_model.aucpr(valid=True)"
   ]
  },
  {
   "cell_type": "markdown",
   "metadata": {},
   "source": [
    "# Leave nodes for Train / Test set"
   ]
  },
  {
   "cell_type": "code",
   "execution_count": 20,
   "metadata": {},
   "outputs": [],
   "source": [
    "leaves_h2o_df = fraud_xgb_model.predict_leaf_node_assignment(data_h2o_df)"
   ]
  },
  {
   "cell_type": "code",
   "execution_count": 21,
   "metadata": {},
   "outputs": [],
   "source": [
    "data_and_leaves_h2o_df = data_h2o_df"
   ]
  },
  {
   "cell_type": "code",
   "execution_count": 22,
   "metadata": {},
   "outputs": [],
   "source": [
    "leaf_columns = leaves_h2o_df.columns\n",
    "renamed_leaf_columns = [leaf_col.replace(\".C1\", \"\").lower() for leaf_col in leaf_columns]\n",
    "for leaf_col, renamed_leaf_column in zip(leaf_columns, renamed_leaf_columns):\n",
    "    data_and_leaves_h2o_df[renamed_leaf_column] = leaves_h2o_df[leaf_col].asfactor()"
   ]
  },
  {
   "cell_type": "code",
   "execution_count": 23,
   "metadata": {},
   "outputs": [],
   "source": [
    "data_and_leaves_df = project_utils.as_spark_frame(data_and_leaves_h2o_df)"
   ]
  },
  {
   "cell_type": "code",
   "execution_count": 24,
   "metadata": {},
   "outputs": [
    {
     "name": "stdout",
     "output_type": "stream",
     "text": [
      "root\n",
      " |-- request_id: string (nullable = false)\n",
      " |-- timestamp: string (nullable = false)\n",
      " |-- model_name: string (nullable = true)\n",
      " |-- product_code: string (nullable = false)\n",
      " |-- control_group: string (nullable = false)\n",
      " |-- control_group_ratio: double (nullable = false)\n",
      " |-- final_decision: string (nullable = false)\n",
      " |-- model_score: double (nullable = false)\n",
      " |-- model_3ds_threshold: double (nullable = true)\n",
      " |-- yyyy_mm_dd: timestamp (nullable = false)\n",
      " |-- filter_date: timestamp (nullable = false)\n",
      " |-- binary_label: string (nullable = false)\n",
      " |-- email_address_hash_distinct_count_digest_2d: short (nullable = false)\n",
      " |-- email_address_hash_distinct_count_detected_country_2d: byte (nullable = false)\n",
      " |-- email_address_hash_distinct_count_detected_country_1dly_30d2h_2h: byte (nullable = true)\n",
      " |-- email_address_hash_distinct_count_ip_address_hash_2d: byte (nullable = false)\n",
      " |-- digest_distinct_count_email_address_hash_2d: byte (nullable = true)\n",
      " |-- digest_distinct_count_email_address_hash_1dly_30d2h_2h: byte (nullable = true)\n",
      " |-- email_address_hash_count_email_address_hash_30m: byte (nullable = false)\n",
      " |-- ip_address_hash_count_ip_address_hash_30m: byte (nullable = false)\n",
      " |-- digest_count_digest_6h: short (nullable = true)\n",
      " |-- email_address_hash_sum_is_refused_3d: short (nullable = false)\n",
      " |-- email_address_hash_sum_is_refused_3h: short (nullable = false)\n",
      " |-- ip_address_hash_sum_is_refused_3d: short (nullable = false)\n",
      " |-- ip_address_hash_sum_is_refused_3h: short (nullable = false)\n",
      " |-- digest_sum_is_refused_3d: short (nullable = true)\n",
      " |-- digest_sum_is_refused_3h: byte (nullable = true)\n",
      " |-- cc1_booker_eq_issuer: byte (nullable = true)\n",
      " |-- email_address_hash_sum_is_authorised_8h: byte (nullable = false)\n",
      " |-- ip_address_hash_sum_is_authorised_8h: short (nullable = false)\n",
      " |-- digest_sum_is_authorised_8h: byte (nullable = true)\n",
      " |-- email_address_hash_sum_card_is_blocked_1dly_180d2h_2h: byte (nullable = false)\n",
      " |-- digest_distinct_count_ip_address_hash_3d: byte (nullable = true)\n",
      " |-- card_is_pasted: byte (nullable = true)\n",
      " |-- price_euro: double (nullable = false)\n",
      " |-- roomnights: byte (nullable = true)\n",
      " |-- booking_window: short (nullable = false)\n",
      " |-- length_of_stay: byte (nullable = false)\n",
      " |-- cpm_min: double (nullable = true)\n",
      " |-- cpm_robust_min: integer (nullable = true)\n",
      " |-- cpm_max: double (nullable = true)\n",
      " |-- cpm_robust_max: integer (nullable = true)\n",
      " |-- cpm_mean: double (nullable = true)\n",
      " |-- cpm_robust_mean: double (nullable = true)\n",
      " |-- cpm_std: double (nullable = true)\n",
      " |-- cpm_robust_std: double (nullable = true)\n",
      " |-- typing_speed_firstname: integer (nullable = true)\n",
      " |-- typing_speed_lastname: integer (nullable = true)\n",
      " |-- typing_speed_email: integer (nullable = true)\n",
      " |-- typing_speed_email_confirm: integer (nullable = true)\n",
      " |-- typing_speed_phone: integer (nullable = true)\n",
      " |-- typing_speed_address1: integer (nullable = true)\n",
      " |-- typing_speed_zip: integer (nullable = true)\n",
      " |-- typing_speed_city: integer (nullable = true)\n",
      " |-- typing_speed_cc_number: double (nullable = true)\n",
      " |-- typing_speed_cc_cvc: integer (nullable = true)\n",
      " |-- typing_speed_others: integer (nullable = true)\n",
      " |-- typing_speed_remarks: integer (nullable = true)\n",
      " |-- three_or_more_unique_ccs_per_email: byte (nullable = false)\n",
      " |-- ravelin_card_count: short (nullable = true)\n",
      " |-- ravelin_card_degree_max: short (nullable = true)\n",
      " |-- ravelin_card_degree_mean: double (nullable = true)\n",
      " |-- ravelin_card_degree_min: byte (nullable = true)\n",
      " |-- ravelin_chargeback_count: short (nullable = true)\n",
      " |-- ravelin_customer_count: short (nullable = true)\n",
      " |-- ravelin_customer_degree_max: integer (nullable = true)\n",
      " |-- ravelin_customer_degree_mean: double (nullable = true)\n",
      " |-- ravelin_customer_degree_min: short (nullable = true)\n",
      " |-- ravelin_device_count: short (nullable = true)\n",
      " |-- ravelin_device_degree_max: short (nullable = true)\n",
      " |-- ravelin_device_degree_mean: double (nullable = true)\n",
      " |-- ravelin_device_degree_min: byte (nullable = true)\n",
      " |-- ravelin_email_count: short (nullable = true)\n",
      " |-- ravelin_email_degree_max: byte (nullable = true)\n",
      " |-- ravelin_email_degree_mean: byte (nullable = true)\n",
      " |-- ravelin_email_degree_min: byte (nullable = true)\n",
      " |-- ravelin_graph_network_size: short (nullable = true)\n",
      " |-- ravelin_hops_to_fraud: byte (nullable = true)\n",
      " |-- ravelin_phone_count: short (nullable = true)\n",
      " |-- ravelin_phone_degree_max: byte (nullable = true)\n",
      " |-- ravelin_phone_degree_mean: byte (nullable = true)\n",
      " |-- ravelin_phone_degree_min: byte (nullable = true)\n",
      " |-- ravelin_reviewed_fraudster_count: byte (nullable = true)\n",
      " |-- ravelin_reviewed_genuine_count: byte (nullable = true)\n",
      " |-- apate_card_count: short (nullable = true)\n",
      " |-- apate_fraud_size: short (nullable = true)\n",
      " |-- apate_fraud_ratio: double (nullable = true)\n",
      " |-- apate_email_count: short (nullable = true)\n",
      " |-- apate_device_count: short (nullable = true)\n",
      " |-- apate_cluster_size: short (nullable = true)\n",
      " |-- apate_hops_to_fraud: byte (nullable = true)\n",
      " |-- apate_card_max_degree: short (nullable = true)\n",
      " |-- apate_card_mean_degree: double (nullable = true)\n",
      " |-- apate_card_min_degree: byte (nullable = true)\n",
      " |-- apate_device_max_degree: short (nullable = true)\n",
      " |-- apate_device_mean_degree: double (nullable = true)\n",
      " |-- apate_device_min_degree: byte (nullable = true)\n",
      " |-- apate_email_min_degree: short (nullable = true)\n",
      " |-- apate_email_mean_degree: double (nullable = true)\n",
      " |-- apate_email_max_degree: short (nullable = true)\n",
      " |-- apate_cluster_growth_in_last_24_hour: short (nullable = true)\n",
      " |-- apate_cluster_growth_in_last_1_hour: byte (nullable = true)\n",
      " |-- apate_cluster_growth_in_last_10_minute: byte (nullable = true)\n",
      " |-- apate_cluster_growth_in_last_48_hour: short (nullable = true)\n",
      " |-- apate_cluster_growth_in_last_1_minute: byte (nullable = true)\n",
      " |-- apate_cluster_growth_in_last_12_hour: short (nullable = true)\n",
      " |-- apate_cluster_growth_in_last_5_minute: byte (nullable = true)\n",
      " |-- apate_cluster_growth_in_last_15_minute: byte (nullable = true)\n",
      " |-- apate_cluster_growth_in_last_4_hour: short (nullable = true)\n",
      " |-- apate_median_age_of_cluster: double (nullable = true)\n",
      " |-- apate_average_age_of_cluster: double (nullable = true)\n",
      " |-- apate_percentile90_age_of_cluster: short (nullable = true)\n",
      " |-- reservation_batch_booker_email__language_code_age: double (nullable = false)\n",
      " |-- pbb_reservation_batch_booker_email__issuer_cc1_age: double (nullable = false)\n",
      " |-- reservation_batch_is_new_language_code_for_this_email: byte (nullable = false)\n",
      " |-- proba_hotel_cc1__issuer_cc1_given_booker_cc1: double (nullable = false)\n",
      " |-- proba_booker_cc1__issuer_cc1_given_hotel_cc1: double (nullable = false)\n",
      " |-- proba_booker_cc1__hotel_cc1_given_issuer_cc1: double (nullable = false)\n",
      " |-- proba_hotel_cc1_given_booker_cc1__issuer_cc1: double (nullable = false)\n",
      " |-- proba_issuer_cc1_given_booker_cc1__hotel_cc1: double (nullable = false)\n",
      " |-- proba_issuer_cc1_given_booker_cc1: double (nullable = false)\n",
      " |-- proba_booker_cc1_given_issuer_cc1: double (nullable = false)\n",
      " |-- proba_hotel_cc1_given_booker_cc1: double (nullable = false)\n",
      " |-- proba_booker_cc1_given_hotel_cc1: double (nullable = false)\n",
      " |-- proba_language_code_given_hotel_cc1: double (nullable = false)\n",
      " |-- proba_hotel_cc1_given_language_code: double (nullable = false)\n",
      " |-- proba_issuer_cc1__language_code_given_hotel_cc1: double (nullable = false)\n",
      " |-- proba_hotel_cc1__language_code_given_issuer_cc1: double (nullable = false)\n",
      " |-- proba_hotel_cc1__issuer_cc1_given_language_code: double (nullable = false)\n",
      " |-- proba_issuer_cc1_given_hotel_cc1__language_code: double (nullable = false)\n",
      " |-- proba_hotel_cc1_given_issuer_cc1__language_code: double (nullable = false)\n",
      " |-- proba_language_code_given_issuer_cc1: double (nullable = false)\n",
      " |-- proba_issuer_cc1_given_language_code: double (nullable = false)\n",
      " |-- country_pbb_age: short (nullable = false)\n",
      " |-- property_age: short (nullable = false)\n",
      " |-- property_pbb_age: short (nullable = false)\n",
      " |-- ratio_price_to_avg_price_by_hotel: double (nullable = true)\n",
      " |-- ratio_adr_to_avg_adr_by_hotel: double (nullable = true)\n",
      " |-- log_time_since_first_seen: double (nullable = true)\n",
      " |-- log_time_since_first_ok_bkg: double (nullable = true)\n",
      " |-- log_time_since_second_ok_bkg: double (nullable = true)\n",
      " |-- pi_hotel_id_nr_attempts_30m: short (nullable = false)\n",
      " |-- pi_hotel_id_nr_auth_attempts_30m: byte (nullable = false)\n",
      " |-- pi_hotel_id_sum_attempts_30m: double (nullable = false)\n",
      " |-- pi_hotel_id_sum_auth_attempts_30m: double (nullable = false)\n",
      " |-- pi_hotel_id_nr_attempts_1h: short (nullable = false)\n",
      " |-- pi_hotel_id_nr_auth_attempts_1h: byte (nullable = false)\n",
      " |-- pi_hotel_id_sum_attempts_1h: double (nullable = false)\n",
      " |-- pi_hotel_id_sum_auth_attempts_1h: double (nullable = false)\n",
      " |-- pi_hotel_id_nr_attempts_6h: short (nullable = false)\n",
      " |-- pi_hotel_id_nr_auth_attempts_6h: byte (nullable = false)\n",
      " |-- pi_hotel_id_sum_attempts_6h: double (nullable = false)\n",
      " |-- pi_hotel_id_sum_auth_attempts_6h: double (nullable = false)\n",
      " |-- pi_hotel_id_nr_attempts_24h: short (nullable = false)\n",
      " |-- pi_hotel_id_nr_auth_attempts_24h: short (nullable = false)\n",
      " |-- pi_hotel_id_sum_attempts_24h: double (nullable = false)\n",
      " |-- pi_hotel_id_sum_auth_attempts_24h: double (nullable = false)\n",
      " |-- sum_nofs_hotel_cc1_4_0_wk: double (nullable = false)\n",
      " |-- sum_sales_hotel_cc1_4_0_wk: double (nullable = false)\n",
      " |-- rate_fts_hotel_cc1_4_0_wk: double (nullable = false)\n",
      " |-- is_bbasic: byte (nullable = false)\n",
      " |-- is_apm: byte (nullable = false)\n",
      " |-- is_online_email_address_hash_distinct_count_digest_2d: byte (nullable = false)\n",
      " |-- is_online_email_address_hash_distinct_count_detected_country_2d: byte (nullable = false)\n",
      " |-- is_online_email_address_hash_distinct_count_detected_country_1dly_30d2h_2h: byte (nullable = false)\n",
      " |-- is_online_email_address_hash_distinct_count_ip_address_hash_2d: byte (nullable = false)\n",
      " |-- is_online_digest_distinct_count_email_address_hash_2d: byte (nullable = false)\n",
      " |-- is_online_digest_distinct_count_email_address_hash_1dly_30d2h_2h: byte (nullable = false)\n",
      " |-- is_online_email_address_hash_count_email_address_hash_30m: byte (nullable = false)\n",
      " |-- is_online_ip_address_hash_count_ip_address_hash_30m: byte (nullable = false)\n",
      " |-- is_online_digest_count_digest_6h: byte (nullable = false)\n",
      " |-- is_online_email_address_hash_sum_is_refused_3d: byte (nullable = false)\n",
      " |-- is_online_email_address_hash_sum_is_refused_3h: byte (nullable = false)\n",
      " |-- is_online_ip_address_hash_sum_is_refused_3d: byte (nullable = false)\n",
      " |-- is_online_ip_address_hash_sum_is_refused_3h: byte (nullable = false)\n",
      " |-- is_online_digest_sum_is_refused_3d: byte (nullable = false)\n",
      " |-- is_online_digest_sum_is_refused_3h: byte (nullable = false)\n",
      " |-- is_online_cc1_booker_eq_issuer: byte (nullable = false)\n",
      " |-- is_online_email_address_hash_sum_is_authorised_8h: byte (nullable = false)\n",
      " |-- is_online_ip_address_hash_sum_is_authorised_8h: byte (nullable = false)\n",
      " |-- is_online_digest_sum_is_authorised_8h: byte (nullable = false)\n",
      " |-- is_online_email_address_hash_sum_card_is_blocked_1dly_180d2h_2h: byte (nullable = false)\n",
      " |-- is_online_digest_distinct_count_ip_address_hash_3d: byte (nullable = false)\n",
      " |-- is_online_card_is_pasted: byte (nullable = false)\n",
      " |-- is_online_price_euro: byte (nullable = false)\n",
      " |-- is_online_roomnights: byte (nullable = false)\n",
      " |-- is_online_booking_window: byte (nullable = false)\n",
      " |-- is_online_length_of_stay: byte (nullable = false)\n",
      " |-- is_online_cpm_min: byte (nullable = false)\n",
      " |-- is_online_cpm_robust_min: byte (nullable = false)\n",
      " |-- is_online_cpm_max: byte (nullable = false)\n",
      " |-- is_online_cpm_robust_max: byte (nullable = false)\n",
      " |-- is_online_cpm_mean: byte (nullable = false)\n",
      " |-- is_online_cpm_robust_mean: byte (nullable = false)\n",
      " |-- is_online_cpm_std: byte (nullable = false)\n",
      " |-- is_online_cpm_robust_std: byte (nullable = false)\n",
      " |-- is_online_typing_speed_firstname: byte (nullable = false)\n",
      " |-- is_online_typing_speed_lastname: byte (nullable = false)\n",
      " |-- is_online_typing_speed_email: byte (nullable = false)\n",
      " |-- is_online_typing_speed_email_confirm: byte (nullable = false)\n",
      " |-- is_online_typing_speed_phone: byte (nullable = false)\n",
      " |-- is_online_typing_speed_address1: byte (nullable = false)\n",
      " |-- is_online_typing_speed_zip: byte (nullable = false)\n",
      " |-- is_online_typing_speed_city: byte (nullable = false)\n",
      " |-- is_online_typing_speed_cc_number: byte (nullable = false)\n",
      " |-- is_online_typing_speed_cc_cvc: byte (nullable = false)\n",
      " |-- is_online_typing_speed_others: byte (nullable = false)\n",
      " |-- is_online_typing_speed_remarks: byte (nullable = false)\n",
      " |-- is_online_three_or_more_unique_ccs_per_email: byte (nullable = false)\n",
      " |-- is_online_ravelin_card_count: byte (nullable = false)\n",
      " |-- is_online_ravelin_card_degree_max: byte (nullable = false)\n",
      " |-- is_online_ravelin_card_degree_mean: byte (nullable = false)\n",
      " |-- is_online_ravelin_card_degree_min: byte (nullable = false)\n",
      " |-- is_online_ravelin_chargeback_count: byte (nullable = false)\n",
      " |-- is_online_ravelin_customer_count: byte (nullable = false)\n",
      " |-- is_online_ravelin_customer_degree_max: byte (nullable = false)\n",
      " |-- is_online_ravelin_customer_degree_mean: byte (nullable = false)\n",
      " |-- is_online_ravelin_customer_degree_min: byte (nullable = false)\n",
      " |-- is_online_ravelin_device_count: byte (nullable = false)\n",
      " |-- is_online_ravelin_device_degree_max: byte (nullable = false)\n",
      " |-- is_online_ravelin_device_degree_mean: byte (nullable = false)\n",
      " |-- is_online_ravelin_device_degree_min: byte (nullable = false)\n",
      " |-- is_online_ravelin_email_count: byte (nullable = false)\n",
      " |-- is_online_ravelin_email_degree_max: byte (nullable = false)\n",
      " |-- is_online_ravelin_email_degree_mean: byte (nullable = false)\n",
      " |-- is_online_ravelin_email_degree_min: byte (nullable = false)\n",
      " |-- is_online_ravelin_graph_network_size: byte (nullable = false)\n",
      " |-- is_online_ravelin_hops_to_fraud: byte (nullable = false)\n",
      " |-- is_online_ravelin_phone_count: byte (nullable = false)\n",
      " |-- is_online_ravelin_phone_degree_max: byte (nullable = false)\n",
      " |-- is_online_ravelin_phone_degree_mean: byte (nullable = false)\n",
      " |-- is_online_ravelin_phone_degree_min: byte (nullable = false)\n",
      " |-- is_online_ravelin_reviewed_fraudster_count: byte (nullable = false)\n",
      " |-- is_online_ravelin_reviewed_genuine_count: byte (nullable = false)\n",
      " |-- is_online_apate_card_count: byte (nullable = false)\n",
      " |-- is_online_apate_fraud_size: byte (nullable = false)\n",
      " |-- is_online_apate_fraud_ratio: byte (nullable = false)\n",
      " |-- is_online_apate_email_count: byte (nullable = false)\n",
      " |-- is_online_apate_device_count: byte (nullable = false)\n",
      " |-- is_online_apate_cluster_size: byte (nullable = false)\n",
      " |-- is_online_apate_hops_to_fraud: byte (nullable = false)\n",
      " |-- is_online_apate_card_max_degree: byte (nullable = false)\n",
      " |-- is_online_apate_card_mean_degree: byte (nullable = false)\n",
      " |-- is_online_apate_card_min_degree: byte (nullable = false)\n",
      " |-- is_online_apate_device_max_degree: byte (nullable = false)\n",
      " |-- is_online_apate_device_mean_degree: byte (nullable = false)\n",
      " |-- is_online_apate_device_min_degree: byte (nullable = false)\n",
      " |-- is_online_apate_email_min_degree: byte (nullable = false)\n",
      " |-- is_online_apate_email_mean_degree: byte (nullable = false)\n",
      " |-- is_online_apate_email_max_degree: byte (nullable = false)\n",
      " |-- is_online_apate_cluster_growth_in_last_24_hour: byte (nullable = false)\n",
      " |-- is_online_apate_cluster_growth_in_last_1_hour: byte (nullable = false)\n",
      " |-- is_online_apate_cluster_growth_in_last_10_minute: byte (nullable = false)\n",
      " |-- is_online_apate_cluster_growth_in_last_48_hour: byte (nullable = false)\n",
      " |-- is_online_apate_cluster_growth_in_last_1_minute: byte (nullable = false)\n",
      " |-- is_online_apate_cluster_growth_in_last_12_hour: byte (nullable = false)\n",
      " |-- is_online_apate_cluster_growth_in_last_5_minute: byte (nullable = false)\n",
      " |-- is_online_apate_cluster_growth_in_last_15_minute: byte (nullable = false)\n",
      " |-- is_online_apate_cluster_growth_in_last_4_hour: byte (nullable = false)\n",
      " |-- is_online_apate_median_age_of_cluster: byte (nullable = false)\n",
      " |-- is_online_apate_average_age_of_cluster: byte (nullable = false)\n",
      " |-- is_online_apate_percentile90_age_of_cluster: byte (nullable = false)\n",
      " |-- is_online_reservation_batch_booker_email__language_code_age: byte (nullable = false)\n",
      " |-- is_online_pbb_reservation_batch_booker_email__issuer_cc1_age: byte (nullable = false)\n",
      " |-- is_online_reservation_batch_is_new_language_code_for_this_email: byte (nullable = false)\n",
      " |-- is_online_proba_hotel_cc1__issuer_cc1_given_booker_cc1: byte (nullable = false)\n",
      " |-- is_online_proba_booker_cc1__issuer_cc1_given_hotel_cc1: byte (nullable = false)\n",
      " |-- is_online_proba_booker_cc1__hotel_cc1_given_issuer_cc1: byte (nullable = false)\n",
      " |-- is_online_proba_hotel_cc1_given_booker_cc1__issuer_cc1: byte (nullable = false)\n",
      " |-- is_online_proba_issuer_cc1_given_booker_cc1__hotel_cc1: byte (nullable = false)\n",
      " |-- is_online_proba_issuer_cc1_given_booker_cc1: byte (nullable = false)\n",
      " |-- is_online_proba_booker_cc1_given_issuer_cc1: byte (nullable = false)\n",
      " |-- is_online_proba_hotel_cc1_given_booker_cc1: byte (nullable = false)\n",
      " |-- is_online_proba_booker_cc1_given_hotel_cc1: byte (nullable = false)\n",
      " |-- is_online_proba_language_code_given_hotel_cc1: byte (nullable = false)\n",
      " |-- is_online_proba_hotel_cc1_given_language_code: byte (nullable = false)\n",
      " |-- is_online_proba_issuer_cc1__language_code_given_hotel_cc1: byte (nullable = false)\n",
      " |-- is_online_proba_hotel_cc1__language_code_given_issuer_cc1: byte (nullable = false)\n",
      " |-- is_online_proba_hotel_cc1__issuer_cc1_given_language_code: byte (nullable = false)\n",
      " |-- is_online_proba_issuer_cc1_given_hotel_cc1__language_code: byte (nullable = false)\n",
      " |-- is_online_proba_hotel_cc1_given_issuer_cc1__language_code: byte (nullable = false)\n",
      " |-- is_online_proba_language_code_given_issuer_cc1: byte (nullable = false)\n",
      " |-- is_online_proba_issuer_cc1_given_language_code: byte (nullable = false)\n",
      " |-- is_online_country_pbb_age: byte (nullable = false)\n",
      " |-- is_online_property_age: byte (nullable = false)\n",
      " |-- is_online_property_pbb_age: byte (nullable = false)\n",
      " |-- is_online_ratio_price_to_avg_price_by_hotel: byte (nullable = false)\n",
      " |-- is_online_ratio_adr_to_avg_adr_by_hotel: byte (nullable = false)\n",
      " |-- is_online_log_time_since_first_seen: byte (nullable = false)\n",
      " |-- is_online_log_time_since_first_ok_bkg: byte (nullable = false)\n",
      " |-- is_online_log_time_since_second_ok_bkg: byte (nullable = false)\n",
      " |-- is_online_pi_hotel_id_nr_attempts_30m: byte (nullable = false)\n",
      " |-- is_online_pi_hotel_id_nr_auth_attempts_30m: byte (nullable = false)\n",
      " |-- is_online_pi_hotel_id_sum_attempts_30m: byte (nullable = false)\n",
      " |-- is_online_pi_hotel_id_sum_auth_attempts_30m: byte (nullable = false)\n",
      " |-- is_online_pi_hotel_id_nr_attempts_1h: byte (nullable = false)\n",
      " |-- is_online_pi_hotel_id_nr_auth_attempts_1h: byte (nullable = false)\n",
      " |-- is_online_pi_hotel_id_sum_attempts_1h: byte (nullable = false)\n",
      " |-- is_online_pi_hotel_id_sum_auth_attempts_1h: byte (nullable = false)\n",
      " |-- is_online_pi_hotel_id_nr_attempts_6h: byte (nullable = false)\n",
      " |-- is_online_pi_hotel_id_nr_auth_attempts_6h: byte (nullable = false)\n",
      " |-- is_online_pi_hotel_id_sum_attempts_6h: byte (nullable = false)\n",
      " |-- is_online_pi_hotel_id_sum_auth_attempts_6h: byte (nullable = false)\n",
      " |-- is_online_pi_hotel_id_nr_attempts_24h: byte (nullable = false)\n",
      " |-- is_online_pi_hotel_id_nr_auth_attempts_24h: byte (nullable = false)\n",
      " |-- is_online_pi_hotel_id_sum_attempts_24h: byte (nullable = false)\n",
      " |-- is_online_pi_hotel_id_sum_auth_attempts_24h: byte (nullable = false)\n",
      " |-- is_online_sum_nofs_hotel_cc1_4_0_wk: byte (nullable = false)\n",
      " |-- is_online_sum_sales_hotel_cc1_4_0_wk: byte (nullable = false)\n",
      " |-- is_online_rate_fts_hotel_cc1_4_0_wk: byte (nullable = false)\n",
      " |-- is_online_is_bbasic: byte (nullable = false)\n",
      " |-- is_online_is_apm: byte (nullable = false)\n",
      " |-- paymentfraud_timestamp: string (nullable = true)\n",
      " |-- week_start_date: timestamp (nullable = false)\n",
      " |-- 2019_12_02_train_test_label: string (nullable = true)\n",
      " |-- 2019_12_09_train_test_label: string (nullable = true)\n",
      " |-- 2019_12_16_train_test_label: string (nullable = true)\n",
      " |-- 2019_12_23_train_test_label: string (nullable = true)\n",
      " |-- 2019_12_30_train_test_label: string (nullable = true)\n",
      " |-- 2020_01_06_train_test_label: string (nullable = true)\n",
      " |-- 2020_01_13_train_test_label: string (nullable = true)\n",
      " |-- 2020_01_20_train_test_label: string (nullable = true)\n",
      " |-- 2020_01_27_train_test_label: string (nullable = true)\n",
      " |-- 2020_02_03_train_test_label: string (nullable = true)\n",
      " |-- 2020_02_10_train_test_label: string (nullable = true)\n",
      " |-- 2020_02_17_train_test_label: string (nullable = true)\n",
      " |-- 2020_02_24_train_test_label: string (nullable = true)\n",
      " |-- 2020_03_02_train_test_label: string (nullable = true)\n",
      " |-- 2020_03_09_train_test_label: string (nullable = true)\n",
      " |-- 2020_03_16_train_test_label: string (nullable = true)\n",
      " |-- 2020_03_23_train_test_label: string (nullable = true)\n",
      " |-- 2020_03_30_train_test_label: string (nullable = true)\n",
      " |-- 2020_04_06_train_test_label: string (nullable = true)\n",
      " |-- 2020_04_13_train_test_label: string (nullable = true)\n",
      " |-- 2020_04_20_train_test_label: string (nullable = true)\n",
      " |-- 2020_04_27_train_test_label: string (nullable = true)\n",
      " |-- 2020_05_04_train_test_label: string (nullable = true)\n",
      " |-- 2020_05_11_train_test_label: string (nullable = true)\n",
      " |-- 2020_05_18_train_test_label: string (nullable = true)\n",
      " |-- 2020_05_25_train_test_label: string (nullable = true)\n",
      " |-- 2020_06_01_train_test_label: string (nullable = true)\n",
      " |-- 2020_06_08_train_test_label: string (nullable = true)\n",
      " |-- 2020_06_15_train_test_label: string (nullable = true)\n",
      " |-- 2020_06_22_train_test_label: string (nullable = true)\n",
      " |-- 2020_06_29_train_test_label: string (nullable = true)\n",
      " |-- 2020_07_06_train_test_label: string (nullable = true)\n",
      " |-- 2020_07_13_train_test_label: string (nullable = true)\n",
      " |-- 2020_07_20_train_test_label: string (nullable = true)\n",
      " |-- 2020_07_27_train_test_label: string (nullable = true)\n",
      " |-- 2020_08_03_train_test_label: string (nullable = true)\n",
      " |-- 2020_08_10_train_test_label: string (nullable = true)\n",
      " |-- 2020_08_17_train_test_label: string (nullable = true)\n",
      " |-- 2020_08_24_train_test_label: string (nullable = true)\n",
      " |-- 2020_08_31_train_test_label: string (nullable = true)\n",
      " |-- 2020_09_07_train_test_label: string (nullable = true)\n",
      " |-- 2020_09_14_train_test_label: string (nullable = true)\n",
      " |-- 2019_12_02_selector: string (nullable = false)\n",
      " |-- 2019_12_09_selector: string (nullable = false)\n",
      " |-- 2019_12_16_selector: string (nullable = false)\n",
      " |-- 2019_12_23_selector: string (nullable = false)\n",
      " |-- 2019_12_30_selector: string (nullable = false)\n",
      " |-- 2020_01_06_selector: string (nullable = false)\n",
      " |-- 2020_01_13_selector: string (nullable = false)\n",
      " |-- 2020_01_20_selector: string (nullable = false)\n",
      " |-- 2020_01_27_selector: string (nullable = false)\n",
      " |-- 2020_02_03_selector: string (nullable = false)\n",
      " |-- 2020_02_10_selector: string (nullable = false)\n",
      " |-- 2020_02_17_selector: string (nullable = false)\n",
      " |-- 2020_02_24_selector: string (nullable = false)\n",
      " |-- 2020_03_02_selector: string (nullable = false)\n",
      " |-- 2020_03_09_selector: string (nullable = false)\n",
      " |-- 2020_03_16_selector: string (nullable = false)\n",
      " |-- 2020_03_23_selector: string (nullable = false)\n",
      " |-- 2020_03_30_selector: string (nullable = false)\n",
      " |-- 2020_04_06_selector: string (nullable = false)\n",
      " |-- 2020_04_13_selector: string (nullable = false)\n",
      " |-- 2020_04_20_selector: string (nullable = false)\n",
      " |-- 2020_04_27_selector: string (nullable = false)\n",
      " |-- 2020_05_04_selector: string (nullable = false)\n",
      " |-- 2020_05_11_selector: string (nullable = false)\n",
      " |-- 2020_05_18_selector: string (nullable = false)\n",
      " |-- 2020_05_25_selector: string (nullable = false)\n",
      " |-- 2020_06_01_selector: string (nullable = false)\n",
      " |-- 2020_06_08_selector: string (nullable = false)\n",
      " |-- 2020_06_15_selector: string (nullable = false)\n",
      " |-- 2020_06_22_selector: string (nullable = false)\n",
      " |-- 2020_06_29_selector: string (nullable = false)\n",
      " |-- 2020_07_06_selector: string (nullable = false)\n",
      " |-- 2020_07_13_selector: string (nullable = false)\n",
      " |-- 2020_07_20_selector: string (nullable = false)\n",
      " |-- 2020_07_27_selector: string (nullable = false)\n",
      " |-- 2020_08_03_selector: string (nullable = false)\n",
      " |-- 2020_08_10_selector: string (nullable = false)\n",
      " |-- 2020_08_17_selector: string (nullable = false)\n",
      " |-- 2020_08_24_selector: string (nullable = false)\n",
      " |-- 2020_08_31_selector: string (nullable = false)\n",
      " |-- 2020_09_07_selector: string (nullable = false)\n",
      " |-- 2020_09_14_selector: string (nullable = false)\n",
      " |-- t1: string (nullable = false)\n",
      " |-- t2: string (nullable = false)\n",
      " |-- t3: string (nullable = false)\n",
      " |-- t4: string (nullable = false)\n",
      " |-- t5: string (nullable = false)\n",
      " |-- t6: string (nullable = false)\n",
      " |-- t7: string (nullable = false)\n",
      " |-- t8: string (nullable = false)\n",
      " |-- t9: string (nullable = false)\n",
      " |-- t10: string (nullable = false)\n",
      " |-- t11: string (nullable = false)\n",
      " |-- t12: string (nullable = false)\n",
      " |-- t13: string (nullable = false)\n",
      " |-- t14: string (nullable = false)\n",
      " |-- t15: string (nullable = false)\n",
      " |-- t16: string (nullable = false)\n",
      " |-- t17: string (nullable = false)\n",
      " |-- t18: string (nullable = false)\n",
      " |-- t19: string (nullable = false)\n",
      " |-- t20: string (nullable = false)\n",
      " |-- t21: string (nullable = false)\n",
      " |-- t22: string (nullable = false)\n",
      " |-- t23: string (nullable = false)\n",
      " |-- t24: string (nullable = false)\n",
      " |-- t25: string (nullable = false)\n",
      " |-- t26: string (nullable = false)\n",
      " |-- t27: string (nullable = false)\n",
      " |-- t28: string (nullable = false)\n",
      " |-- t29: string (nullable = false)\n",
      " |-- t30: string (nullable = false)\n",
      " |-- t31: string (nullable = false)\n",
      " |-- t32: string (nullable = false)\n",
      " |-- t33: string (nullable = false)\n",
      " |-- t34: string (nullable = false)\n",
      " |-- t35: string (nullable = false)\n",
      " |-- t36: string (nullable = false)\n",
      " |-- t37: string (nullable = false)\n",
      " |-- t38: string (nullable = false)\n",
      " |-- t39: string (nullable = false)\n",
      " |-- t40: string (nullable = false)\n",
      " |-- t41: string (nullable = false)\n",
      " |-- t42: string (nullable = false)\n",
      " |-- t43: string (nullable = false)\n",
      " |-- t44: string (nullable = false)\n",
      " |-- t45: string (nullable = false)\n",
      " |-- t46: string (nullable = false)\n",
      " |-- t47: string (nullable = false)\n",
      " |-- t48: string (nullable = false)\n",
      " |-- t49: string (nullable = false)\n",
      " |-- t50: string (nullable = false)\n",
      " |-- t51: string (nullable = false)\n",
      " |-- t52: string (nullable = false)\n",
      " |-- t53: string (nullable = false)\n",
      " |-- t54: string (nullable = false)\n",
      " |-- t55: string (nullable = false)\n",
      " |-- t56: string (nullable = false)\n",
      " |-- t57: string (nullable = false)\n",
      " |-- t58: string (nullable = false)\n",
      " |-- t59: string (nullable = false)\n",
      " |-- t60: string (nullable = false)\n",
      " |-- t61: string (nullable = false)\n",
      " |-- t62: string (nullable = false)\n",
      " |-- t63: string (nullable = false)\n",
      " |-- t64: string (nullable = false)\n",
      " |-- t65: string (nullable = false)\n",
      " |-- t66: string (nullable = false)\n",
      " |-- t67: string (nullable = false)\n",
      " |-- t68: string (nullable = false)\n",
      " |-- t69: string (nullable = false)\n",
      " |-- t70: string (nullable = false)\n",
      " |-- t71: string (nullable = false)\n",
      " |-- t72: string (nullable = false)\n",
      " |-- t73: string (nullable = false)\n",
      " |-- t74: string (nullable = false)\n",
      " |-- t75: string (nullable = false)\n"
     ]
    },
    {
     "name": "stdout",
     "output_type": "stream",
     "text": [
      "\n"
     ]
    }
   ],
   "source": [
    "data_and_leaves_df.printSchema()"
   ]
  },
  {
   "cell_type": "code",
   "execution_count": 25,
   "metadata": {},
   "outputs": [],
   "source": [
    "data_and_leaves_df.write.saveAsTable(\"kdevries.data_and_leaves_df__analysis_2021_01_15\")"
   ]
  }
 ],
 "metadata": {
  "kernelspec": {
   "display_name": "PySpark",
   "language": "python",
   "name": "pyspark"
  },
  "language_info": {
   "codemirror_mode": {
    "name": "ipython",
    "version": 3
   },
   "file_extension": ".py",
   "mimetype": "text/x-python",
   "name": "python",
   "nbconvert_exporter": "python",
   "pygments_lexer": "ipython3",
   "version": "3.7.7"
  }
 },
 "nbformat": 4,
 "nbformat_minor": 4
}
